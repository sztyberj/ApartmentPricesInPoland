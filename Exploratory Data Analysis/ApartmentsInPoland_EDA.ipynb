{
  "nbformat": 4,
  "nbformat_minor": 0,
  "metadata": {
    "colab": {
      "name": "ApartmentsInPoland-EDA.ipynb",
      "provenance": [],
      "collapsed_sections": [],
      "toc_visible": true
    },
    "kernelspec": {
      "name": "python3",
      "display_name": "Python 3"
    },
    "language_info": {
      "name": "python"
    }
  },
  "cells": [
    {
      "cell_type": "markdown",
      "source": [
        "#Apartments in Poland - Exploratory Data Analyst"
      ],
      "metadata": {
        "id": "0r33cCbBsAAh"
      }
    },
    {
      "cell_type": "markdown",
      "source": [
        "##Importing libraries"
      ],
      "metadata": {
        "id": "Hs8PNd0qsJIG"
      }
    },
    {
      "cell_type": "code",
      "execution_count": 1,
      "metadata": {
        "id": "-uTXj3KIrmsy",
        "colab": {
          "base_uri": "https://localhost:8080/"
        },
        "outputId": "d7aabe0e-e0e7-4d02-c810-48e4d95b8510"
      },
      "outputs": [
        {
          "output_type": "stream",
          "name": "stdout",
          "text": [
            "Mounted at /content/gdrive\n"
          ]
        }
      ],
      "source": [
        "import pandas as pd\n",
        "import numpy as np\n",
        "import seaborn as sns\n",
        "from scipy import stats\n",
        "import matplotlib.pyplot as plt\n",
        "%matplotlib inline\n",
        "from google.colab import drive\n",
        "drive.mount('/content/gdrive')"
      ]
    },
    {
      "cell_type": "markdown",
      "source": [
        "##Getting data from GitHub"
      ],
      "metadata": {
        "id": "XGoaVDpyvM40"
      }
    },
    {
      "cell_type": "code",
      "source": [
        "url = 'https://raw.githubusercontent.com/sztyberj/ApartmentsPricesInPoland/main/Data%20Pre-Processing/apartments_prices_in_poland_050622.csv'\n",
        "data = pd.read_csv(url, sep=';')\n",
        "data"
      ],
      "metadata": {
        "colab": {
          "base_uri": "https://localhost:8080/",
          "height": 424
        },
        "id": "QqlVyiLxvYSH",
        "outputId": "4a93c3b6-447a-4496-9a9d-2d6c807bb965"
      },
      "execution_count": 2,
      "outputs": [
        {
          "output_type": "execute_result",
          "data": {
            "text/plain": [
              "      Unnamed: 0          City  Price [PLN]  Price/sqr_meter [PLN]  \\\n",
              "0           6746        Cracow    645000.00                9969.00   \n",
              "1           6775        Cracow    481948.32               10416.00   \n",
              "2           6774        Cracow    400599.00               11100.00   \n",
              "3           6773        Cracow    980000.00               12500.00   \n",
              "4           6772        Cracow    694000.00               13950.00   \n",
              "...          ...           ...          ...                    ...   \n",
              "7041        3179  Zielona Gora    549000.00                8218.56   \n",
              "7042        3180  Zielona Gora    489000.00                7606.16   \n",
              "7043        3181  Zielona Gora    355000.00                9220.78   \n",
              "7044        3173  Zielona Gora    379000.00                8813.95   \n",
              "7045        9188  Zielona Gora    549000.00                7320.00   \n",
              "\n",
              "      Area [m^2]  Rooms  Level  \n",
              "0          64.70    3.0    0.0  \n",
              "1          46.27    3.0    5.0  \n",
              "2          36.09    2.0    1.0  \n",
              "3          78.40    3.0    5.0  \n",
              "4          49.75    3.0    3.0  \n",
              "...          ...    ...    ...  \n",
              "7041       66.80    3.0    1.0  \n",
              "7042       64.29    3.0    1.0  \n",
              "7043       38.50    2.0    2.0  \n",
              "7044       43.00    2.0    1.0  \n",
              "7045       75.00    3.0    0.0  \n",
              "\n",
              "[7046 rows x 7 columns]"
            ],
            "text/html": [
              "\n",
              "  <div id=\"df-396998fc-95f4-4de8-9b52-3e1551567576\">\n",
              "    <div class=\"colab-df-container\">\n",
              "      <div>\n",
              "<style scoped>\n",
              "    .dataframe tbody tr th:only-of-type {\n",
              "        vertical-align: middle;\n",
              "    }\n",
              "\n",
              "    .dataframe tbody tr th {\n",
              "        vertical-align: top;\n",
              "    }\n",
              "\n",
              "    .dataframe thead th {\n",
              "        text-align: right;\n",
              "    }\n",
              "</style>\n",
              "<table border=\"1\" class=\"dataframe\">\n",
              "  <thead>\n",
              "    <tr style=\"text-align: right;\">\n",
              "      <th></th>\n",
              "      <th>Unnamed: 0</th>\n",
              "      <th>City</th>\n",
              "      <th>Price [PLN]</th>\n",
              "      <th>Price/sqr_meter [PLN]</th>\n",
              "      <th>Area [m^2]</th>\n",
              "      <th>Rooms</th>\n",
              "      <th>Level</th>\n",
              "    </tr>\n",
              "  </thead>\n",
              "  <tbody>\n",
              "    <tr>\n",
              "      <th>0</th>\n",
              "      <td>6746</td>\n",
              "      <td>Cracow</td>\n",
              "      <td>645000.00</td>\n",
              "      <td>9969.00</td>\n",
              "      <td>64.70</td>\n",
              "      <td>3.0</td>\n",
              "      <td>0.0</td>\n",
              "    </tr>\n",
              "    <tr>\n",
              "      <th>1</th>\n",
              "      <td>6775</td>\n",
              "      <td>Cracow</td>\n",
              "      <td>481948.32</td>\n",
              "      <td>10416.00</td>\n",
              "      <td>46.27</td>\n",
              "      <td>3.0</td>\n",
              "      <td>5.0</td>\n",
              "    </tr>\n",
              "    <tr>\n",
              "      <th>2</th>\n",
              "      <td>6774</td>\n",
              "      <td>Cracow</td>\n",
              "      <td>400599.00</td>\n",
              "      <td>11100.00</td>\n",
              "      <td>36.09</td>\n",
              "      <td>2.0</td>\n",
              "      <td>1.0</td>\n",
              "    </tr>\n",
              "    <tr>\n",
              "      <th>3</th>\n",
              "      <td>6773</td>\n",
              "      <td>Cracow</td>\n",
              "      <td>980000.00</td>\n",
              "      <td>12500.00</td>\n",
              "      <td>78.40</td>\n",
              "      <td>3.0</td>\n",
              "      <td>5.0</td>\n",
              "    </tr>\n",
              "    <tr>\n",
              "      <th>4</th>\n",
              "      <td>6772</td>\n",
              "      <td>Cracow</td>\n",
              "      <td>694000.00</td>\n",
              "      <td>13950.00</td>\n",
              "      <td>49.75</td>\n",
              "      <td>3.0</td>\n",
              "      <td>3.0</td>\n",
              "    </tr>\n",
              "    <tr>\n",
              "      <th>...</th>\n",
              "      <td>...</td>\n",
              "      <td>...</td>\n",
              "      <td>...</td>\n",
              "      <td>...</td>\n",
              "      <td>...</td>\n",
              "      <td>...</td>\n",
              "      <td>...</td>\n",
              "    </tr>\n",
              "    <tr>\n",
              "      <th>7041</th>\n",
              "      <td>3179</td>\n",
              "      <td>Zielona Gora</td>\n",
              "      <td>549000.00</td>\n",
              "      <td>8218.56</td>\n",
              "      <td>66.80</td>\n",
              "      <td>3.0</td>\n",
              "      <td>1.0</td>\n",
              "    </tr>\n",
              "    <tr>\n",
              "      <th>7042</th>\n",
              "      <td>3180</td>\n",
              "      <td>Zielona Gora</td>\n",
              "      <td>489000.00</td>\n",
              "      <td>7606.16</td>\n",
              "      <td>64.29</td>\n",
              "      <td>3.0</td>\n",
              "      <td>1.0</td>\n",
              "    </tr>\n",
              "    <tr>\n",
              "      <th>7043</th>\n",
              "      <td>3181</td>\n",
              "      <td>Zielona Gora</td>\n",
              "      <td>355000.00</td>\n",
              "      <td>9220.78</td>\n",
              "      <td>38.50</td>\n",
              "      <td>2.0</td>\n",
              "      <td>2.0</td>\n",
              "    </tr>\n",
              "    <tr>\n",
              "      <th>7044</th>\n",
              "      <td>3173</td>\n",
              "      <td>Zielona Gora</td>\n",
              "      <td>379000.00</td>\n",
              "      <td>8813.95</td>\n",
              "      <td>43.00</td>\n",
              "      <td>2.0</td>\n",
              "      <td>1.0</td>\n",
              "    </tr>\n",
              "    <tr>\n",
              "      <th>7045</th>\n",
              "      <td>9188</td>\n",
              "      <td>Zielona Gora</td>\n",
              "      <td>549000.00</td>\n",
              "      <td>7320.00</td>\n",
              "      <td>75.00</td>\n",
              "      <td>3.0</td>\n",
              "      <td>0.0</td>\n",
              "    </tr>\n",
              "  </tbody>\n",
              "</table>\n",
              "<p>7046 rows × 7 columns</p>\n",
              "</div>\n",
              "      <button class=\"colab-df-convert\" onclick=\"convertToInteractive('df-396998fc-95f4-4de8-9b52-3e1551567576')\"\n",
              "              title=\"Convert this dataframe to an interactive table.\"\n",
              "              style=\"display:none;\">\n",
              "        \n",
              "  <svg xmlns=\"http://www.w3.org/2000/svg\" height=\"24px\"viewBox=\"0 0 24 24\"\n",
              "       width=\"24px\">\n",
              "    <path d=\"M0 0h24v24H0V0z\" fill=\"none\"/>\n",
              "    <path d=\"M18.56 5.44l.94 2.06.94-2.06 2.06-.94-2.06-.94-.94-2.06-.94 2.06-2.06.94zm-11 1L8.5 8.5l.94-2.06 2.06-.94-2.06-.94L8.5 2.5l-.94 2.06-2.06.94zm10 10l.94 2.06.94-2.06 2.06-.94-2.06-.94-.94-2.06-.94 2.06-2.06.94z\"/><path d=\"M17.41 7.96l-1.37-1.37c-.4-.4-.92-.59-1.43-.59-.52 0-1.04.2-1.43.59L10.3 9.45l-7.72 7.72c-.78.78-.78 2.05 0 2.83L4 21.41c.39.39.9.59 1.41.59.51 0 1.02-.2 1.41-.59l7.78-7.78 2.81-2.81c.8-.78.8-2.07 0-2.86zM5.41 20L4 18.59l7.72-7.72 1.47 1.35L5.41 20z\"/>\n",
              "  </svg>\n",
              "      </button>\n",
              "      \n",
              "  <style>\n",
              "    .colab-df-container {\n",
              "      display:flex;\n",
              "      flex-wrap:wrap;\n",
              "      gap: 12px;\n",
              "    }\n",
              "\n",
              "    .colab-df-convert {\n",
              "      background-color: #E8F0FE;\n",
              "      border: none;\n",
              "      border-radius: 50%;\n",
              "      cursor: pointer;\n",
              "      display: none;\n",
              "      fill: #1967D2;\n",
              "      height: 32px;\n",
              "      padding: 0 0 0 0;\n",
              "      width: 32px;\n",
              "    }\n",
              "\n",
              "    .colab-df-convert:hover {\n",
              "      background-color: #E2EBFA;\n",
              "      box-shadow: 0px 1px 2px rgba(60, 64, 67, 0.3), 0px 1px 3px 1px rgba(60, 64, 67, 0.15);\n",
              "      fill: #174EA6;\n",
              "    }\n",
              "\n",
              "    [theme=dark] .colab-df-convert {\n",
              "      background-color: #3B4455;\n",
              "      fill: #D2E3FC;\n",
              "    }\n",
              "\n",
              "    [theme=dark] .colab-df-convert:hover {\n",
              "      background-color: #434B5C;\n",
              "      box-shadow: 0px 1px 3px 1px rgba(0, 0, 0, 0.15);\n",
              "      filter: drop-shadow(0px 1px 2px rgba(0, 0, 0, 0.3));\n",
              "      fill: #FFFFFF;\n",
              "    }\n",
              "  </style>\n",
              "\n",
              "      <script>\n",
              "        const buttonEl =\n",
              "          document.querySelector('#df-396998fc-95f4-4de8-9b52-3e1551567576 button.colab-df-convert');\n",
              "        buttonEl.style.display =\n",
              "          google.colab.kernel.accessAllowed ? 'block' : 'none';\n",
              "\n",
              "        async function convertToInteractive(key) {\n",
              "          const element = document.querySelector('#df-396998fc-95f4-4de8-9b52-3e1551567576');\n",
              "          const dataTable =\n",
              "            await google.colab.kernel.invokeFunction('convertToInteractive',\n",
              "                                                     [key], {});\n",
              "          if (!dataTable) return;\n",
              "\n",
              "          const docLinkHtml = 'Like what you see? Visit the ' +\n",
              "            '<a target=\"_blank\" href=https://colab.research.google.com/notebooks/data_table.ipynb>data table notebook</a>'\n",
              "            + ' to learn more about interactive tables.';\n",
              "          element.innerHTML = '';\n",
              "          dataTable['output_type'] = 'display_data';\n",
              "          await google.colab.output.renderOutput(dataTable, element);\n",
              "          const docLink = document.createElement('div');\n",
              "          docLink.innerHTML = docLinkHtml;\n",
              "          element.appendChild(docLink);\n",
              "        }\n",
              "      </script>\n",
              "    </div>\n",
              "  </div>\n",
              "  "
            ]
          },
          "metadata": {},
          "execution_count": 2
        }
      ]
    },
    {
      "cell_type": "markdown",
      "source": [
        "##Clearing data"
      ],
      "metadata": {
        "id": "41Sps5dUwpXu"
      }
    },
    {
      "cell_type": "code",
      "source": [
        "#Delete Unnamed column\n",
        "del data['Unnamed: 0']\n",
        "\n",
        "data.head(5)"
      ],
      "metadata": {
        "colab": {
          "base_uri": "https://localhost:8080/",
          "height": 206
        },
        "id": "ktHzM4VMws8l",
        "outputId": "2c347d0b-3aca-4713-e8d4-3e69912e0162"
      },
      "execution_count": 3,
      "outputs": [
        {
          "output_type": "execute_result",
          "data": {
            "text/plain": [
              "     City  Price [PLN]  Price/sqr_meter [PLN]  Area [m^2]  Rooms  Level\n",
              "0  Cracow    645000.00                 9969.0       64.70    3.0    0.0\n",
              "1  Cracow    481948.32                10416.0       46.27    3.0    5.0\n",
              "2  Cracow    400599.00                11100.0       36.09    2.0    1.0\n",
              "3  Cracow    980000.00                12500.0       78.40    3.0    5.0\n",
              "4  Cracow    694000.00                13950.0       49.75    3.0    3.0"
            ],
            "text/html": [
              "\n",
              "  <div id=\"df-6a36ba29-1507-440d-92d4-fac4111b8e74\">\n",
              "    <div class=\"colab-df-container\">\n",
              "      <div>\n",
              "<style scoped>\n",
              "    .dataframe tbody tr th:only-of-type {\n",
              "        vertical-align: middle;\n",
              "    }\n",
              "\n",
              "    .dataframe tbody tr th {\n",
              "        vertical-align: top;\n",
              "    }\n",
              "\n",
              "    .dataframe thead th {\n",
              "        text-align: right;\n",
              "    }\n",
              "</style>\n",
              "<table border=\"1\" class=\"dataframe\">\n",
              "  <thead>\n",
              "    <tr style=\"text-align: right;\">\n",
              "      <th></th>\n",
              "      <th>City</th>\n",
              "      <th>Price [PLN]</th>\n",
              "      <th>Price/sqr_meter [PLN]</th>\n",
              "      <th>Area [m^2]</th>\n",
              "      <th>Rooms</th>\n",
              "      <th>Level</th>\n",
              "    </tr>\n",
              "  </thead>\n",
              "  <tbody>\n",
              "    <tr>\n",
              "      <th>0</th>\n",
              "      <td>Cracow</td>\n",
              "      <td>645000.00</td>\n",
              "      <td>9969.0</td>\n",
              "      <td>64.70</td>\n",
              "      <td>3.0</td>\n",
              "      <td>0.0</td>\n",
              "    </tr>\n",
              "    <tr>\n",
              "      <th>1</th>\n",
              "      <td>Cracow</td>\n",
              "      <td>481948.32</td>\n",
              "      <td>10416.0</td>\n",
              "      <td>46.27</td>\n",
              "      <td>3.0</td>\n",
              "      <td>5.0</td>\n",
              "    </tr>\n",
              "    <tr>\n",
              "      <th>2</th>\n",
              "      <td>Cracow</td>\n",
              "      <td>400599.00</td>\n",
              "      <td>11100.0</td>\n",
              "      <td>36.09</td>\n",
              "      <td>2.0</td>\n",
              "      <td>1.0</td>\n",
              "    </tr>\n",
              "    <tr>\n",
              "      <th>3</th>\n",
              "      <td>Cracow</td>\n",
              "      <td>980000.00</td>\n",
              "      <td>12500.0</td>\n",
              "      <td>78.40</td>\n",
              "      <td>3.0</td>\n",
              "      <td>5.0</td>\n",
              "    </tr>\n",
              "    <tr>\n",
              "      <th>4</th>\n",
              "      <td>Cracow</td>\n",
              "      <td>694000.00</td>\n",
              "      <td>13950.0</td>\n",
              "      <td>49.75</td>\n",
              "      <td>3.0</td>\n",
              "      <td>3.0</td>\n",
              "    </tr>\n",
              "  </tbody>\n",
              "</table>\n",
              "</div>\n",
              "      <button class=\"colab-df-convert\" onclick=\"convertToInteractive('df-6a36ba29-1507-440d-92d4-fac4111b8e74')\"\n",
              "              title=\"Convert this dataframe to an interactive table.\"\n",
              "              style=\"display:none;\">\n",
              "        \n",
              "  <svg xmlns=\"http://www.w3.org/2000/svg\" height=\"24px\"viewBox=\"0 0 24 24\"\n",
              "       width=\"24px\">\n",
              "    <path d=\"M0 0h24v24H0V0z\" fill=\"none\"/>\n",
              "    <path d=\"M18.56 5.44l.94 2.06.94-2.06 2.06-.94-2.06-.94-.94-2.06-.94 2.06-2.06.94zm-11 1L8.5 8.5l.94-2.06 2.06-.94-2.06-.94L8.5 2.5l-.94 2.06-2.06.94zm10 10l.94 2.06.94-2.06 2.06-.94-2.06-.94-.94-2.06-.94 2.06-2.06.94z\"/><path d=\"M17.41 7.96l-1.37-1.37c-.4-.4-.92-.59-1.43-.59-.52 0-1.04.2-1.43.59L10.3 9.45l-7.72 7.72c-.78.78-.78 2.05 0 2.83L4 21.41c.39.39.9.59 1.41.59.51 0 1.02-.2 1.41-.59l7.78-7.78 2.81-2.81c.8-.78.8-2.07 0-2.86zM5.41 20L4 18.59l7.72-7.72 1.47 1.35L5.41 20z\"/>\n",
              "  </svg>\n",
              "      </button>\n",
              "      \n",
              "  <style>\n",
              "    .colab-df-container {\n",
              "      display:flex;\n",
              "      flex-wrap:wrap;\n",
              "      gap: 12px;\n",
              "    }\n",
              "\n",
              "    .colab-df-convert {\n",
              "      background-color: #E8F0FE;\n",
              "      border: none;\n",
              "      border-radius: 50%;\n",
              "      cursor: pointer;\n",
              "      display: none;\n",
              "      fill: #1967D2;\n",
              "      height: 32px;\n",
              "      padding: 0 0 0 0;\n",
              "      width: 32px;\n",
              "    }\n",
              "\n",
              "    .colab-df-convert:hover {\n",
              "      background-color: #E2EBFA;\n",
              "      box-shadow: 0px 1px 2px rgba(60, 64, 67, 0.3), 0px 1px 3px 1px rgba(60, 64, 67, 0.15);\n",
              "      fill: #174EA6;\n",
              "    }\n",
              "\n",
              "    [theme=dark] .colab-df-convert {\n",
              "      background-color: #3B4455;\n",
              "      fill: #D2E3FC;\n",
              "    }\n",
              "\n",
              "    [theme=dark] .colab-df-convert:hover {\n",
              "      background-color: #434B5C;\n",
              "      box-shadow: 0px 1px 3px 1px rgba(0, 0, 0, 0.15);\n",
              "      filter: drop-shadow(0px 1px 2px rgba(0, 0, 0, 0.3));\n",
              "      fill: #FFFFFF;\n",
              "    }\n",
              "  </style>\n",
              "\n",
              "      <script>\n",
              "        const buttonEl =\n",
              "          document.querySelector('#df-6a36ba29-1507-440d-92d4-fac4111b8e74 button.colab-df-convert');\n",
              "        buttonEl.style.display =\n",
              "          google.colab.kernel.accessAllowed ? 'block' : 'none';\n",
              "\n",
              "        async function convertToInteractive(key) {\n",
              "          const element = document.querySelector('#df-6a36ba29-1507-440d-92d4-fac4111b8e74');\n",
              "          const dataTable =\n",
              "            await google.colab.kernel.invokeFunction('convertToInteractive',\n",
              "                                                     [key], {});\n",
              "          if (!dataTable) return;\n",
              "\n",
              "          const docLinkHtml = 'Like what you see? Visit the ' +\n",
              "            '<a target=\"_blank\" href=https://colab.research.google.com/notebooks/data_table.ipynb>data table notebook</a>'\n",
              "            + ' to learn more about interactive tables.';\n",
              "          element.innerHTML = '';\n",
              "          dataTable['output_type'] = 'display_data';\n",
              "          await google.colab.output.renderOutput(dataTable, element);\n",
              "          const docLink = document.createElement('div');\n",
              "          docLink.innerHTML = docLinkHtml;\n",
              "          element.appendChild(docLink);\n",
              "        }\n",
              "      </script>\n",
              "    </div>\n",
              "  </div>\n",
              "  "
            ]
          },
          "metadata": {},
          "execution_count": 3
        }
      ]
    },
    {
      "cell_type": "code",
      "source": [
        "#Check nulls\n",
        "data.isna().sum()"
      ],
      "metadata": {
        "colab": {
          "base_uri": "https://localhost:8080/"
        },
        "id": "YLb8WNqLw13n",
        "outputId": "b40d9797-17c5-46ce-c285-1f75a00e6bd8"
      },
      "execution_count": 4,
      "outputs": [
        {
          "output_type": "execute_result",
          "data": {
            "text/plain": [
              "City                     0\n",
              "Price [PLN]              0\n",
              "Price/sqr_meter [PLN]    0\n",
              "Area [m^2]               0\n",
              "Rooms                    0\n",
              "Level                    0\n",
              "dtype: int64"
            ]
          },
          "metadata": {},
          "execution_count": 4
        }
      ]
    },
    {
      "cell_type": "markdown",
      "source": [
        "##Describing data"
      ],
      "metadata": {
        "id": "pEk8ihkjxDWH"
      }
    },
    {
      "cell_type": "code",
      "source": [
        "data.dtypes"
      ],
      "metadata": {
        "colab": {
          "base_uri": "https://localhost:8080/"
        },
        "id": "BShYE55wxO0Q",
        "outputId": "6b070f5f-93e4-4fbd-b2ce-5db2700d41c7"
      },
      "execution_count": 5,
      "outputs": [
        {
          "output_type": "execute_result",
          "data": {
            "text/plain": [
              "City                      object\n",
              "Price [PLN]              float64\n",
              "Price/sqr_meter [PLN]    float64\n",
              "Area [m^2]               float64\n",
              "Rooms                    float64\n",
              "Level                    float64\n",
              "dtype: object"
            ]
          },
          "metadata": {},
          "execution_count": 5
        }
      ]
    },
    {
      "cell_type": "code",
      "source": [
        "data.info()"
      ],
      "metadata": {
        "colab": {
          "base_uri": "https://localhost:8080/"
        },
        "id": "zI1Mzvb-xd-8",
        "outputId": "75759bf7-8c60-4514-b1a3-8fc94de32a92"
      },
      "execution_count": 6,
      "outputs": [
        {
          "output_type": "stream",
          "name": "stdout",
          "text": [
            "<class 'pandas.core.frame.DataFrame'>\n",
            "RangeIndex: 7046 entries, 0 to 7045\n",
            "Data columns (total 6 columns):\n",
            " #   Column                 Non-Null Count  Dtype  \n",
            "---  ------                 --------------  -----  \n",
            " 0   City                   7046 non-null   object \n",
            " 1   Price [PLN]            7046 non-null   float64\n",
            " 2   Price/sqr_meter [PLN]  7046 non-null   float64\n",
            " 3   Area [m^2]             7046 non-null   float64\n",
            " 4   Rooms                  7046 non-null   float64\n",
            " 5   Level                  7046 non-null   float64\n",
            "dtypes: float64(5), object(1)\n",
            "memory usage: 330.4+ KB\n"
          ]
        }
      ]
    },
    {
      "cell_type": "code",
      "source": [
        "data.describe()"
      ],
      "metadata": {
        "colab": {
          "base_uri": "https://localhost:8080/",
          "height": 300
        },
        "id": "NfAp-fbQxk_p",
        "outputId": "73b0cd39-a618-430b-e03f-b0861d1870f8"
      },
      "execution_count": 7,
      "outputs": [
        {
          "output_type": "execute_result",
          "data": {
            "text/plain": [
              "        Price [PLN]  Price/sqr_meter [PLN]   Area [m^2]        Rooms  \\\n",
              "count  7.046000e+03            7046.000000  7046.000000  7046.000000   \n",
              "mean   6.291798e+05           11036.755335    57.178071     2.591967   \n",
              "std    9.005424e+05            3825.994411    24.737771     0.934620   \n",
              "min    7.600000e+03              33.130000    12.700000     1.000000   \n",
              "25%    4.299250e+05            8666.752500    42.252500     2.000000   \n",
              "50%    5.487145e+05           10450.000000    53.000000     3.000000   \n",
              "75%    6.990000e+05           12640.000000    66.000000     3.000000   \n",
              "max    6.908571e+07           42692.000000   578.000000    10.000000   \n",
              "\n",
              "             Level  \n",
              "count  7046.000000  \n",
              "mean      2.575504  \n",
              "std       2.376722  \n",
              "min      -0.500000  \n",
              "25%       1.000000  \n",
              "50%       2.000000  \n",
              "75%       4.000000  \n",
              "max      11.000000  "
            ],
            "text/html": [
              "\n",
              "  <div id=\"df-1cf3eecc-fd5e-4f4d-a8c1-6fe62c703503\">\n",
              "    <div class=\"colab-df-container\">\n",
              "      <div>\n",
              "<style scoped>\n",
              "    .dataframe tbody tr th:only-of-type {\n",
              "        vertical-align: middle;\n",
              "    }\n",
              "\n",
              "    .dataframe tbody tr th {\n",
              "        vertical-align: top;\n",
              "    }\n",
              "\n",
              "    .dataframe thead th {\n",
              "        text-align: right;\n",
              "    }\n",
              "</style>\n",
              "<table border=\"1\" class=\"dataframe\">\n",
              "  <thead>\n",
              "    <tr style=\"text-align: right;\">\n",
              "      <th></th>\n",
              "      <th>Price [PLN]</th>\n",
              "      <th>Price/sqr_meter [PLN]</th>\n",
              "      <th>Area [m^2]</th>\n",
              "      <th>Rooms</th>\n",
              "      <th>Level</th>\n",
              "    </tr>\n",
              "  </thead>\n",
              "  <tbody>\n",
              "    <tr>\n",
              "      <th>count</th>\n",
              "      <td>7.046000e+03</td>\n",
              "      <td>7046.000000</td>\n",
              "      <td>7046.000000</td>\n",
              "      <td>7046.000000</td>\n",
              "      <td>7046.000000</td>\n",
              "    </tr>\n",
              "    <tr>\n",
              "      <th>mean</th>\n",
              "      <td>6.291798e+05</td>\n",
              "      <td>11036.755335</td>\n",
              "      <td>57.178071</td>\n",
              "      <td>2.591967</td>\n",
              "      <td>2.575504</td>\n",
              "    </tr>\n",
              "    <tr>\n",
              "      <th>std</th>\n",
              "      <td>9.005424e+05</td>\n",
              "      <td>3825.994411</td>\n",
              "      <td>24.737771</td>\n",
              "      <td>0.934620</td>\n",
              "      <td>2.376722</td>\n",
              "    </tr>\n",
              "    <tr>\n",
              "      <th>min</th>\n",
              "      <td>7.600000e+03</td>\n",
              "      <td>33.130000</td>\n",
              "      <td>12.700000</td>\n",
              "      <td>1.000000</td>\n",
              "      <td>-0.500000</td>\n",
              "    </tr>\n",
              "    <tr>\n",
              "      <th>25%</th>\n",
              "      <td>4.299250e+05</td>\n",
              "      <td>8666.752500</td>\n",
              "      <td>42.252500</td>\n",
              "      <td>2.000000</td>\n",
              "      <td>1.000000</td>\n",
              "    </tr>\n",
              "    <tr>\n",
              "      <th>50%</th>\n",
              "      <td>5.487145e+05</td>\n",
              "      <td>10450.000000</td>\n",
              "      <td>53.000000</td>\n",
              "      <td>3.000000</td>\n",
              "      <td>2.000000</td>\n",
              "    </tr>\n",
              "    <tr>\n",
              "      <th>75%</th>\n",
              "      <td>6.990000e+05</td>\n",
              "      <td>12640.000000</td>\n",
              "      <td>66.000000</td>\n",
              "      <td>3.000000</td>\n",
              "      <td>4.000000</td>\n",
              "    </tr>\n",
              "    <tr>\n",
              "      <th>max</th>\n",
              "      <td>6.908571e+07</td>\n",
              "      <td>42692.000000</td>\n",
              "      <td>578.000000</td>\n",
              "      <td>10.000000</td>\n",
              "      <td>11.000000</td>\n",
              "    </tr>\n",
              "  </tbody>\n",
              "</table>\n",
              "</div>\n",
              "      <button class=\"colab-df-convert\" onclick=\"convertToInteractive('df-1cf3eecc-fd5e-4f4d-a8c1-6fe62c703503')\"\n",
              "              title=\"Convert this dataframe to an interactive table.\"\n",
              "              style=\"display:none;\">\n",
              "        \n",
              "  <svg xmlns=\"http://www.w3.org/2000/svg\" height=\"24px\"viewBox=\"0 0 24 24\"\n",
              "       width=\"24px\">\n",
              "    <path d=\"M0 0h24v24H0V0z\" fill=\"none\"/>\n",
              "    <path d=\"M18.56 5.44l.94 2.06.94-2.06 2.06-.94-2.06-.94-.94-2.06-.94 2.06-2.06.94zm-11 1L8.5 8.5l.94-2.06 2.06-.94-2.06-.94L8.5 2.5l-.94 2.06-2.06.94zm10 10l.94 2.06.94-2.06 2.06-.94-2.06-.94-.94-2.06-.94 2.06-2.06.94z\"/><path d=\"M17.41 7.96l-1.37-1.37c-.4-.4-.92-.59-1.43-.59-.52 0-1.04.2-1.43.59L10.3 9.45l-7.72 7.72c-.78.78-.78 2.05 0 2.83L4 21.41c.39.39.9.59 1.41.59.51 0 1.02-.2 1.41-.59l7.78-7.78 2.81-2.81c.8-.78.8-2.07 0-2.86zM5.41 20L4 18.59l7.72-7.72 1.47 1.35L5.41 20z\"/>\n",
              "  </svg>\n",
              "      </button>\n",
              "      \n",
              "  <style>\n",
              "    .colab-df-container {\n",
              "      display:flex;\n",
              "      flex-wrap:wrap;\n",
              "      gap: 12px;\n",
              "    }\n",
              "\n",
              "    .colab-df-convert {\n",
              "      background-color: #E8F0FE;\n",
              "      border: none;\n",
              "      border-radius: 50%;\n",
              "      cursor: pointer;\n",
              "      display: none;\n",
              "      fill: #1967D2;\n",
              "      height: 32px;\n",
              "      padding: 0 0 0 0;\n",
              "      width: 32px;\n",
              "    }\n",
              "\n",
              "    .colab-df-convert:hover {\n",
              "      background-color: #E2EBFA;\n",
              "      box-shadow: 0px 1px 2px rgba(60, 64, 67, 0.3), 0px 1px 3px 1px rgba(60, 64, 67, 0.15);\n",
              "      fill: #174EA6;\n",
              "    }\n",
              "\n",
              "    [theme=dark] .colab-df-convert {\n",
              "      background-color: #3B4455;\n",
              "      fill: #D2E3FC;\n",
              "    }\n",
              "\n",
              "    [theme=dark] .colab-df-convert:hover {\n",
              "      background-color: #434B5C;\n",
              "      box-shadow: 0px 1px 3px 1px rgba(0, 0, 0, 0.15);\n",
              "      filter: drop-shadow(0px 1px 2px rgba(0, 0, 0, 0.3));\n",
              "      fill: #FFFFFF;\n",
              "    }\n",
              "  </style>\n",
              "\n",
              "      <script>\n",
              "        const buttonEl =\n",
              "          document.querySelector('#df-1cf3eecc-fd5e-4f4d-a8c1-6fe62c703503 button.colab-df-convert');\n",
              "        buttonEl.style.display =\n",
              "          google.colab.kernel.accessAllowed ? 'block' : 'none';\n",
              "\n",
              "        async function convertToInteractive(key) {\n",
              "          const element = document.querySelector('#df-1cf3eecc-fd5e-4f4d-a8c1-6fe62c703503');\n",
              "          const dataTable =\n",
              "            await google.colab.kernel.invokeFunction('convertToInteractive',\n",
              "                                                     [key], {});\n",
              "          if (!dataTable) return;\n",
              "\n",
              "          const docLinkHtml = 'Like what you see? Visit the ' +\n",
              "            '<a target=\"_blank\" href=https://colab.research.google.com/notebooks/data_table.ipynb>data table notebook</a>'\n",
              "            + ' to learn more about interactive tables.';\n",
              "          element.innerHTML = '';\n",
              "          dataTable['output_type'] = 'display_data';\n",
              "          await google.colab.output.renderOutput(dataTable, element);\n",
              "          const docLink = document.createElement('div');\n",
              "          docLink.innerHTML = docLinkHtml;\n",
              "          element.appendChild(docLink);\n",
              "        }\n",
              "      </script>\n",
              "    </div>\n",
              "  </div>\n",
              "  "
            ]
          },
          "metadata": {},
          "execution_count": 7
        }
      ]
    },
    {
      "cell_type": "markdown",
      "source": [
        "**Disable scientific notation**"
      ],
      "metadata": {
        "id": "kgQn7ZkJy6CA"
      }
    },
    {
      "cell_type": "code",
      "source": [
        "pd.set_option('display.float_format', lambda x: '%.3f' % x)"
      ],
      "metadata": {
        "id": "hYpO7JOTx5mc"
      },
      "execution_count": 8,
      "outputs": []
    },
    {
      "cell_type": "code",
      "source": [
        "data.describe()"
      ],
      "metadata": {
        "colab": {
          "base_uri": "https://localhost:8080/",
          "height": 300
        },
        "id": "kWqMQ73vyC1e",
        "outputId": "dbf75405-e750-4504-afab-809ca98f15e4"
      },
      "execution_count": 9,
      "outputs": [
        {
          "output_type": "execute_result",
          "data": {
            "text/plain": [
              "       Price [PLN]  Price/sqr_meter [PLN]  Area [m^2]    Rooms    Level\n",
              "count     7046.000               7046.000    7046.000 7046.000 7046.000\n",
              "mean    629179.784              11036.755      57.178    2.592    2.576\n",
              "std     900542.434               3825.994      24.738    0.935    2.377\n",
              "min       7600.000                 33.130      12.700    1.000   -0.500\n",
              "25%     429925.000               8666.753      42.252    2.000    1.000\n",
              "50%     548714.500              10450.000      53.000    3.000    2.000\n",
              "75%     699000.000              12640.000      66.000    3.000    4.000\n",
              "max   69085710.000              42692.000     578.000   10.000   11.000"
            ],
            "text/html": [
              "\n",
              "  <div id=\"df-82a218b7-7503-4973-98ff-3f4180d2582a\">\n",
              "    <div class=\"colab-df-container\">\n",
              "      <div>\n",
              "<style scoped>\n",
              "    .dataframe tbody tr th:only-of-type {\n",
              "        vertical-align: middle;\n",
              "    }\n",
              "\n",
              "    .dataframe tbody tr th {\n",
              "        vertical-align: top;\n",
              "    }\n",
              "\n",
              "    .dataframe thead th {\n",
              "        text-align: right;\n",
              "    }\n",
              "</style>\n",
              "<table border=\"1\" class=\"dataframe\">\n",
              "  <thead>\n",
              "    <tr style=\"text-align: right;\">\n",
              "      <th></th>\n",
              "      <th>Price [PLN]</th>\n",
              "      <th>Price/sqr_meter [PLN]</th>\n",
              "      <th>Area [m^2]</th>\n",
              "      <th>Rooms</th>\n",
              "      <th>Level</th>\n",
              "    </tr>\n",
              "  </thead>\n",
              "  <tbody>\n",
              "    <tr>\n",
              "      <th>count</th>\n",
              "      <td>7046.000</td>\n",
              "      <td>7046.000</td>\n",
              "      <td>7046.000</td>\n",
              "      <td>7046.000</td>\n",
              "      <td>7046.000</td>\n",
              "    </tr>\n",
              "    <tr>\n",
              "      <th>mean</th>\n",
              "      <td>629179.784</td>\n",
              "      <td>11036.755</td>\n",
              "      <td>57.178</td>\n",
              "      <td>2.592</td>\n",
              "      <td>2.576</td>\n",
              "    </tr>\n",
              "    <tr>\n",
              "      <th>std</th>\n",
              "      <td>900542.434</td>\n",
              "      <td>3825.994</td>\n",
              "      <td>24.738</td>\n",
              "      <td>0.935</td>\n",
              "      <td>2.377</td>\n",
              "    </tr>\n",
              "    <tr>\n",
              "      <th>min</th>\n",
              "      <td>7600.000</td>\n",
              "      <td>33.130</td>\n",
              "      <td>12.700</td>\n",
              "      <td>1.000</td>\n",
              "      <td>-0.500</td>\n",
              "    </tr>\n",
              "    <tr>\n",
              "      <th>25%</th>\n",
              "      <td>429925.000</td>\n",
              "      <td>8666.753</td>\n",
              "      <td>42.252</td>\n",
              "      <td>2.000</td>\n",
              "      <td>1.000</td>\n",
              "    </tr>\n",
              "    <tr>\n",
              "      <th>50%</th>\n",
              "      <td>548714.500</td>\n",
              "      <td>10450.000</td>\n",
              "      <td>53.000</td>\n",
              "      <td>3.000</td>\n",
              "      <td>2.000</td>\n",
              "    </tr>\n",
              "    <tr>\n",
              "      <th>75%</th>\n",
              "      <td>699000.000</td>\n",
              "      <td>12640.000</td>\n",
              "      <td>66.000</td>\n",
              "      <td>3.000</td>\n",
              "      <td>4.000</td>\n",
              "    </tr>\n",
              "    <tr>\n",
              "      <th>max</th>\n",
              "      <td>69085710.000</td>\n",
              "      <td>42692.000</td>\n",
              "      <td>578.000</td>\n",
              "      <td>10.000</td>\n",
              "      <td>11.000</td>\n",
              "    </tr>\n",
              "  </tbody>\n",
              "</table>\n",
              "</div>\n",
              "      <button class=\"colab-df-convert\" onclick=\"convertToInteractive('df-82a218b7-7503-4973-98ff-3f4180d2582a')\"\n",
              "              title=\"Convert this dataframe to an interactive table.\"\n",
              "              style=\"display:none;\">\n",
              "        \n",
              "  <svg xmlns=\"http://www.w3.org/2000/svg\" height=\"24px\"viewBox=\"0 0 24 24\"\n",
              "       width=\"24px\">\n",
              "    <path d=\"M0 0h24v24H0V0z\" fill=\"none\"/>\n",
              "    <path d=\"M18.56 5.44l.94 2.06.94-2.06 2.06-.94-2.06-.94-.94-2.06-.94 2.06-2.06.94zm-11 1L8.5 8.5l.94-2.06 2.06-.94-2.06-.94L8.5 2.5l-.94 2.06-2.06.94zm10 10l.94 2.06.94-2.06 2.06-.94-2.06-.94-.94-2.06-.94 2.06-2.06.94z\"/><path d=\"M17.41 7.96l-1.37-1.37c-.4-.4-.92-.59-1.43-.59-.52 0-1.04.2-1.43.59L10.3 9.45l-7.72 7.72c-.78.78-.78 2.05 0 2.83L4 21.41c.39.39.9.59 1.41.59.51 0 1.02-.2 1.41-.59l7.78-7.78 2.81-2.81c.8-.78.8-2.07 0-2.86zM5.41 20L4 18.59l7.72-7.72 1.47 1.35L5.41 20z\"/>\n",
              "  </svg>\n",
              "      </button>\n",
              "      \n",
              "  <style>\n",
              "    .colab-df-container {\n",
              "      display:flex;\n",
              "      flex-wrap:wrap;\n",
              "      gap: 12px;\n",
              "    }\n",
              "\n",
              "    .colab-df-convert {\n",
              "      background-color: #E8F0FE;\n",
              "      border: none;\n",
              "      border-radius: 50%;\n",
              "      cursor: pointer;\n",
              "      display: none;\n",
              "      fill: #1967D2;\n",
              "      height: 32px;\n",
              "      padding: 0 0 0 0;\n",
              "      width: 32px;\n",
              "    }\n",
              "\n",
              "    .colab-df-convert:hover {\n",
              "      background-color: #E2EBFA;\n",
              "      box-shadow: 0px 1px 2px rgba(60, 64, 67, 0.3), 0px 1px 3px 1px rgba(60, 64, 67, 0.15);\n",
              "      fill: #174EA6;\n",
              "    }\n",
              "\n",
              "    [theme=dark] .colab-df-convert {\n",
              "      background-color: #3B4455;\n",
              "      fill: #D2E3FC;\n",
              "    }\n",
              "\n",
              "    [theme=dark] .colab-df-convert:hover {\n",
              "      background-color: #434B5C;\n",
              "      box-shadow: 0px 1px 3px 1px rgba(0, 0, 0, 0.15);\n",
              "      filter: drop-shadow(0px 1px 2px rgba(0, 0, 0, 0.3));\n",
              "      fill: #FFFFFF;\n",
              "    }\n",
              "  </style>\n",
              "\n",
              "      <script>\n",
              "        const buttonEl =\n",
              "          document.querySelector('#df-82a218b7-7503-4973-98ff-3f4180d2582a button.colab-df-convert');\n",
              "        buttonEl.style.display =\n",
              "          google.colab.kernel.accessAllowed ? 'block' : 'none';\n",
              "\n",
              "        async function convertToInteractive(key) {\n",
              "          const element = document.querySelector('#df-82a218b7-7503-4973-98ff-3f4180d2582a');\n",
              "          const dataTable =\n",
              "            await google.colab.kernel.invokeFunction('convertToInteractive',\n",
              "                                                     [key], {});\n",
              "          if (!dataTable) return;\n",
              "\n",
              "          const docLinkHtml = 'Like what you see? Visit the ' +\n",
              "            '<a target=\"_blank\" href=https://colab.research.google.com/notebooks/data_table.ipynb>data table notebook</a>'\n",
              "            + ' to learn more about interactive tables.';\n",
              "          element.innerHTML = '';\n",
              "          dataTable['output_type'] = 'display_data';\n",
              "          await google.colab.output.renderOutput(dataTable, element);\n",
              "          const docLink = document.createElement('div');\n",
              "          docLink.innerHTML = docLinkHtml;\n",
              "          element.appendChild(docLink);\n",
              "        }\n",
              "      </script>\n",
              "    </div>\n",
              "  </div>\n",
              "  "
            ]
          },
          "metadata": {},
          "execution_count": 9
        }
      ]
    },
    {
      "cell_type": "markdown",
      "source": [
        "Too high difference between max and 75% values in: Price, Price/sqr_meter and Area features."
      ],
      "metadata": {
        "id": "ZF9e2I9BSFXy"
      }
    },
    {
      "cell_type": "markdown",
      "source": [
        "**Decribe each city**"
      ],
      "metadata": {
        "id": "0jHG7Xe3mvLs"
      }
    },
    {
      "cell_type": "code",
      "source": [
        "for i in data.City.unique():\n",
        "  print('\\n' + i + '\\n')\n",
        "  print(data[data.City == i].describe())"
      ],
      "metadata": {
        "colab": {
          "base_uri": "https://localhost:8080/"
        },
        "id": "3GdPahT7myAu",
        "outputId": "7f39f26e-1d74-4973-fc22-3ae8b6898ac4"
      },
      "execution_count": 10,
      "outputs": [
        {
          "output_type": "stream",
          "name": "stdout",
          "text": [
            "\n",
            "Cracow\n",
            "\n",
            "       Price [PLN]  Price/sqr_meter [PLN]  Area [m^2]   Rooms   Level\n",
            "count      961.000                961.000     961.000 961.000 961.000\n",
            "mean    732555.874              12021.494      55.051   2.530   2.433\n",
            "std    2248996.607               2907.572      24.666   0.965   2.266\n",
            "min      44900.000               1103.190      12.700   1.000  -0.500\n",
            "25%     470000.000              10164.000      40.000   2.000   1.000\n",
            "50%     590000.000              11646.000      51.300   3.000   2.000\n",
            "75%     739700.000              13250.000      64.000   3.000   4.000\n",
            "max   69085710.000              38536.590     280.000   7.000  11.000\n",
            "\n",
            "Gdansk\n",
            "\n",
            "       Price [PLN]  Price/sqr_meter [PLN]  Area [m^2]    Rooms    Level\n",
            "count     1002.000               1002.000    1002.000 1002.000 1002.000\n",
            "mean    658841.254              12066.587      55.726    2.568    2.396\n",
            "std     376078.678               4698.435      24.535    0.869    2.331\n",
            "min      67000.000               1109.270      17.000    1.000    0.000\n",
            "25%     459000.000               9193.662      42.023    2.000    1.000\n",
            "50%     576467.500              11000.000      51.600    2.000    2.000\n",
            "75%     750000.000              13698.370      63.525    3.000    3.000\n",
            "max    4400000.000              40538.000     466.000    7.000   11.000\n",
            "\n",
            "Gdynia\n",
            "\n",
            "       Price [PLN]  Price/sqr_meter [PLN]  Area [m^2]   Rooms   Level\n",
            "count      999.000                999.000     999.000 999.000 999.000\n",
            "mean    673994.719              11946.680      57.319   2.641   2.513\n",
            "std     373506.606               4293.804      24.619   0.893   2.414\n",
            "min     171700.000               2795.000      17.000   1.000   0.000\n",
            "25%     473736.500               9175.455      43.200   2.000   1.000\n",
            "50%     579000.000              11105.000      52.800   3.000   2.000\n",
            "75%     764500.000              13532.000      67.000   3.000   3.000\n",
            "max    4490000.000              41963.000     466.000  10.000  11.000\n",
            "\n",
            "Poznan\n",
            "\n",
            "       Price [PLN]  Price/sqr_meter [PLN]  Area [m^2]   Rooms   Level\n",
            "count      959.000                959.000     959.000 959.000 959.000\n",
            "mean    514553.295               9427.038      55.567   2.587   2.652\n",
            "std     254045.856               2391.987      21.837   0.988   2.501\n",
            "min       7600.000                 33.130      19.000   1.000  -0.500\n",
            "25%     380000.000               8087.500      42.000   2.000   1.000\n",
            "50%     469000.000               9350.000      50.850   3.000   2.000\n",
            "75%     577000.000              10368.680      64.900   3.000   4.000\n",
            "max    4250000.000              40094.000     229.400  10.000  11.000\n",
            "\n",
            "Szczecin\n",
            "\n",
            "       Price [PLN]  Price/sqr_meter [PLN]  Area [m^2]   Rooms   Level\n",
            "count      879.000                879.000     879.000 879.000 879.000\n",
            "mean    503662.685               8586.916      61.440   2.652   2.420\n",
            "std     189754.400               2023.089      29.855   0.991   2.070\n",
            "min     125000.000               1000.000      15.000   1.000   0.000\n",
            "25%     372500.000               7212.885      44.000   2.000   1.000\n",
            "50%     479000.000               8472.000      56.210   3.000   2.000\n",
            "75%     588960.000               9775.500      72.000   3.000   3.000\n",
            "max    1896120.000              16899.000     578.000  10.000  11.000\n",
            "\n",
            "Warsaw\n",
            "\n",
            "       Price [PLN]  Price/sqr_meter [PLN]  Area [m^2]   Rooms   Level\n",
            "count      949.000                949.000     949.000 949.000 949.000\n",
            "mean    787656.532              13798.834      56.911   2.543   3.249\n",
            "std     585282.425               3808.634      26.370   0.939   2.772\n",
            "min     227000.000               4597.000      15.000   1.000   0.000\n",
            "25%     540000.000              11384.000      40.000   2.000   1.000\n",
            "50%     658000.000              13212.000      51.700   2.000   3.000\n",
            "75%     843000.000              15763.000      65.400   3.000   5.000\n",
            "max    7812687.680              42692.000     238.000   7.000  11.000\n",
            "\n",
            "Wroclaw\n",
            "\n",
            "       Price [PLN]  Price/sqr_meter [PLN]  Area [m^2]   Rooms   Level\n",
            "count      957.000                957.000     957.000 957.000 957.000\n",
            "mean    605879.087              10667.635      58.018   2.586   2.558\n",
            "std     266837.392               2634.321      21.483   0.932   2.207\n",
            "min      90000.000               1661.440      15.000   1.000   0.000\n",
            "25%     458000.000               9042.000      44.150   2.000   1.000\n",
            "50%     545000.000              10256.000      54.290   3.000   2.000\n",
            "75%     695000.000              11800.000      68.000   3.000   4.000\n",
            "max    2806000.000              25997.000     161.150   7.000  11.000\n",
            "\n",
            "Zielona Gora\n",
            "\n",
            "       Price [PLN]  Price/sqr_meter [PLN]  Area [m^2]   Rooms   Level\n",
            "count      340.000                340.000     340.000 340.000 340.000\n",
            "mean    388960.162               6748.292      58.962   2.709   2.047\n",
            "std     143955.009               1580.933      21.255   0.824   1.964\n",
            "min      59000.000               1220.000      13.600   1.000   0.000\n",
            "25%     298750.000               5691.045      47.438   2.000   0.000\n",
            "50%     360500.000               6743.420      55.160   3.000   2.000\n",
            "75%     449000.000               7714.750      65.145   3.000   3.000\n",
            "max    1190000.000              13650.000     178.000   6.000  10.000\n"
          ]
        }
      ]
    },
    {
      "cell_type": "markdown",
      "source": [
        "##Scatter plot grid"
      ],
      "metadata": {
        "id": "gbMKXpaDux1S"
      }
    },
    {
      "cell_type": "code",
      "source": [
        "p = sns.PairGrid(data)\n",
        "p.map(plt.scatter, color='grey')"
      ],
      "metadata": {
        "colab": {
          "base_uri": "https://localhost:8080/",
          "height": 927
        },
        "id": "OhjH4z91rlMN",
        "outputId": "27d6e030-9fa0-438d-bc5c-c9e33cbc6e08"
      },
      "execution_count": 11,
      "outputs": [
        {
          "output_type": "execute_result",
          "data": {
            "text/plain": [
              "<seaborn.axisgrid.PairGrid at 0x7fdaf2412b90>"
            ]
          },
          "metadata": {},
          "execution_count": 11
        },
        {
          "output_type": "display_data",
          "data": {
            "text/plain": [
              "<Figure size 900x900 with 25 Axes>"
            ],
            "image/png": "[encoded data removed]"
          },
          "metadata": {
            "needs_background": "light"
          }
        }
      ]
    },
    {
      "cell_type": "markdown",
      "source": [
        "##Boxplots for Outliers"
      ],
      "metadata": {
        "id": "7lgkbW36zoCq"
      }
    },
    {
      "cell_type": "code",
      "source": [
        "sns.set(rc={'figure.figsize':(11,8)})\n",
        "\n",
        "sns.boxplot(x = 'City', y = 'Price [PLN]', data = data)\n",
        "sns.stripplot(x = 'City', y = 'Price [PLN]', data = data,\n",
        "             jitter=True,\n",
        "             marker='o',\n",
        "             alpha=0.8,\n",
        "             color='black')"
      ],
      "metadata": {
        "colab": {
          "base_uri": "https://localhost:8080/",
          "height": 530
        },
        "id": "9vz_yk9ColRL",
        "outputId": "d4073eeb-7c7e-48ce-c954-daee75acfbbf"
      },
      "execution_count": 12,
      "outputs": [
        {
          "output_type": "execute_result",
          "data": {
            "text/plain": [
              "<matplotlib.axes._subplots.AxesSubplot at 0x7fdaf202c6d0>"
            ]
          },
          "metadata": {},
          "execution_count": 12
        },
        {
          "output_type": "display_data",
          "data": {
            "text/plain": [
              "<Figure size 792x576 with 1 Axes>"
            ],
            "image/png": "[encoded data removed]"
          },
          "metadata": {}
        }
      ]
    },
    {
      "cell_type": "markdown",
      "source": [
        "Only Cracow have strong Outliers in Price feature."
      ],
      "metadata": {
        "id": "CWRpTC2mAdBb"
      }
    },
    {
      "cell_type": "code",
      "source": [
        "sns.set(rc={'figure.figsize':(11,8)})\n",
        "\n",
        "sns.boxplot(x = 'City', y = 'Price/sqr_meter [PLN]', data = data)\n",
        "sns.stripplot(x = 'City', y = 'Price/sqr_meter [PLN]', data = data,\n",
        "             jitter=True,\n",
        "             marker='o',\n",
        "             alpha=0.8,\n",
        "             color='black')"
      ],
      "metadata": {
        "colab": {
          "base_uri": "https://localhost:8080/",
          "height": 519
        },
        "id": "wefpHN6gOI-Y",
        "outputId": "ec13d2c3-d97d-4b8c-f993-e5b7bbc57319"
      },
      "execution_count": 13,
      "outputs": [
        {
          "output_type": "execute_result",
          "data": {
            "text/plain": [
              "<matplotlib.axes._subplots.AxesSubplot at 0x7fdaed500950>"
            ]
          },
          "metadata": {},
          "execution_count": 13
        },
        {
          "output_type": "display_data",
          "data": {
            "text/plain": [
              "<Figure size 792x576 with 1 Axes>"
            ],
            "image/png": "[encoded data removed]"
          },
          "metadata": {}
        }
      ]
    },
    {
      "cell_type": "markdown",
      "source": [
        "Except Szczecin and Zielona Gora, all others City have strong Outliers in Price/sqr_meter feature."
      ],
      "metadata": {
        "id": "lm4HIFFETS9H"
      }
    },
    {
      "cell_type": "code",
      "source": [
        "sns.set(rc={'figure.figsize':(11,8)})\n",
        "\n",
        "sns.boxplot(x = 'City', y = 'Area [m^2]', data = data)\n",
        "sns.stripplot(x = 'City', y = 'Area [m^2]', data = data,\n",
        "             jitter=True,\n",
        "             marker='o',\n",
        "             alpha=0.8,\n",
        "             color='black')"
      ],
      "metadata": {
        "colab": {
          "base_uri": "https://localhost:8080/",
          "height": 519
        },
        "id": "_foLSU4luPTE",
        "outputId": "7c780501-b224-41b6-e35d-932751cdae26"
      },
      "execution_count": 14,
      "outputs": [
        {
          "output_type": "execute_result",
          "data": {
            "text/plain": [
              "<matplotlib.axes._subplots.AxesSubplot at 0x7fdaed3a8d50>"
            ]
          },
          "metadata": {},
          "execution_count": 14
        },
        {
          "output_type": "display_data",
          "data": {
            "text/plain": [
              "<Figure size 792x576 with 1 Axes>"
            ],
            "image/png": "[encoded data removed]"
          },
          "metadata": {}
        }
      ]
    },
    {
      "cell_type": "markdown",
      "source": [
        "Gdansk, Gdynia and Szczecin have strong Outliers in Area feature."
      ],
      "metadata": {
        "id": "a31pCSBcAq_Z"
      }
    },
    {
      "cell_type": "markdown",
      "source": [
        "##Clearing Outliers (IQR Method)"
      ],
      "metadata": {
        "id": "r-X5YMOQx6Ih"
      }
    },
    {
      "cell_type": "code",
      "source": [
        "#Creating new data frame\n",
        "data_o = data"
      ],
      "metadata": {
        "id": "-cDzooJg3OiF"
      },
      "execution_count": 15,
      "outputs": []
    },
    {
      "cell_type": "markdown",
      "source": [
        "*The Z-score is the signed number of standard deviations by which the value of an observation or data point is above the mean value of what is being observed or measured.*"
      ],
      "metadata": {
        "id": "6Mv5LDNY1eCv"
      }
    },
    {
      "cell_type": "code",
      "source": [
        "z = np.abs(stats.zscore(data_o.loc[:, data_o.columns != 'City']))\n",
        "print(z)"
      ],
      "metadata": {
        "colab": {
          "base_uri": "https://localhost:8080/"
        },
        "id": "fjiFXbAH1g16",
        "outputId": "8a848ecc-ff93-4321-ae62-cb735820176b"
      },
      "execution_count": 16,
      "outputs": [
        {
          "output_type": "stream",
          "name": "stdout",
          "text": [
            "[[0.01756868 0.27909897 0.30408813 0.43660743 1.0837141 ]\n",
            " [0.16350358 0.16225831 0.44097931 0.43660743 1.02017347]\n",
            " [0.25384368 0.01653143 0.85252497 0.63342247 0.66293659]\n",
            " ...\n",
            " [0.30448231 0.47467508 0.75509618 0.63342247 0.24215907]\n",
            " [0.27782982 0.58101577 0.57317521 0.63342247 0.66293659]\n",
            " [0.08904131 0.97151713 0.72048501 0.43660743 1.0837141 ]]\n"
          ]
        }
      ]
    },
    {
      "cell_type": "markdown",
      "source": [
        "**Set threshold**"
      ],
      "metadata": {
        "id": "2O9rV09824_-"
      }
    },
    {
      "cell_type": "code",
      "source": [
        "threshold = 3\n",
        "print(np.where(z > 3))"
      ],
      "metadata": {
        "colab": {
          "base_uri": "https://localhost:8080/"
        },
        "id": "MAvP2ewk2ksR",
        "outputId": "4e5c0a0f-637b-4741-d487-37ce7c776088"
      },
      "execution_count": 17,
      "outputs": [
        {
          "output_type": "stream",
          "name": "stdout",
          "text": [
            "(array([  47,   96,  108,  127,  129,  194,  214,  217,  329,  330,  370,\n",
            "        413,  413,  413,  423,  423,  428,  455,  460,  469,  469,  507,\n",
            "        531,  557,  589,  657,  679,  679,  698,  754,  756,  789,  797,\n",
            "        804,  948,  954,  966, 1036, 1042, 1042, 1061, 1069, 1069, 1081,\n",
            "       1082, 1090, 1105, 1124, 1131, 1135, 1182, 1183, 1185, 1188, 1189,\n",
            "       1194, 1210, 1210, 1222, 1228, 1241, 1242, 1248, 1251, 1265, 1275,\n",
            "       1276, 1277, 1282, 1284, 1289, 1296, 1299, 1300, 1330, 1341, 1350,\n",
            "       1359, 1360, 1365, 1366, 1376, 1377, 1382, 1411, 1414, 1414, 1421,\n",
            "       1477, 1526, 1554, 1557, 1560, 1568, 1589, 1590, 1592, 1606, 1631,\n",
            "       1655, 1657, 1723, 1739, 1742, 1759, 1767, 1807, 1821, 1838, 1849,\n",
            "       1850, 1855, 1872, 1881, 1893, 1910, 1914, 1995, 1995, 2003, 2013,\n",
            "       2018, 2031, 2092, 2108, 2108, 2117, 2117, 2118, 2119, 2135, 2145,\n",
            "       2151, 2165, 2165, 2166, 2167, 2176, 2228, 2229, 2241, 2275, 2303,\n",
            "       2312, 2352, 2352, 2359, 2370, 2371, 2384, 2395, 2403, 2470, 2504,\n",
            "       2507, 2509, 2533, 2533, 2617, 2618, 2631, 2637, 2638, 2640, 2642,\n",
            "       2644, 2650, 2657, 2669, 2711, 2711, 2713, 2714, 2715, 2735, 2736,\n",
            "       2737, 2738, 2750, 2751, 2753, 2756, 2758, 2779, 2780, 2818, 2896,\n",
            "       2897, 2898, 2901, 2951, 2952, 2956, 2970, 3002, 3003, 3009, 3010,\n",
            "       3015, 3043, 3043, 3070, 3075, 3099, 3120, 3121, 3127, 3163, 3200,\n",
            "       3202, 3230, 3240, 3255, 3264, 3267, 3270, 3294, 3302, 3302, 3316,\n",
            "       3335, 3366, 3415, 3416, 3416, 3416, 3432, 3445, 3474, 3479, 3485,\n",
            "       3496, 3499, 3505, 3517, 3528, 3533, 3539, 3545, 3547, 3643, 3686,\n",
            "       3686, 3718, 3725, 3760, 3760, 3765, 3786, 3831, 3839, 3844, 3882,\n",
            "       3886, 3904, 3945, 3958, 3961, 3969, 3975, 3978, 4011, 4032, 4035,\n",
            "       4066, 4095, 4097, 4102, 4114, 4138, 4189, 4240, 4240, 4285, 4302,\n",
            "       4329, 4350, 4381, 4381, 4417, 4419, 4491, 4541, 4576, 4622, 4687,\n",
            "       4706, 4717, 4724, 4762, 4773, 4806, 4814, 4829, 4829, 4853, 4860,\n",
            "       4879, 4879, 4879, 4883, 4890, 4897, 4909, 4942, 4951, 4962, 4967,\n",
            "       4968, 4981, 5003, 5006, 5020, 5032, 5049, 5054, 5055, 5056, 5058,\n",
            "       5060, 5064, 5065, 5066, 5071, 5085, 5103, 5103, 5113, 5114, 5124,\n",
            "       5159, 5159, 5159, 5170, 5170, 5170, 5171, 5175, 5181, 5181, 5181,\n",
            "       5196, 5205, 5209, 5209, 5209, 5211, 5212, 5212, 5212, 5212, 5215,\n",
            "       5215, 5215, 5238, 5242, 5252, 5279, 5283, 5296, 5297, 5334, 5334,\n",
            "       5334, 5335, 5351, 5364, 5409, 5430, 5437, 5449, 5460, 5479, 5480,\n",
            "       5482, 5490, 5495, 5499, 5503, 5548, 5549, 5551, 5563, 5574, 5592,\n",
            "       5608, 5654, 5668, 5669, 5686, 5695, 5701, 5702, 5714, 5722, 5735,\n",
            "       5736, 5748, 5748, 5791, 5810, 5814, 5821, 5846, 5879, 5939, 5947,\n",
            "       5969, 6014, 6117, 6125, 6180, 6182, 6206, 6214, 6246, 6258, 6287,\n",
            "       6287, 6291, 6315, 6320, 6371, 6373, 6375, 6380, 6422, 6443, 6486,\n",
            "       6492, 6559, 6597, 6606, 6613, 6639, 6646, 6658, 6669, 6671, 6689,\n",
            "       6731, 6743, 6777, 6782, 6837, 6851, 6899, 6945, 7008]), array([4, 4, 2, 2, 3, 4, 4, 2, 1, 2, 4, 0, 1, 2, 0, 2, 4, 4, 3, 2, 3, 3,\n",
            "       4, 3, 4, 1, 0, 1, 1, 4, 4, 4, 2, 4, 0, 2, 4, 4, 0, 1, 1, 0, 2, 1,\n",
            "       1, 1, 1, 4, 2, 1, 2, 2, 2, 2, 2, 4, 1, 4, 1, 1, 4, 4, 4, 3, 1, 1,\n",
            "       1, 1, 1, 2, 4, 4, 3, 4, 4, 1, 1, 4, 1, 4, 4, 1, 1, 1, 4, 2, 4, 4,\n",
            "       4, 4, 4, 1, 1, 4, 1, 1, 4, 4, 1, 4, 4, 4, 4, 4, 1, 1, 2, 2, 4, 3,\n",
            "       3, 1, 4, 4, 4, 1, 4, 2, 3, 4, 1, 3, 4, 4, 2, 3, 2, 4, 4, 4, 1, 1,\n",
            "       1, 1, 4, 4, 4, 1, 4, 4, 4, 4, 1, 1, 0, 2, 4, 1, 1, 3, 2, 2, 4, 1,\n",
            "       2, 1, 0, 1, 4, 4, 1, 4, 4, 4, 4, 4, 4, 4, 4, 2, 3, 4, 1, 4, 1, 1,\n",
            "       1, 1, 4, 4, 4, 4, 2, 1, 1, 4, 4, 1, 1, 1, 4, 4, 4, 4, 4, 3, 4, 4,\n",
            "       3, 3, 4, 4, 4, 4, 4, 2, 2, 2, 4, 4, 4, 4, 4, 4, 4, 4, 4, 1, 4, 4,\n",
            "       4, 2, 4, 0, 1, 4, 4, 2, 3, 3, 2, 3, 4, 4, 3, 4, 4, 4, 4, 4, 4, 2,\n",
            "       3, 4, 3, 2, 3, 4, 4, 4, 3, 4, 4, 4, 3, 2, 2, 4, 2, 4, 2, 4, 4, 2,\n",
            "       4, 2, 2, 4, 4, 4, 3, 2, 3, 2, 4, 2, 2, 2, 3, 4, 4, 3, 2, 4, 4, 2,\n",
            "       4, 3, 2, 4, 4, 2, 4, 2, 3, 4, 1, 0, 1, 2, 1, 4, 1, 4, 4, 4, 2, 4,\n",
            "       2, 2, 1, 4, 4, 1, 4, 2, 2, 2, 4, 4, 4, 4, 3, 4, 4, 2, 3, 4, 1, 4,\n",
            "       0, 1, 2, 0, 1, 2, 1, 4, 0, 1, 2, 3, 1, 0, 1, 2, 4, 0, 1, 2, 3, 0,\n",
            "       1, 2, 2, 4, 4, 4, 1, 4, 4, 0, 2, 3, 4, 4, 1, 1, 1, 4, 4, 4, 4, 4,\n",
            "       4, 4, 4, 4, 4, 4, 4, 4, 4, 2, 1, 4, 4, 2, 4, 2, 4, 4, 4, 4, 4, 4,\n",
            "       4, 2, 3, 4, 4, 4, 4, 4, 2, 4, 3, 4, 3, 4, 2, 4, 4, 2, 4, 4, 2, 2,\n",
            "       3, 3, 2, 1, 3, 4, 4, 4, 4, 2, 3, 4, 3, 1, 4, 4, 2, 4, 4, 4, 4, 2,\n",
            "       3, 2, 4, 2, 2, 2, 2, 4, 2]))\n"
          ]
        }
      ]
    },
    {
      "cell_type": "markdown",
      "source": [
        "*IQR is a measure of statistical dispersion, being equal to the difference between 75th and 25th percentiles.*"
      ],
      "metadata": {
        "id": "QU66dnSYzeHp"
      }
    },
    {
      "cell_type": "code",
      "source": [
        "#IQR for each column\n",
        "Q1 = data_o.quantile(0.25)\n",
        "Q3 = data_o.quantile(0.75)\n",
        "IQR = Q3 - Q1\n",
        "print(IQR)"
      ],
      "metadata": {
        "colab": {
          "base_uri": "https://localhost:8080/"
        },
        "id": "06XQCcgjzP_Y",
        "outputId": "18264359-c787-441a-fc73-303f429316f0"
      },
      "execution_count": 18,
      "outputs": [
        {
          "output_type": "stream",
          "name": "stdout",
          "text": [
            "Price [PLN]             269075.000\n",
            "Price/sqr_meter [PLN]     3973.247\n",
            "Area [m^2]                  23.748\n",
            "Rooms                        1.000\n",
            "Level                        3.000\n",
            "dtype: float64\n"
          ]
        }
      ]
    },
    {
      "cell_type": "markdown",
      "source": [
        "**Deleting outliers**"
      ],
      "metadata": {
        "id": "SaXOf3CXBgtk"
      }
    },
    {
      "cell_type": "code",
      "source": [
        "data_o = data_o[(z < 3).all(axis=1)]"
      ],
      "metadata": {
        "id": "jKJ0MDMt3Zn0"
      },
      "execution_count": 19,
      "outputs": []
    },
    {
      "cell_type": "markdown",
      "source": [
        "**Data frame size comparsion**"
      ],
      "metadata": {
        "id": "2bajPJkCByHB"
      }
    },
    {
      "cell_type": "code",
      "source": [
        "data_o.shape"
      ],
      "metadata": {
        "colab": {
          "base_uri": "https://localhost:8080/"
        },
        "id": "T00wkB7Z3kM-",
        "outputId": "39bb2f12-32a8-464c-d20a-d0f14b5a5516"
      },
      "execution_count": 20,
      "outputs": [
        {
          "output_type": "execute_result",
          "data": {
            "text/plain": [
              "(6642, 6)"
            ]
          },
          "metadata": {},
          "execution_count": 20
        }
      ]
    },
    {
      "cell_type": "code",
      "source": [
        "data.shape"
      ],
      "metadata": {
        "colab": {
          "base_uri": "https://localhost:8080/"
        },
        "id": "dzBaPest3nd1",
        "outputId": "1cb104bf-5929-4648-d678-3442c3d6435c"
      },
      "execution_count": 21,
      "outputs": [
        {
          "output_type": "execute_result",
          "data": {
            "text/plain": [
              "(7046, 6)"
            ]
          },
          "metadata": {},
          "execution_count": 21
        }
      ]
    },
    {
      "cell_type": "markdown",
      "source": [
        "##Correlation between features"
      ],
      "metadata": {
        "id": "OR0EIGGBrBaU"
      }
    },
    {
      "cell_type": "markdown",
      "source": [
        "###Correlation for data with Outliers"
      ],
      "metadata": {
        "id": "dRLAoyWb8GyL"
      }
    },
    {
      "cell_type": "code",
      "source": [
        "correlation = data.corr()\n",
        "correlation"
      ],
      "metadata": {
        "colab": {
          "base_uri": "https://localhost:8080/",
          "height": 206
        },
        "id": "akwQRwdtrD_F",
        "outputId": "b87a4f97-5efe-4b7c-a28a-3c656e596b2b"
      },
      "execution_count": 22,
      "outputs": [
        {
          "output_type": "execute_result",
          "data": {
            "text/plain": [
              "                       Price [PLN]  Price/sqr_meter [PLN]  Area [m^2]  Rooms  \\\n",
              "Price [PLN]                  1.000                  0.266       0.258  0.176   \n",
              "Price/sqr_meter [PLN]        0.266                  1.000      -0.122 -0.172   \n",
              "Area [m^2]                   0.258                 -0.122       1.000  0.733   \n",
              "Rooms                        0.176                 -0.172       0.733  1.000   \n",
              "Level                        0.009                  0.130      -0.051 -0.039   \n",
              "\n",
              "                       Level  \n",
              "Price [PLN]            0.009  \n",
              "Price/sqr_meter [PLN]  0.130  \n",
              "Area [m^2]            -0.051  \n",
              "Rooms                 -0.039  \n",
              "Level                  1.000  "
            ],
            "text/html": [
              "\n",
              "  <div id=\"df-914c1cf1-785a-4d80-99e6-facf63f99ec0\">\n",
              "    <div class=\"colab-df-container\">\n",
              "      <div>\n",
              "<style scoped>\n",
              "    .dataframe tbody tr th:only-of-type {\n",
              "        vertical-align: middle;\n",
              "    }\n",
              "\n",
              "    .dataframe tbody tr th {\n",
              "        vertical-align: top;\n",
              "    }\n",
              "\n",
              "    .dataframe thead th {\n",
              "        text-align: right;\n",
              "    }\n",
              "</style>\n",
              "<table border=\"1\" class=\"dataframe\">\n",
              "  <thead>\n",
              "    <tr style=\"text-align: right;\">\n",
              "      <th></th>\n",
              "      <th>Price [PLN]</th>\n",
              "      <th>Price/sqr_meter [PLN]</th>\n",
              "      <th>Area [m^2]</th>\n",
              "      <th>Rooms</th>\n",
              "      <th>Level</th>\n",
              "    </tr>\n",
              "  </thead>\n",
              "  <tbody>\n",
              "    <tr>\n",
              "      <th>Price [PLN]</th>\n",
              "      <td>1.000</td>\n",
              "      <td>0.266</td>\n",
              "      <td>0.258</td>\n",
              "      <td>0.176</td>\n",
              "      <td>0.009</td>\n",
              "    </tr>\n",
              "    <tr>\n",
              "      <th>Price/sqr_meter [PLN]</th>\n",
              "      <td>0.266</td>\n",
              "      <td>1.000</td>\n",
              "      <td>-0.122</td>\n",
              "      <td>-0.172</td>\n",
              "      <td>0.130</td>\n",
              "    </tr>\n",
              "    <tr>\n",
              "      <th>Area [m^2]</th>\n",
              "      <td>0.258</td>\n",
              "      <td>-0.122</td>\n",
              "      <td>1.000</td>\n",
              "      <td>0.733</td>\n",
              "      <td>-0.051</td>\n",
              "    </tr>\n",
              "    <tr>\n",
              "      <th>Rooms</th>\n",
              "      <td>0.176</td>\n",
              "      <td>-0.172</td>\n",
              "      <td>0.733</td>\n",
              "      <td>1.000</td>\n",
              "      <td>-0.039</td>\n",
              "    </tr>\n",
              "    <tr>\n",
              "      <th>Level</th>\n",
              "      <td>0.009</td>\n",
              "      <td>0.130</td>\n",
              "      <td>-0.051</td>\n",
              "      <td>-0.039</td>\n",
              "      <td>1.000</td>\n",
              "    </tr>\n",
              "  </tbody>\n",
              "</table>\n",
              "</div>\n",
              "      <button class=\"colab-df-convert\" onclick=\"convertToInteractive('df-914c1cf1-785a-4d80-99e6-facf63f99ec0')\"\n",
              "              title=\"Convert this dataframe to an interactive table.\"\n",
              "              style=\"display:none;\">\n",
              "        \n",
              "  <svg xmlns=\"http://www.w3.org/2000/svg\" height=\"24px\"viewBox=\"0 0 24 24\"\n",
              "       width=\"24px\">\n",
              "    <path d=\"M0 0h24v24H0V0z\" fill=\"none\"/>\n",
              "    <path d=\"M18.56 5.44l.94 2.06.94-2.06 2.06-.94-2.06-.94-.94-2.06-.94 2.06-2.06.94zm-11 1L8.5 8.5l.94-2.06 2.06-.94-2.06-.94L8.5 2.5l-.94 2.06-2.06.94zm10 10l.94 2.06.94-2.06 2.06-.94-2.06-.94-.94-2.06-.94 2.06-2.06.94z\"/><path d=\"M17.41 7.96l-1.37-1.37c-.4-.4-.92-.59-1.43-.59-.52 0-1.04.2-1.43.59L10.3 9.45l-7.72 7.72c-.78.78-.78 2.05 0 2.83L4 21.41c.39.39.9.59 1.41.59.51 0 1.02-.2 1.41-.59l7.78-7.78 2.81-2.81c.8-.78.8-2.07 0-2.86zM5.41 20L4 18.59l7.72-7.72 1.47 1.35L5.41 20z\"/>\n",
              "  </svg>\n",
              "      </button>\n",
              "      \n",
              "  <style>\n",
              "    .colab-df-container {\n",
              "      display:flex;\n",
              "      flex-wrap:wrap;\n",
              "      gap: 12px;\n",
              "    }\n",
              "\n",
              "    .colab-df-convert {\n",
              "      background-color: #E8F0FE;\n",
              "      border: none;\n",
              "      border-radius: 50%;\n",
              "      cursor: pointer;\n",
              "      display: none;\n",
              "      fill: #1967D2;\n",
              "      height: 32px;\n",
              "      padding: 0 0 0 0;\n",
              "      width: 32px;\n",
              "    }\n",
              "\n",
              "    .colab-df-convert:hover {\n",
              "      background-color: #E2EBFA;\n",
              "      box-shadow: 0px 1px 2px rgba(60, 64, 67, 0.3), 0px 1px 3px 1px rgba(60, 64, 67, 0.15);\n",
              "      fill: #174EA6;\n",
              "    }\n",
              "\n",
              "    [theme=dark] .colab-df-convert {\n",
              "      background-color: #3B4455;\n",
              "      fill: #D2E3FC;\n",
              "    }\n",
              "\n",
              "    [theme=dark] .colab-df-convert:hover {\n",
              "      background-color: #434B5C;\n",
              "      box-shadow: 0px 1px 3px 1px rgba(0, 0, 0, 0.15);\n",
              "      filter: drop-shadow(0px 1px 2px rgba(0, 0, 0, 0.3));\n",
              "      fill: #FFFFFF;\n",
              "    }\n",
              "  </style>\n",
              "\n",
              "      <script>\n",
              "        const buttonEl =\n",
              "          document.querySelector('#df-914c1cf1-785a-4d80-99e6-facf63f99ec0 button.colab-df-convert');\n",
              "        buttonEl.style.display =\n",
              "          google.colab.kernel.accessAllowed ? 'block' : 'none';\n",
              "\n",
              "        async function convertToInteractive(key) {\n",
              "          const element = document.querySelector('#df-914c1cf1-785a-4d80-99e6-facf63f99ec0');\n",
              "          const dataTable =\n",
              "            await google.colab.kernel.invokeFunction('convertToInteractive',\n",
              "                                                     [key], {});\n",
              "          if (!dataTable) return;\n",
              "\n",
              "          const docLinkHtml = 'Like what you see? Visit the ' +\n",
              "            '<a target=\"_blank\" href=https://colab.research.google.com/notebooks/data_table.ipynb>data table notebook</a>'\n",
              "            + ' to learn more about interactive tables.';\n",
              "          element.innerHTML = '';\n",
              "          dataTable['output_type'] = 'display_data';\n",
              "          await google.colab.output.renderOutput(dataTable, element);\n",
              "          const docLink = document.createElement('div');\n",
              "          docLink.innerHTML = docLinkHtml;\n",
              "          element.appendChild(docLink);\n",
              "        }\n",
              "      </script>\n",
              "    </div>\n",
              "  </div>\n",
              "  "
            ]
          },
          "metadata": {},
          "execution_count": 22
        }
      ]
    },
    {
      "cell_type": "code",
      "source": [
        "sns.heatmap(correlation, annot=True)"
      ],
      "metadata": {
        "colab": {
          "base_uri": "https://localhost:8080/",
          "height": 507
        },
        "id": "FLbPoTh8rP_T",
        "outputId": "afa5ca2c-81b5-49e8-dd75-3761c5f9a68f"
      },
      "execution_count": 23,
      "outputs": [
        {
          "output_type": "execute_result",
          "data": {
            "text/plain": [
              "<matplotlib.axes._subplots.AxesSubplot at 0x7fdaed401410>"
            ]
          },
          "metadata": {},
          "execution_count": 23
        },
        {
          "output_type": "display_data",
          "data": {
            "text/plain": [
              "<Figure size 792x576 with 2 Axes>"
            ],
            "image/png": "[encoded data removed]"
          },
          "metadata": {}
        }
      ]
    },
    {
      "cell_type": "markdown",
      "source": [
        "**The highest positive correlation is between:**\n",
        "\n",
        " Rooms and Area: 0.73\n",
        " \n",
        "\n",
        "</br>\n",
        "\n",
        " **The highest negative correlation is between:**\n",
        "\n",
        " Rooms and Price/sqr_meter: -0.17"
      ],
      "metadata": {
        "id": "sDf6U2N0tWsg"
      }
    },
    {
      "cell_type": "markdown",
      "source": [
        "###Correlation for data without Outliers"
      ],
      "metadata": {
        "id": "Atqa3aok8Tzk"
      }
    },
    {
      "cell_type": "code",
      "source": [
        "correlation_o = data_o.corr()\n",
        "correlation_o"
      ],
      "metadata": {
        "colab": {
          "base_uri": "https://localhost:8080/",
          "height": 206
        },
        "id": "mryxNKJz8aRu",
        "outputId": "3b122764-a633-4bab-fd57-731bc59ff28f"
      },
      "execution_count": 24,
      "outputs": [
        {
          "output_type": "execute_result",
          "data": {
            "text/plain": [
              "                       Price [PLN]  Price/sqr_meter [PLN]  Area [m^2]  Rooms  \\\n",
              "Price [PLN]                  1.000                  0.539       0.666  0.513   \n",
              "Price/sqr_meter [PLN]        0.539                  1.000      -0.210 -0.215   \n",
              "Area [m^2]                   0.666                 -0.210       1.000  0.801   \n",
              "Rooms                        0.513                 -0.215       0.801  1.000   \n",
              "Level                        0.028                  0.101      -0.049 -0.030   \n",
              "\n",
              "                       Level  \n",
              "Price [PLN]            0.028  \n",
              "Price/sqr_meter [PLN]  0.101  \n",
              "Area [m^2]            -0.049  \n",
              "Rooms                 -0.030  \n",
              "Level                  1.000  "
            ],
            "text/html": [
              "\n",
              "  <div id=\"df-c754ac9d-7a44-4e67-b5fe-a38ef2860bb5\">\n",
              "    <div class=\"colab-df-container\">\n",
              "      <div>\n",
              "<style scoped>\n",
              "    .dataframe tbody tr th:only-of-type {\n",
              "        vertical-align: middle;\n",
              "    }\n",
              "\n",
              "    .dataframe tbody tr th {\n",
              "        vertical-align: top;\n",
              "    }\n",
              "\n",
              "    .dataframe thead th {\n",
              "        text-align: right;\n",
              "    }\n",
              "</style>\n",
              "<table border=\"1\" class=\"dataframe\">\n",
              "  <thead>\n",
              "    <tr style=\"text-align: right;\">\n",
              "      <th></th>\n",
              "      <th>Price [PLN]</th>\n",
              "      <th>Price/sqr_meter [PLN]</th>\n",
              "      <th>Area [m^2]</th>\n",
              "      <th>Rooms</th>\n",
              "      <th>Level</th>\n",
              "    </tr>\n",
              "  </thead>\n",
              "  <tbody>\n",
              "    <tr>\n",
              "      <th>Price [PLN]</th>\n",
              "      <td>1.000</td>\n",
              "      <td>0.539</td>\n",
              "      <td>0.666</td>\n",
              "      <td>0.513</td>\n",
              "      <td>0.028</td>\n",
              "    </tr>\n",
              "    <tr>\n",
              "      <th>Price/sqr_meter [PLN]</th>\n",
              "      <td>0.539</td>\n",
              "      <td>1.000</td>\n",
              "      <td>-0.210</td>\n",
              "      <td>-0.215</td>\n",
              "      <td>0.101</td>\n",
              "    </tr>\n",
              "    <tr>\n",
              "      <th>Area [m^2]</th>\n",
              "      <td>0.666</td>\n",
              "      <td>-0.210</td>\n",
              "      <td>1.000</td>\n",
              "      <td>0.801</td>\n",
              "      <td>-0.049</td>\n",
              "    </tr>\n",
              "    <tr>\n",
              "      <th>Rooms</th>\n",
              "      <td>0.513</td>\n",
              "      <td>-0.215</td>\n",
              "      <td>0.801</td>\n",
              "      <td>1.000</td>\n",
              "      <td>-0.030</td>\n",
              "    </tr>\n",
              "    <tr>\n",
              "      <th>Level</th>\n",
              "      <td>0.028</td>\n",
              "      <td>0.101</td>\n",
              "      <td>-0.049</td>\n",
              "      <td>-0.030</td>\n",
              "      <td>1.000</td>\n",
              "    </tr>\n",
              "  </tbody>\n",
              "</table>\n",
              "</div>\n",
              "      <button class=\"colab-df-convert\" onclick=\"convertToInteractive('df-c754ac9d-7a44-4e67-b5fe-a38ef2860bb5')\"\n",
              "              title=\"Convert this dataframe to an interactive table.\"\n",
              "              style=\"display:none;\">\n",
              "        \n",
              "  <svg xmlns=\"http://www.w3.org/2000/svg\" height=\"24px\"viewBox=\"0 0 24 24\"\n",
              "       width=\"24px\">\n",
              "    <path d=\"M0 0h24v24H0V0z\" fill=\"none\"/>\n",
              "    <path d=\"M18.56 5.44l.94 2.06.94-2.06 2.06-.94-2.06-.94-.94-2.06-.94 2.06-2.06.94zm-11 1L8.5 8.5l.94-2.06 2.06-.94-2.06-.94L8.5 2.5l-.94 2.06-2.06.94zm10 10l.94 2.06.94-2.06 2.06-.94-2.06-.94-.94-2.06-.94 2.06-2.06.94z\"/><path d=\"M17.41 7.96l-1.37-1.37c-.4-.4-.92-.59-1.43-.59-.52 0-1.04.2-1.43.59L10.3 9.45l-7.72 7.72c-.78.78-.78 2.05 0 2.83L4 21.41c.39.39.9.59 1.41.59.51 0 1.02-.2 1.41-.59l7.78-7.78 2.81-2.81c.8-.78.8-2.07 0-2.86zM5.41 20L4 18.59l7.72-7.72 1.47 1.35L5.41 20z\"/>\n",
              "  </svg>\n",
              "      </button>\n",
              "      \n",
              "  <style>\n",
              "    .colab-df-container {\n",
              "      display:flex;\n",
              "      flex-wrap:wrap;\n",
              "      gap: 12px;\n",
              "    }\n",
              "\n",
              "    .colab-df-convert {\n",
              "      background-color: #E8F0FE;\n",
              "      border: none;\n",
              "      border-radius: 50%;\n",
              "      cursor: pointer;\n",
              "      display: none;\n",
              "      fill: #1967D2;\n",
              "      height: 32px;\n",
              "      padding: 0 0 0 0;\n",
              "      width: 32px;\n",
              "    }\n",
              "\n",
              "    .colab-df-convert:hover {\n",
              "      background-color: #E2EBFA;\n",
              "      box-shadow: 0px 1px 2px rgba(60, 64, 67, 0.3), 0px 1px 3px 1px rgba(60, 64, 67, 0.15);\n",
              "      fill: #174EA6;\n",
              "    }\n",
              "\n",
              "    [theme=dark] .colab-df-convert {\n",
              "      background-color: #3B4455;\n",
              "      fill: #D2E3FC;\n",
              "    }\n",
              "\n",
              "    [theme=dark] .colab-df-convert:hover {\n",
              "      background-color: #434B5C;\n",
              "      box-shadow: 0px 1px 3px 1px rgba(0, 0, 0, 0.15);\n",
              "      filter: drop-shadow(0px 1px 2px rgba(0, 0, 0, 0.3));\n",
              "      fill: #FFFFFF;\n",
              "    }\n",
              "  </style>\n",
              "\n",
              "      <script>\n",
              "        const buttonEl =\n",
              "          document.querySelector('#df-c754ac9d-7a44-4e67-b5fe-a38ef2860bb5 button.colab-df-convert');\n",
              "        buttonEl.style.display =\n",
              "          google.colab.kernel.accessAllowed ? 'block' : 'none';\n",
              "\n",
              "        async function convertToInteractive(key) {\n",
              "          const element = document.querySelector('#df-c754ac9d-7a44-4e67-b5fe-a38ef2860bb5');\n",
              "          const dataTable =\n",
              "            await google.colab.kernel.invokeFunction('convertToInteractive',\n",
              "                                                     [key], {});\n",
              "          if (!dataTable) return;\n",
              "\n",
              "          const docLinkHtml = 'Like what you see? Visit the ' +\n",
              "            '<a target=\"_blank\" href=https://colab.research.google.com/notebooks/data_table.ipynb>data table notebook</a>'\n",
              "            + ' to learn more about interactive tables.';\n",
              "          element.innerHTML = '';\n",
              "          dataTable['output_type'] = 'display_data';\n",
              "          await google.colab.output.renderOutput(dataTable, element);\n",
              "          const docLink = document.createElement('div');\n",
              "          docLink.innerHTML = docLinkHtml;\n",
              "          element.appendChild(docLink);\n",
              "        }\n",
              "      </script>\n",
              "    </div>\n",
              "  </div>\n",
              "  "
            ]
          },
          "metadata": {},
          "execution_count": 24
        }
      ]
    },
    {
      "cell_type": "code",
      "source": [
        "sns.heatmap(correlation_o, annot=True, cmap='Blues')"
      ],
      "metadata": {
        "colab": {
          "base_uri": "https://localhost:8080/",
          "height": 507
        },
        "id": "U6wM3z6y8v_P",
        "outputId": "091345e3-e075-4fc1-ed50-dd43d3dbca3f"
      },
      "execution_count": 25,
      "outputs": [
        {
          "output_type": "execute_result",
          "data": {
            "text/plain": [
              "<matplotlib.axes._subplots.AxesSubplot at 0x7fdaed1d6f90>"
            ]
          },
          "metadata": {},
          "execution_count": 25
        },
        {
          "output_type": "display_data",
          "data": {
            "text/plain": [
              "<Figure size 792x576 with 2 Axes>"
            ],
            "image/png": "[encoded data removed]"
          },
          "metadata": {}
        }
      ]
    },
    {
      "cell_type": "markdown",
      "source": [
        "**The highest positive correlation is between:**\n",
        "\n",
        " Rooms and Area: 0.8\n",
        " \n",
        " Area and Price [PLN]: 0.67\n",
        "\n",
        "</br>\n",
        "\n",
        " **The highest negative correlation is between:**\n",
        "\n",
        " Area and Price/sqr_meter: -0.21\n",
        "\n",
        " Rooms and Price/sqr_meter: -0.21"
      ],
      "metadata": {
        "id": "BGh_NxyP9OiW"
      }
    },
    {
      "cell_type": "markdown",
      "source": [
        "###Conclusions"
      ],
      "metadata": {
        "id": "a8QxZb319ng_"
      }
    },
    {
      "cell_type": "markdown",
      "source": [
        "Data without Outliers strengthened both correlations."
      ],
      "metadata": {
        "id": "Rhg_ODMS-Wwq"
      }
    },
    {
      "cell_type": "markdown",
      "source": [
        "##Justification"
      ],
      "metadata": {
        "id": "L_2ITGNaXus2"
      }
    },
    {
      "cell_type": "markdown",
      "source": [
        "For further analysis, I used data without outliers because the data comes from a platform where anyone can add a listing. This may therefore distort the overall picture of apartment values in Poland. "
      ],
      "metadata": {
        "id": "ANmKcF21XfY6"
      }
    },
    {
      "cell_type": "markdown",
      "source": [
        "##Skewness"
      ],
      "metadata": {
        "id": "LFjytLl-wwwt"
      }
    },
    {
      "cell_type": "code",
      "source": [
        "sns.set(rc={'figure.figsize':(6,26)})\n",
        "count = 1\n",
        "for i in data_o.columns[data_o.columns != 'City']:\n",
        "  plt.subplot(5,1,count)\n",
        "  sns.histplot(data_o[i], kde=True)\n",
        "  count += 1\n",
        "\n",
        "plt.show()"
      ],
      "metadata": {
        "colab": {
          "base_uri": "https://localhost:8080/",
          "height": 1000
        },
        "id": "3wr87jVCDfpH",
        "outputId": "9dd65980-6b18-4488-ad51-418b9c166f8e"
      },
      "execution_count": 26,
      "outputs": [
        {
          "output_type": "display_data",
          "data": {
            "text/plain": [
              "<Figure size 432x1872 with 5 Axes>"
            ],
            "image/png": "[encoded data removed]"
          },
          "metadata": {}
        }
      ]
    },
    {
      "cell_type": "markdown",
      "source": [
        "\"Price/sqr_meter\" column appears to be normally distributed"
      ],
      "metadata": {
        "id": "ilSUF1QuJZ-Q"
      }
    },
    {
      "cell_type": "markdown",
      "source": [
        "##Questions"
      ],
      "metadata": {
        "id": "tr_mNvvDzlM6"
      }
    },
    {
      "cell_type": "markdown",
      "source": [
        "**Which apartment is the most expensive?**"
      ],
      "metadata": {
        "id": "B33rJgq_z2fI"
      }
    },
    {
      "cell_type": "code",
      "source": [
        "data_o[data_o['Price [PLN]'] == data_o['Price [PLN]'].max()]"
      ],
      "metadata": {
        "colab": {
          "base_uri": "https://localhost:8080/",
          "height": 81
        },
        "id": "EDTbEbQJz11I",
        "outputId": "52f7f764-74b9-4c9a-c3eb-fcea7e9389b6"
      },
      "execution_count": 27,
      "outputs": [
        {
          "output_type": "execute_result",
          "data": {
            "text/plain": [
              "         City  Price [PLN]  Price/sqr_meter [PLN]  Area [m^2]  Rooms  Level\n",
              "6004  Wroclaw  2780800.000              21227.000     131.000  4.000  5.000"
            ],
            "text/html": [
              "\n",
              "  <div id=\"df-9ce327a4-37f4-4ef1-9c04-ed4925793738\">\n",
              "    <div class=\"colab-df-container\">\n",
              "      <div>\n",
              "<style scoped>\n",
              "    .dataframe tbody tr th:only-of-type {\n",
              "        vertical-align: middle;\n",
              "    }\n",
              "\n",
              "    .dataframe tbody tr th {\n",
              "        vertical-align: top;\n",
              "    }\n",
              "\n",
              "    .dataframe thead th {\n",
              "        text-align: right;\n",
              "    }\n",
              "</style>\n",
              "<table border=\"1\" class=\"dataframe\">\n",
              "  <thead>\n",
              "    <tr style=\"text-align: right;\">\n",
              "      <th></th>\n",
              "      <th>City</th>\n",
              "      <th>Price [PLN]</th>\n",
              "      <th>Price/sqr_meter [PLN]</th>\n",
              "      <th>Area [m^2]</th>\n",
              "      <th>Rooms</th>\n",
              "      <th>Level</th>\n",
              "    </tr>\n",
              "  </thead>\n",
              "  <tbody>\n",
              "    <tr>\n",
              "      <th>6004</th>\n",
              "      <td>Wroclaw</td>\n",
              "      <td>2780800.000</td>\n",
              "      <td>21227.000</td>\n",
              "      <td>131.000</td>\n",
              "      <td>4.000</td>\n",
              "      <td>5.000</td>\n",
              "    </tr>\n",
              "  </tbody>\n",
              "</table>\n",
              "</div>\n",
              "      <button class=\"colab-df-convert\" onclick=\"convertToInteractive('df-9ce327a4-37f4-4ef1-9c04-ed4925793738')\"\n",
              "              title=\"Convert this dataframe to an interactive table.\"\n",
              "              style=\"display:none;\">\n",
              "        \n",
              "  <svg xmlns=\"http://www.w3.org/2000/svg\" height=\"24px\"viewBox=\"0 0 24 24\"\n",
              "       width=\"24px\">\n",
              "    <path d=\"M0 0h24v24H0V0z\" fill=\"none\"/>\n",
              "    <path d=\"M18.56 5.44l.94 2.06.94-2.06 2.06-.94-2.06-.94-.94-2.06-.94 2.06-2.06.94zm-11 1L8.5 8.5l.94-2.06 2.06-.94-2.06-.94L8.5 2.5l-.94 2.06-2.06.94zm10 10l.94 2.06.94-2.06 2.06-.94-2.06-.94-.94-2.06-.94 2.06-2.06.94z\"/><path d=\"M17.41 7.96l-1.37-1.37c-.4-.4-.92-.59-1.43-.59-.52 0-1.04.2-1.43.59L10.3 9.45l-7.72 7.72c-.78.78-.78 2.05 0 2.83L4 21.41c.39.39.9.59 1.41.59.51 0 1.02-.2 1.41-.59l7.78-7.78 2.81-2.81c.8-.78.8-2.07 0-2.86zM5.41 20L4 18.59l7.72-7.72 1.47 1.35L5.41 20z\"/>\n",
              "  </svg>\n",
              "      </button>\n",
              "      \n",
              "  <style>\n",
              "    .colab-df-container {\n",
              "      display:flex;\n",
              "      flex-wrap:wrap;\n",
              "      gap: 12px;\n",
              "    }\n",
              "\n",
              "    .colab-df-convert {\n",
              "      background-color: #E8F0FE;\n",
              "      border: none;\n",
              "      border-radius: 50%;\n",
              "      cursor: pointer;\n",
              "      display: none;\n",
              "      fill: #1967D2;\n",
              "      height: 32px;\n",
              "      padding: 0 0 0 0;\n",
              "      width: 32px;\n",
              "    }\n",
              "\n",
              "    .colab-df-convert:hover {\n",
              "      background-color: #E2EBFA;\n",
              "      box-shadow: 0px 1px 2px rgba(60, 64, 67, 0.3), 0px 1px 3px 1px rgba(60, 64, 67, 0.15);\n",
              "      fill: #174EA6;\n",
              "    }\n",
              "\n",
              "    [theme=dark] .colab-df-convert {\n",
              "      background-color: #3B4455;\n",
              "      fill: #D2E3FC;\n",
              "    }\n",
              "\n",
              "    [theme=dark] .colab-df-convert:hover {\n",
              "      background-color: #434B5C;\n",
              "      box-shadow: 0px 1px 3px 1px rgba(0, 0, 0, 0.15);\n",
              "      filter: drop-shadow(0px 1px 2px rgba(0, 0, 0, 0.3));\n",
              "      fill: #FFFFFF;\n",
              "    }\n",
              "  </style>\n",
              "\n",
              "      <script>\n",
              "        const buttonEl =\n",
              "          document.querySelector('#df-9ce327a4-37f4-4ef1-9c04-ed4925793738 button.colab-df-convert');\n",
              "        buttonEl.style.display =\n",
              "          google.colab.kernel.accessAllowed ? 'block' : 'none';\n",
              "\n",
              "        async function convertToInteractive(key) {\n",
              "          const element = document.querySelector('#df-9ce327a4-37f4-4ef1-9c04-ed4925793738');\n",
              "          const dataTable =\n",
              "            await google.colab.kernel.invokeFunction('convertToInteractive',\n",
              "                                                     [key], {});\n",
              "          if (!dataTable) return;\n",
              "\n",
              "          const docLinkHtml = 'Like what you see? Visit the ' +\n",
              "            '<a target=\"_blank\" href=https://colab.research.google.com/notebooks/data_table.ipynb>data table notebook</a>'\n",
              "            + ' to learn more about interactive tables.';\n",
              "          element.innerHTML = '';\n",
              "          dataTable['output_type'] = 'display_data';\n",
              "          await google.colab.output.renderOutput(dataTable, element);\n",
              "          const docLink = document.createElement('div');\n",
              "          docLink.innerHTML = docLinkHtml;\n",
              "          element.appendChild(docLink);\n",
              "        }\n",
              "      </script>\n",
              "    </div>\n",
              "  </div>\n",
              "  "
            ]
          },
          "metadata": {},
          "execution_count": 27
        }
      ]
    },
    {
      "cell_type": "markdown",
      "source": [
        "**Which apartment is the cheapest?**\n",
        "\n"
      ],
      "metadata": {
        "id": "jTXrESZfjalF"
      }
    },
    {
      "cell_type": "code",
      "source": [
        "data_o[data_o['Price [PLN]'] == data_o['Price [PLN]'].min()]"
      ],
      "metadata": {
        "colab": {
          "base_uri": "https://localhost:8080/",
          "height": 81
        },
        "id": "V257F_V2jaDB",
        "outputId": "cc464bd9-3513-4437-dca5-df2dbb669baa"
      },
      "execution_count": 28,
      "outputs": [
        {
          "output_type": "execute_result",
          "data": {
            "text/plain": [
              "       City  Price [PLN]  Price/sqr_meter [PLN]  Area [m^2]  Rooms  Level\n",
              "393  Cracow    44900.000               1103.190      40.700  2.000  0.000"
            ],
            "text/html": [
              "\n",
              "  <div id=\"df-2feabb00-d183-485e-8eac-36611b65b4e4\">\n",
              "    <div class=\"colab-df-container\">\n",
              "      <div>\n",
              "<style scoped>\n",
              "    .dataframe tbody tr th:only-of-type {\n",
              "        vertical-align: middle;\n",
              "    }\n",
              "\n",
              "    .dataframe tbody tr th {\n",
              "        vertical-align: top;\n",
              "    }\n",
              "\n",
              "    .dataframe thead th {\n",
              "        text-align: right;\n",
              "    }\n",
              "</style>\n",
              "<table border=\"1\" class=\"dataframe\">\n",
              "  <thead>\n",
              "    <tr style=\"text-align: right;\">\n",
              "      <th></th>\n",
              "      <th>City</th>\n",
              "      <th>Price [PLN]</th>\n",
              "      <th>Price/sqr_meter [PLN]</th>\n",
              "      <th>Area [m^2]</th>\n",
              "      <th>Rooms</th>\n",
              "      <th>Level</th>\n",
              "    </tr>\n",
              "  </thead>\n",
              "  <tbody>\n",
              "    <tr>\n",
              "      <th>393</th>\n",
              "      <td>Cracow</td>\n",
              "      <td>44900.000</td>\n",
              "      <td>1103.190</td>\n",
              "      <td>40.700</td>\n",
              "      <td>2.000</td>\n",
              "      <td>0.000</td>\n",
              "    </tr>\n",
              "  </tbody>\n",
              "</table>\n",
              "</div>\n",
              "      <button class=\"colab-df-convert\" onclick=\"convertToInteractive('df-2feabb00-d183-485e-8eac-36611b65b4e4')\"\n",
              "              title=\"Convert this dataframe to an interactive table.\"\n",
              "              style=\"display:none;\">\n",
              "        \n",
              "  <svg xmlns=\"http://www.w3.org/2000/svg\" height=\"24px\"viewBox=\"0 0 24 24\"\n",
              "       width=\"24px\">\n",
              "    <path d=\"M0 0h24v24H0V0z\" fill=\"none\"/>\n",
              "    <path d=\"M18.56 5.44l.94 2.06.94-2.06 2.06-.94-2.06-.94-.94-2.06-.94 2.06-2.06.94zm-11 1L8.5 8.5l.94-2.06 2.06-.94-2.06-.94L8.5 2.5l-.94 2.06-2.06.94zm10 10l.94 2.06.94-2.06 2.06-.94-2.06-.94-.94-2.06-.94 2.06-2.06.94z\"/><path d=\"M17.41 7.96l-1.37-1.37c-.4-.4-.92-.59-1.43-.59-.52 0-1.04.2-1.43.59L10.3 9.45l-7.72 7.72c-.78.78-.78 2.05 0 2.83L4 21.41c.39.39.9.59 1.41.59.51 0 1.02-.2 1.41-.59l7.78-7.78 2.81-2.81c.8-.78.8-2.07 0-2.86zM5.41 20L4 18.59l7.72-7.72 1.47 1.35L5.41 20z\"/>\n",
              "  </svg>\n",
              "      </button>\n",
              "      \n",
              "  <style>\n",
              "    .colab-df-container {\n",
              "      display:flex;\n",
              "      flex-wrap:wrap;\n",
              "      gap: 12px;\n",
              "    }\n",
              "\n",
              "    .colab-df-convert {\n",
              "      background-color: #E8F0FE;\n",
              "      border: none;\n",
              "      border-radius: 50%;\n",
              "      cursor: pointer;\n",
              "      display: none;\n",
              "      fill: #1967D2;\n",
              "      height: 32px;\n",
              "      padding: 0 0 0 0;\n",
              "      width: 32px;\n",
              "    }\n",
              "\n",
              "    .colab-df-convert:hover {\n",
              "      background-color: #E2EBFA;\n",
              "      box-shadow: 0px 1px 2px rgba(60, 64, 67, 0.3), 0px 1px 3px 1px rgba(60, 64, 67, 0.15);\n",
              "      fill: #174EA6;\n",
              "    }\n",
              "\n",
              "    [theme=dark] .colab-df-convert {\n",
              "      background-color: #3B4455;\n",
              "      fill: #D2E3FC;\n",
              "    }\n",
              "\n",
              "    [theme=dark] .colab-df-convert:hover {\n",
              "      background-color: #434B5C;\n",
              "      box-shadow: 0px 1px 3px 1px rgba(0, 0, 0, 0.15);\n",
              "      filter: drop-shadow(0px 1px 2px rgba(0, 0, 0, 0.3));\n",
              "      fill: #FFFFFF;\n",
              "    }\n",
              "  </style>\n",
              "\n",
              "      <script>\n",
              "        const buttonEl =\n",
              "          document.querySelector('#df-2feabb00-d183-485e-8eac-36611b65b4e4 button.colab-df-convert');\n",
              "        buttonEl.style.display =\n",
              "          google.colab.kernel.accessAllowed ? 'block' : 'none';\n",
              "\n",
              "        async function convertToInteractive(key) {\n",
              "          const element = document.querySelector('#df-2feabb00-d183-485e-8eac-36611b65b4e4');\n",
              "          const dataTable =\n",
              "            await google.colab.kernel.invokeFunction('convertToInteractive',\n",
              "                                                     [key], {});\n",
              "          if (!dataTable) return;\n",
              "\n",
              "          const docLinkHtml = 'Like what you see? Visit the ' +\n",
              "            '<a target=\"_blank\" href=https://colab.research.google.com/notebooks/data_table.ipynb>data table notebook</a>'\n",
              "            + ' to learn more about interactive tables.';\n",
              "          element.innerHTML = '';\n",
              "          dataTable['output_type'] = 'display_data';\n",
              "          await google.colab.output.renderOutput(dataTable, element);\n",
              "          const docLink = document.createElement('div');\n",
              "          docLink.innerHTML = docLinkHtml;\n",
              "          element.appendChild(docLink);\n",
              "        }\n",
              "      </script>\n",
              "    </div>\n",
              "  </div>\n",
              "  "
            ]
          },
          "metadata": {},
          "execution_count": 28
        }
      ]
    },
    {
      "cell_type": "markdown",
      "source": [
        "**Which apartments cost more than one million PLN?**"
      ],
      "metadata": {
        "id": "D3svL4aA3hQ7"
      }
    },
    {
      "cell_type": "code",
      "source": [
        "data_o[data_o['Price [PLN]'] > 1000000]"
      ],
      "metadata": {
        "colab": {
          "base_uri": "https://localhost:8080/",
          "height": 424
        },
        "id": "WV5GOgty3u6E",
        "outputId": "cb79dff3-c72f-4cf7-efda-77424909464f"
      },
      "execution_count": 29,
      "outputs": [
        {
          "output_type": "execute_result",
          "data": {
            "text/plain": [
              "              City  Price [PLN]  Price/sqr_meter [PLN]  Area [m^2]  Rooms  \\\n",
              "15          Cracow  2073042.000              15900.000     130.380  4.000   \n",
              "16          Cracow  1358280.000              14003.000      97.000  4.000   \n",
              "20          Cracow  1050500.000              12500.000      84.040  4.000   \n",
              "23          Cracow  1168860.000              16500.000      70.840  3.000   \n",
              "31          Cracow  1530000.000              16558.000      92.400  5.000   \n",
              "...            ...          ...                    ...         ...    ...   \n",
              "6634       Wroclaw  1350000.000              12162.000     111.000  4.000   \n",
              "6636       Wroclaw  1335000.000              16481.000      81.000  4.000   \n",
              "6644       Wroclaw  1150000.000              18400.000      62.500  2.000   \n",
              "6690       Wroclaw  1026000.000              15155.000      67.700  3.000   \n",
              "6959  Zielona Gora  1190000.000              12180.140      97.700  3.000   \n",
              "\n",
              "      Level  \n",
              "15    1.000  \n",
              "16    4.000  \n",
              "20    1.000  \n",
              "23    0.000  \n",
              "31    3.000  \n",
              "...     ...  \n",
              "6634  3.000  \n",
              "6636  8.000  \n",
              "6644  2.000  \n",
              "6690  1.000  \n",
              "6959  2.000  \n",
              "\n",
              "[371 rows x 6 columns]"
            ],
            "text/html": [
              "\n",
              "  <div id=\"df-2775bf7e-9419-4dd8-ade6-0227f1303eae\">\n",
              "    <div class=\"colab-df-container\">\n",
              "      <div>\n",
              "<style scoped>\n",
              "    .dataframe tbody tr th:only-of-type {\n",
              "        vertical-align: middle;\n",
              "    }\n",
              "\n",
              "    .dataframe tbody tr th {\n",
              "        vertical-align: top;\n",
              "    }\n",
              "\n",
              "    .dataframe thead th {\n",
              "        text-align: right;\n",
              "    }\n",
              "</style>\n",
              "<table border=\"1\" class=\"dataframe\">\n",
              "  <thead>\n",
              "    <tr style=\"text-align: right;\">\n",
              "      <th></th>\n",
              "      <th>City</th>\n",
              "      <th>Price [PLN]</th>\n",
              "      <th>Price/sqr_meter [PLN]</th>\n",
              "      <th>Area [m^2]</th>\n",
              "      <th>Rooms</th>\n",
              "      <th>Level</th>\n",
              "    </tr>\n",
              "  </thead>\n",
              "  <tbody>\n",
              "    <tr>\n",
              "      <th>15</th>\n",
              "      <td>Cracow</td>\n",
              "      <td>2073042.000</td>\n",
              "      <td>15900.000</td>\n",
              "      <td>130.380</td>\n",
              "      <td>4.000</td>\n",
              "      <td>1.000</td>\n",
              "    </tr>\n",
              "    <tr>\n",
              "      <th>16</th>\n",
              "      <td>Cracow</td>\n",
              "      <td>1358280.000</td>\n",
              "      <td>14003.000</td>\n",
              "      <td>97.000</td>\n",
              "      <td>4.000</td>\n",
              "      <td>4.000</td>\n",
              "    </tr>\n",
              "    <tr>\n",
              "      <th>20</th>\n",
              "      <td>Cracow</td>\n",
              "      <td>1050500.000</td>\n",
              "      <td>12500.000</td>\n",
              "      <td>84.040</td>\n",
              "      <td>4.000</td>\n",
              "      <td>1.000</td>\n",
              "    </tr>\n",
              "    <tr>\n",
              "      <th>23</th>\n",
              "      <td>Cracow</td>\n",
              "      <td>1168860.000</td>\n",
              "      <td>16500.000</td>\n",
              "      <td>70.840</td>\n",
              "      <td>3.000</td>\n",
              "      <td>0.000</td>\n",
              "    </tr>\n",
              "    <tr>\n",
              "      <th>31</th>\n",
              "      <td>Cracow</td>\n",
              "      <td>1530000.000</td>\n",
              "      <td>16558.000</td>\n",
              "      <td>92.400</td>\n",
              "      <td>5.000</td>\n",
              "      <td>3.000</td>\n",
              "    </tr>\n",
              "    <tr>\n",
              "      <th>...</th>\n",
              "      <td>...</td>\n",
              "      <td>...</td>\n",
              "      <td>...</td>\n",
              "      <td>...</td>\n",
              "      <td>...</td>\n",
              "      <td>...</td>\n",
              "    </tr>\n",
              "    <tr>\n",
              "      <th>6634</th>\n",
              "      <td>Wroclaw</td>\n",
              "      <td>1350000.000</td>\n",
              "      <td>12162.000</td>\n",
              "      <td>111.000</td>\n",
              "      <td>4.000</td>\n",
              "      <td>3.000</td>\n",
              "    </tr>\n",
              "    <tr>\n",
              "      <th>6636</th>\n",
              "      <td>Wroclaw</td>\n",
              "      <td>1335000.000</td>\n",
              "      <td>16481.000</td>\n",
              "      <td>81.000</td>\n",
              "      <td>4.000</td>\n",
              "      <td>8.000</td>\n",
              "    </tr>\n",
              "    <tr>\n",
              "      <th>6644</th>\n",
              "      <td>Wroclaw</td>\n",
              "      <td>1150000.000</td>\n",
              "      <td>18400.000</td>\n",
              "      <td>62.500</td>\n",
              "      <td>2.000</td>\n",
              "      <td>2.000</td>\n",
              "    </tr>\n",
              "    <tr>\n",
              "      <th>6690</th>\n",
              "      <td>Wroclaw</td>\n",
              "      <td>1026000.000</td>\n",
              "      <td>15155.000</td>\n",
              "      <td>67.700</td>\n",
              "      <td>3.000</td>\n",
              "      <td>1.000</td>\n",
              "    </tr>\n",
              "    <tr>\n",
              "      <th>6959</th>\n",
              "      <td>Zielona Gora</td>\n",
              "      <td>1190000.000</td>\n",
              "      <td>12180.140</td>\n",
              "      <td>97.700</td>\n",
              "      <td>3.000</td>\n",
              "      <td>2.000</td>\n",
              "    </tr>\n",
              "  </tbody>\n",
              "</table>\n",
              "<p>371 rows × 6 columns</p>\n",
              "</div>\n",
              "      <button class=\"colab-df-convert\" onclick=\"convertToInteractive('df-2775bf7e-9419-4dd8-ade6-0227f1303eae')\"\n",
              "              title=\"Convert this dataframe to an interactive table.\"\n",
              "              style=\"display:none;\">\n",
              "        \n",
              "  <svg xmlns=\"http://www.w3.org/2000/svg\" height=\"24px\"viewBox=\"0 0 24 24\"\n",
              "       width=\"24px\">\n",
              "    <path d=\"M0 0h24v24H0V0z\" fill=\"none\"/>\n",
              "    <path d=\"M18.56 5.44l.94 2.06.94-2.06 2.06-.94-2.06-.94-.94-2.06-.94 2.06-2.06.94zm-11 1L8.5 8.5l.94-2.06 2.06-.94-2.06-.94L8.5 2.5l-.94 2.06-2.06.94zm10 10l.94 2.06.94-2.06 2.06-.94-2.06-.94-.94-2.06-.94 2.06-2.06.94z\"/><path d=\"M17.41 7.96l-1.37-1.37c-.4-.4-.92-.59-1.43-.59-.52 0-1.04.2-1.43.59L10.3 9.45l-7.72 7.72c-.78.78-.78 2.05 0 2.83L4 21.41c.39.39.9.59 1.41.59.51 0 1.02-.2 1.41-.59l7.78-7.78 2.81-2.81c.8-.78.8-2.07 0-2.86zM5.41 20L4 18.59l7.72-7.72 1.47 1.35L5.41 20z\"/>\n",
              "  </svg>\n",
              "      </button>\n",
              "      \n",
              "  <style>\n",
              "    .colab-df-container {\n",
              "      display:flex;\n",
              "      flex-wrap:wrap;\n",
              "      gap: 12px;\n",
              "    }\n",
              "\n",
              "    .colab-df-convert {\n",
              "      background-color: #E8F0FE;\n",
              "      border: none;\n",
              "      border-radius: 50%;\n",
              "      cursor: pointer;\n",
              "      display: none;\n",
              "      fill: #1967D2;\n",
              "      height: 32px;\n",
              "      padding: 0 0 0 0;\n",
              "      width: 32px;\n",
              "    }\n",
              "\n",
              "    .colab-df-convert:hover {\n",
              "      background-color: #E2EBFA;\n",
              "      box-shadow: 0px 1px 2px rgba(60, 64, 67, 0.3), 0px 1px 3px 1px rgba(60, 64, 67, 0.15);\n",
              "      fill: #174EA6;\n",
              "    }\n",
              "\n",
              "    [theme=dark] .colab-df-convert {\n",
              "      background-color: #3B4455;\n",
              "      fill: #D2E3FC;\n",
              "    }\n",
              "\n",
              "    [theme=dark] .colab-df-convert:hover {\n",
              "      background-color: #434B5C;\n",
              "      box-shadow: 0px 1px 3px 1px rgba(0, 0, 0, 0.15);\n",
              "      filter: drop-shadow(0px 1px 2px rgba(0, 0, 0, 0.3));\n",
              "      fill: #FFFFFF;\n",
              "    }\n",
              "  </style>\n",
              "\n",
              "      <script>\n",
              "        const buttonEl =\n",
              "          document.querySelector('#df-2775bf7e-9419-4dd8-ade6-0227f1303eae button.colab-df-convert');\n",
              "        buttonEl.style.display =\n",
              "          google.colab.kernel.accessAllowed ? 'block' : 'none';\n",
              "\n",
              "        async function convertToInteractive(key) {\n",
              "          const element = document.querySelector('#df-2775bf7e-9419-4dd8-ade6-0227f1303eae');\n",
              "          const dataTable =\n",
              "            await google.colab.kernel.invokeFunction('convertToInteractive',\n",
              "                                                     [key], {});\n",
              "          if (!dataTable) return;\n",
              "\n",
              "          const docLinkHtml = 'Like what you see? Visit the ' +\n",
              "            '<a target=\"_blank\" href=https://colab.research.google.com/notebooks/data_table.ipynb>data table notebook</a>'\n",
              "            + ' to learn more about interactive tables.';\n",
              "          element.innerHTML = '';\n",
              "          dataTable['output_type'] = 'display_data';\n",
              "          await google.colab.output.renderOutput(dataTable, element);\n",
              "          const docLink = document.createElement('div');\n",
              "          docLink.innerHTML = docLinkHtml;\n",
              "          element.appendChild(docLink);\n",
              "        }\n",
              "      </script>\n",
              "    </div>\n",
              "  </div>\n",
              "  "
            ]
          },
          "metadata": {},
          "execution_count": 29
        }
      ]
    },
    {
      "cell_type": "markdown",
      "source": [
        "**What is the average apartment price for each city?**"
      ],
      "metadata": {
        "id": "RiRLMUBn46u9"
      }
    },
    {
      "cell_type": "code",
      "source": [
        "avg = pd.DataFrame(columns=['City', 'Avg'])\n",
        "for i in data_o.City.unique():\n",
        "  tmp = pd.DataFrame({'City': [i],'Avg' : [data_o['Price [PLN]'][data_o.City == i].mean()]})\n",
        "  avg = pd.concat([avg, tmp], ignore_index = True)\n",
        "\n",
        "avg"
      ],
      "metadata": {
        "colab": {
          "base_uri": "https://localhost:8080/",
          "height": 300
        },
        "id": "BpDhfviP4zaT",
        "outputId": "aaab1148-8687-4618-e934-8fa92cc0dd59"
      },
      "execution_count": 30,
      "outputs": [
        {
          "output_type": "execute_result",
          "data": {
            "text/plain": [
              "           City        Avg\n",
              "0        Cracow 625354.462\n",
              "1        Gdansk 603785.490\n",
              "2        Gdynia 627658.684\n",
              "3        Poznan 502006.806\n",
              "4      Szczecin 496886.763\n",
              "5        Warsaw 723986.523\n",
              "6       Wroclaw 594226.605\n",
              "7  Zielona Gora 383309.532"
            ],
            "text/html": [
              "\n",
              "  <div id=\"df-629eb7f6-7b80-44d3-8cf4-7a51fc5e8425\">\n",
              "    <div class=\"colab-df-container\">\n",
              "      <div>\n",
              "<style scoped>\n",
              "    .dataframe tbody tr th:only-of-type {\n",
              "        vertical-align: middle;\n",
              "    }\n",
              "\n",
              "    .dataframe tbody tr th {\n",
              "        vertical-align: top;\n",
              "    }\n",
              "\n",
              "    .dataframe thead th {\n",
              "        text-align: right;\n",
              "    }\n",
              "</style>\n",
              "<table border=\"1\" class=\"dataframe\">\n",
              "  <thead>\n",
              "    <tr style=\"text-align: right;\">\n",
              "      <th></th>\n",
              "      <th>City</th>\n",
              "      <th>Avg</th>\n",
              "    </tr>\n",
              "  </thead>\n",
              "  <tbody>\n",
              "    <tr>\n",
              "      <th>0</th>\n",
              "      <td>Cracow</td>\n",
              "      <td>625354.462</td>\n",
              "    </tr>\n",
              "    <tr>\n",
              "      <th>1</th>\n",
              "      <td>Gdansk</td>\n",
              "      <td>603785.490</td>\n",
              "    </tr>\n",
              "    <tr>\n",
              "      <th>2</th>\n",
              "      <td>Gdynia</td>\n",
              "      <td>627658.684</td>\n",
              "    </tr>\n",
              "    <tr>\n",
              "      <th>3</th>\n",
              "      <td>Poznan</td>\n",
              "      <td>502006.806</td>\n",
              "    </tr>\n",
              "    <tr>\n",
              "      <th>4</th>\n",
              "      <td>Szczecin</td>\n",
              "      <td>496886.763</td>\n",
              "    </tr>\n",
              "    <tr>\n",
              "      <th>5</th>\n",
              "      <td>Warsaw</td>\n",
              "      <td>723986.523</td>\n",
              "    </tr>\n",
              "    <tr>\n",
              "      <th>6</th>\n",
              "      <td>Wroclaw</td>\n",
              "      <td>594226.605</td>\n",
              "    </tr>\n",
              "    <tr>\n",
              "      <th>7</th>\n",
              "      <td>Zielona Gora</td>\n",
              "      <td>383309.532</td>\n",
              "    </tr>\n",
              "  </tbody>\n",
              "</table>\n",
              "</div>\n",
              "      <button class=\"colab-df-convert\" onclick=\"convertToInteractive('df-629eb7f6-7b80-44d3-8cf4-7a51fc5e8425')\"\n",
              "              title=\"Convert this dataframe to an interactive table.\"\n",
              "              style=\"display:none;\">\n",
              "        \n",
              "  <svg xmlns=\"http://www.w3.org/2000/svg\" height=\"24px\"viewBox=\"0 0 24 24\"\n",
              "       width=\"24px\">\n",
              "    <path d=\"M0 0h24v24H0V0z\" fill=\"none\"/>\n",
              "    <path d=\"M18.56 5.44l.94 2.06.94-2.06 2.06-.94-2.06-.94-.94-2.06-.94 2.06-2.06.94zm-11 1L8.5 8.5l.94-2.06 2.06-.94-2.06-.94L8.5 2.5l-.94 2.06-2.06.94zm10 10l.94 2.06.94-2.06 2.06-.94-2.06-.94-.94-2.06-.94 2.06-2.06.94z\"/><path d=\"M17.41 7.96l-1.37-1.37c-.4-.4-.92-.59-1.43-.59-.52 0-1.04.2-1.43.59L10.3 9.45l-7.72 7.72c-.78.78-.78 2.05 0 2.83L4 21.41c.39.39.9.59 1.41.59.51 0 1.02-.2 1.41-.59l7.78-7.78 2.81-2.81c.8-.78.8-2.07 0-2.86zM5.41 20L4 18.59l7.72-7.72 1.47 1.35L5.41 20z\"/>\n",
              "  </svg>\n",
              "      </button>\n",
              "      \n",
              "  <style>\n",
              "    .colab-df-container {\n",
              "      display:flex;\n",
              "      flex-wrap:wrap;\n",
              "      gap: 12px;\n",
              "    }\n",
              "\n",
              "    .colab-df-convert {\n",
              "      background-color: #E8F0FE;\n",
              "      border: none;\n",
              "      border-radius: 50%;\n",
              "      cursor: pointer;\n",
              "      display: none;\n",
              "      fill: #1967D2;\n",
              "      height: 32px;\n",
              "      padding: 0 0 0 0;\n",
              "      width: 32px;\n",
              "    }\n",
              "\n",
              "    .colab-df-convert:hover {\n",
              "      background-color: #E2EBFA;\n",
              "      box-shadow: 0px 1px 2px rgba(60, 64, 67, 0.3), 0px 1px 3px 1px rgba(60, 64, 67, 0.15);\n",
              "      fill: #174EA6;\n",
              "    }\n",
              "\n",
              "    [theme=dark] .colab-df-convert {\n",
              "      background-color: #3B4455;\n",
              "      fill: #D2E3FC;\n",
              "    }\n",
              "\n",
              "    [theme=dark] .colab-df-convert:hover {\n",
              "      background-color: #434B5C;\n",
              "      box-shadow: 0px 1px 3px 1px rgba(0, 0, 0, 0.15);\n",
              "      filter: drop-shadow(0px 1px 2px rgba(0, 0, 0, 0.3));\n",
              "      fill: #FFFFFF;\n",
              "    }\n",
              "  </style>\n",
              "\n",
              "      <script>\n",
              "        const buttonEl =\n",
              "          document.querySelector('#df-629eb7f6-7b80-44d3-8cf4-7a51fc5e8425 button.colab-df-convert');\n",
              "        buttonEl.style.display =\n",
              "          google.colab.kernel.accessAllowed ? 'block' : 'none';\n",
              "\n",
              "        async function convertToInteractive(key) {\n",
              "          const element = document.querySelector('#df-629eb7f6-7b80-44d3-8cf4-7a51fc5e8425');\n",
              "          const dataTable =\n",
              "            await google.colab.kernel.invokeFunction('convertToInteractive',\n",
              "                                                     [key], {});\n",
              "          if (!dataTable) return;\n",
              "\n",
              "          const docLinkHtml = 'Like what you see? Visit the ' +\n",
              "            '<a target=\"_blank\" href=https://colab.research.google.com/notebooks/data_table.ipynb>data table notebook</a>'\n",
              "            + ' to learn more about interactive tables.';\n",
              "          element.innerHTML = '';\n",
              "          dataTable['output_type'] = 'display_data';\n",
              "          await google.colab.output.renderOutput(dataTable, element);\n",
              "          const docLink = document.createElement('div');\n",
              "          docLink.innerHTML = docLinkHtml;\n",
              "          element.appendChild(docLink);\n",
              "        }\n",
              "      </script>\n",
              "    </div>\n",
              "  </div>\n",
              "  "
            ]
          },
          "metadata": {},
          "execution_count": 30
        }
      ]
    },
    {
      "cell_type": "markdown",
      "source": [
        "**How many apartments cost more than average price in each city?**"
      ],
      "metadata": {
        "id": "IulI6mlJ6OaA"
      }
    },
    {
      "cell_type": "code",
      "source": [
        "list = []\n",
        "percent = []\n",
        "for i in range(len(avg)):\n",
        "  q = len(data_o[(data_o.City == avg.City[i]) & (data_o['Price [PLN]'] > avg.Avg[i])])\n",
        "  list.append(q)\n",
        "\n",
        "  p = (q/len(data_o[(data_o.City == avg.City[i])])*100)\n",
        "  percent.append(p)\n",
        "\n",
        "#Value in numbers\n",
        "avg['Count_apart_cost_more_than_Avg'] = list\n",
        "\n",
        "#Value in percents\n",
        "avg['Percentage_of_calculated_val'] = percent\n",
        "avg"
      ],
      "metadata": {
        "colab": {
          "base_uri": "https://localhost:8080/",
          "height": 300
        },
        "id": "v9pP3KhMAM7o",
        "outputId": "21303a98-4f60-4853-96cf-1c0d61d2c08d"
      },
      "execution_count": 31,
      "outputs": [
        {
          "output_type": "execute_result",
          "data": {
            "text/plain": [
              "           City        Avg  Count_apart_cost_more_than_Avg  \\\n",
              "0        Cracow 625354.462                             397   \n",
              "1        Gdansk 603785.490                             356   \n",
              "2        Gdynia 627658.684                             347   \n",
              "3        Poznan 502006.806                             344   \n",
              "4      Szczecin 496886.763                             377   \n",
              "5        Warsaw 723986.523                             313   \n",
              "6       Wroclaw 594226.605                             365   \n",
              "7  Zielona Gora 383309.532                             137   \n",
              "\n",
              "   Percentage_of_calculated_val  \n",
              "0                        42.688  \n",
              "1                        38.486  \n",
              "2                        37.312  \n",
              "3                        38.095  \n",
              "4                        44.615  \n",
              "5                        36.353  \n",
              "6                        39.804  \n",
              "7                        41.390  "
            ],
            "text/html": [
              "\n",
              "  <div id=\"df-a93b4587-d1fe-4454-963a-2d2e67ce21c8\">\n",
              "    <div class=\"colab-df-container\">\n",
              "      <div>\n",
              "<style scoped>\n",
              "    .dataframe tbody tr th:only-of-type {\n",
              "        vertical-align: middle;\n",
              "    }\n",
              "\n",
              "    .dataframe tbody tr th {\n",
              "        vertical-align: top;\n",
              "    }\n",
              "\n",
              "    .dataframe thead th {\n",
              "        text-align: right;\n",
              "    }\n",
              "</style>\n",
              "<table border=\"1\" class=\"dataframe\">\n",
              "  <thead>\n",
              "    <tr style=\"text-align: right;\">\n",
              "      <th></th>\n",
              "      <th>City</th>\n",
              "      <th>Avg</th>\n",
              "      <th>Count_apart_cost_more_than_Avg</th>\n",
              "      <th>Percentage_of_calculated_val</th>\n",
              "    </tr>\n",
              "  </thead>\n",
              "  <tbody>\n",
              "    <tr>\n",
              "      <th>0</th>\n",
              "      <td>Cracow</td>\n",
              "      <td>625354.462</td>\n",
              "      <td>397</td>\n",
              "      <td>42.688</td>\n",
              "    </tr>\n",
              "    <tr>\n",
              "      <th>1</th>\n",
              "      <td>Gdansk</td>\n",
              "      <td>603785.490</td>\n",
              "      <td>356</td>\n",
              "      <td>38.486</td>\n",
              "    </tr>\n",
              "    <tr>\n",
              "      <th>2</th>\n",
              "      <td>Gdynia</td>\n",
              "      <td>627658.684</td>\n",
              "      <td>347</td>\n",
              "      <td>37.312</td>\n",
              "    </tr>\n",
              "    <tr>\n",
              "      <th>3</th>\n",
              "      <td>Poznan</td>\n",
              "      <td>502006.806</td>\n",
              "      <td>344</td>\n",
              "      <td>38.095</td>\n",
              "    </tr>\n",
              "    <tr>\n",
              "      <th>4</th>\n",
              "      <td>Szczecin</td>\n",
              "      <td>496886.763</td>\n",
              "      <td>377</td>\n",
              "      <td>44.615</td>\n",
              "    </tr>\n",
              "    <tr>\n",
              "      <th>5</th>\n",
              "      <td>Warsaw</td>\n",
              "      <td>723986.523</td>\n",
              "      <td>313</td>\n",
              "      <td>36.353</td>\n",
              "    </tr>\n",
              "    <tr>\n",
              "      <th>6</th>\n",
              "      <td>Wroclaw</td>\n",
              "      <td>594226.605</td>\n",
              "      <td>365</td>\n",
              "      <td>39.804</td>\n",
              "    </tr>\n",
              "    <tr>\n",
              "      <th>7</th>\n",
              "      <td>Zielona Gora</td>\n",
              "      <td>383309.532</td>\n",
              "      <td>137</td>\n",
              "      <td>41.390</td>\n",
              "    </tr>\n",
              "  </tbody>\n",
              "</table>\n",
              "</div>\n",
              "      <button class=\"colab-df-convert\" onclick=\"convertToInteractive('df-a93b4587-d1fe-4454-963a-2d2e67ce21c8')\"\n",
              "              title=\"Convert this dataframe to an interactive table.\"\n",
              "              style=\"display:none;\">\n",
              "        \n",
              "  <svg xmlns=\"http://www.w3.org/2000/svg\" height=\"24px\"viewBox=\"0 0 24 24\"\n",
              "       width=\"24px\">\n",
              "    <path d=\"M0 0h24v24H0V0z\" fill=\"none\"/>\n",
              "    <path d=\"M18.56 5.44l.94 2.06.94-2.06 2.06-.94-2.06-.94-.94-2.06-.94 2.06-2.06.94zm-11 1L8.5 8.5l.94-2.06 2.06-.94-2.06-.94L8.5 2.5l-.94 2.06-2.06.94zm10 10l.94 2.06.94-2.06 2.06-.94-2.06-.94-.94-2.06-.94 2.06-2.06.94z\"/><path d=\"M17.41 7.96l-1.37-1.37c-.4-.4-.92-.59-1.43-.59-.52 0-1.04.2-1.43.59L10.3 9.45l-7.72 7.72c-.78.78-.78 2.05 0 2.83L4 21.41c.39.39.9.59 1.41.59.51 0 1.02-.2 1.41-.59l7.78-7.78 2.81-2.81c.8-.78.8-2.07 0-2.86zM5.41 20L4 18.59l7.72-7.72 1.47 1.35L5.41 20z\"/>\n",
              "  </svg>\n",
              "      </button>\n",
              "      \n",
              "  <style>\n",
              "    .colab-df-container {\n",
              "      display:flex;\n",
              "      flex-wrap:wrap;\n",
              "      gap: 12px;\n",
              "    }\n",
              "\n",
              "    .colab-df-convert {\n",
              "      background-color: #E8F0FE;\n",
              "      border: none;\n",
              "      border-radius: 50%;\n",
              "      cursor: pointer;\n",
              "      display: none;\n",
              "      fill: #1967D2;\n",
              "      height: 32px;\n",
              "      padding: 0 0 0 0;\n",
              "      width: 32px;\n",
              "    }\n",
              "\n",
              "    .colab-df-convert:hover {\n",
              "      background-color: #E2EBFA;\n",
              "      box-shadow: 0px 1px 2px rgba(60, 64, 67, 0.3), 0px 1px 3px 1px rgba(60, 64, 67, 0.15);\n",
              "      fill: #174EA6;\n",
              "    }\n",
              "\n",
              "    [theme=dark] .colab-df-convert {\n",
              "      background-color: #3B4455;\n",
              "      fill: #D2E3FC;\n",
              "    }\n",
              "\n",
              "    [theme=dark] .colab-df-convert:hover {\n",
              "      background-color: #434B5C;\n",
              "      box-shadow: 0px 1px 3px 1px rgba(0, 0, 0, 0.15);\n",
              "      filter: drop-shadow(0px 1px 2px rgba(0, 0, 0, 0.3));\n",
              "      fill: #FFFFFF;\n",
              "    }\n",
              "  </style>\n",
              "\n",
              "      <script>\n",
              "        const buttonEl =\n",
              "          document.querySelector('#df-a93b4587-d1fe-4454-963a-2d2e67ce21c8 button.colab-df-convert');\n",
              "        buttonEl.style.display =\n",
              "          google.colab.kernel.accessAllowed ? 'block' : 'none';\n",
              "\n",
              "        async function convertToInteractive(key) {\n",
              "          const element = document.querySelector('#df-a93b4587-d1fe-4454-963a-2d2e67ce21c8');\n",
              "          const dataTable =\n",
              "            await google.colab.kernel.invokeFunction('convertToInteractive',\n",
              "                                                     [key], {});\n",
              "          if (!dataTable) return;\n",
              "\n",
              "          const docLinkHtml = 'Like what you see? Visit the ' +\n",
              "            '<a target=\"_blank\" href=https://colab.research.google.com/notebooks/data_table.ipynb>data table notebook</a>'\n",
              "            + ' to learn more about interactive tables.';\n",
              "          element.innerHTML = '';\n",
              "          dataTable['output_type'] = 'display_data';\n",
              "          await google.colab.output.renderOutput(dataTable, element);\n",
              "          const docLink = document.createElement('div');\n",
              "          docLink.innerHTML = docLinkHtml;\n",
              "          element.appendChild(docLink);\n",
              "        }\n",
              "      </script>\n",
              "    </div>\n",
              "  </div>\n",
              "  "
            ]
          },
          "metadata": {},
          "execution_count": 31
        }
      ]
    },
    {
      "cell_type": "markdown",
      "source": [
        "**Which apartments cost more than 3rd quantile of Price?**"
      ],
      "metadata": {
        "id": "eMDnu0v92D4W"
      }
    },
    {
      "cell_type": "code",
      "source": [
        "data_o[data_o['Price [PLN]'] > np.percentile(data_o['Price [PLN]'], 75)]"
      ],
      "metadata": {
        "colab": {
          "base_uri": "https://localhost:8080/",
          "height": 424
        },
        "id": "t8L82hXd2PLF",
        "outputId": "0beb1dbc-538b-4142-9517-8bf2fcde9076"
      },
      "execution_count": 32,
      "outputs": [
        {
          "output_type": "execute_result",
          "data": {
            "text/plain": [
              "              City  Price [PLN]  Price/sqr_meter [PLN]  Area [m^2]  Rooms  \\\n",
              "3           Cracow   980000.000              12500.000      78.400  3.000   \n",
              "4           Cracow   694000.000              13950.000      49.750  3.000   \n",
              "7           Cracow   789300.000              11749.000      67.180  4.000   \n",
              "8           Cracow   977670.000               9000.000     108.630  3.000   \n",
              "12          Cracow   799000.000              12484.000      64.000  3.000   \n",
              "...            ...          ...                    ...         ...    ...   \n",
              "6960  Zielona Gora   700000.000               9479.960      73.840  4.000   \n",
              "6975  Zielona Gora   699000.000               6721.000     104.000  4.000   \n",
              "6978  Zielona Gora   710000.000               7634.000      93.000  3.000   \n",
              "6995  Zielona Gora   699000.000               9470.000      73.810  3.000   \n",
              "7019  Zielona Gora   775000.000               9439.710      82.100  4.000   \n",
              "\n",
              "      Level  \n",
              "3     5.000  \n",
              "4     3.000  \n",
              "7     6.000  \n",
              "8     4.000  \n",
              "12    6.000  \n",
              "...     ...  \n",
              "6960  1.000  \n",
              "6975  1.000  \n",
              "6978  4.000  \n",
              "6995  0.000  \n",
              "7019  0.000  \n",
              "\n",
              "[1661 rows x 6 columns]"
            ],
            "text/html": [
              "\n",
              "  <div id=\"df-fba9a88b-922b-416a-a718-11f276fb4d8d\">\n",
              "    <div class=\"colab-df-container\">\n",
              "      <div>\n",
              "<style scoped>\n",
              "    .dataframe tbody tr th:only-of-type {\n",
              "        vertical-align: middle;\n",
              "    }\n",
              "\n",
              "    .dataframe tbody tr th {\n",
              "        vertical-align: top;\n",
              "    }\n",
              "\n",
              "    .dataframe thead th {\n",
              "        text-align: right;\n",
              "    }\n",
              "</style>\n",
              "<table border=\"1\" class=\"dataframe\">\n",
              "  <thead>\n",
              "    <tr style=\"text-align: right;\">\n",
              "      <th></th>\n",
              "      <th>City</th>\n",
              "      <th>Price [PLN]</th>\n",
              "      <th>Price/sqr_meter [PLN]</th>\n",
              "      <th>Area [m^2]</th>\n",
              "      <th>Rooms</th>\n",
              "      <th>Level</th>\n",
              "    </tr>\n",
              "  </thead>\n",
              "  <tbody>\n",
              "    <tr>\n",
              "      <th>3</th>\n",
              "      <td>Cracow</td>\n",
              "      <td>980000.000</td>\n",
              "      <td>12500.000</td>\n",
              "      <td>78.400</td>\n",
              "      <td>3.000</td>\n",
              "      <td>5.000</td>\n",
              "    </tr>\n",
              "    <tr>\n",
              "      <th>4</th>\n",
              "      <td>Cracow</td>\n",
              "      <td>694000.000</td>\n",
              "      <td>13950.000</td>\n",
              "      <td>49.750</td>\n",
              "      <td>3.000</td>\n",
              "      <td>3.000</td>\n",
              "    </tr>\n",
              "    <tr>\n",
              "      <th>7</th>\n",
              "      <td>Cracow</td>\n",
              "      <td>789300.000</td>\n",
              "      <td>11749.000</td>\n",
              "      <td>67.180</td>\n",
              "      <td>4.000</td>\n",
              "      <td>6.000</td>\n",
              "    </tr>\n",
              "    <tr>\n",
              "      <th>8</th>\n",
              "      <td>Cracow</td>\n",
              "      <td>977670.000</td>\n",
              "      <td>9000.000</td>\n",
              "      <td>108.630</td>\n",
              "      <td>3.000</td>\n",
              "      <td>4.000</td>\n",
              "    </tr>\n",
              "    <tr>\n",
              "      <th>12</th>\n",
              "      <td>Cracow</td>\n",
              "      <td>799000.000</td>\n",
              "      <td>12484.000</td>\n",
              "      <td>64.000</td>\n",
              "      <td>3.000</td>\n",
              "      <td>6.000</td>\n",
              "    </tr>\n",
              "    <tr>\n",
              "      <th>...</th>\n",
              "      <td>...</td>\n",
              "      <td>...</td>\n",
              "      <td>...</td>\n",
              "      <td>...</td>\n",
              "      <td>...</td>\n",
              "      <td>...</td>\n",
              "    </tr>\n",
              "    <tr>\n",
              "      <th>6960</th>\n",
              "      <td>Zielona Gora</td>\n",
              "      <td>700000.000</td>\n",
              "      <td>9479.960</td>\n",
              "      <td>73.840</td>\n",
              "      <td>4.000</td>\n",
              "      <td>1.000</td>\n",
              "    </tr>\n",
              "    <tr>\n",
              "      <th>6975</th>\n",
              "      <td>Zielona Gora</td>\n",
              "      <td>699000.000</td>\n",
              "      <td>6721.000</td>\n",
              "      <td>104.000</td>\n",
              "      <td>4.000</td>\n",
              "      <td>1.000</td>\n",
              "    </tr>\n",
              "    <tr>\n",
              "      <th>6978</th>\n",
              "      <td>Zielona Gora</td>\n",
              "      <td>710000.000</td>\n",
              "      <td>7634.000</td>\n",
              "      <td>93.000</td>\n",
              "      <td>3.000</td>\n",
              "      <td>4.000</td>\n",
              "    </tr>\n",
              "    <tr>\n",
              "      <th>6995</th>\n",
              "      <td>Zielona Gora</td>\n",
              "      <td>699000.000</td>\n",
              "      <td>9470.000</td>\n",
              "      <td>73.810</td>\n",
              "      <td>3.000</td>\n",
              "      <td>0.000</td>\n",
              "    </tr>\n",
              "    <tr>\n",
              "      <th>7019</th>\n",
              "      <td>Zielona Gora</td>\n",
              "      <td>775000.000</td>\n",
              "      <td>9439.710</td>\n",
              "      <td>82.100</td>\n",
              "      <td>4.000</td>\n",
              "      <td>0.000</td>\n",
              "    </tr>\n",
              "  </tbody>\n",
              "</table>\n",
              "<p>1661 rows × 6 columns</p>\n",
              "</div>\n",
              "      <button class=\"colab-df-convert\" onclick=\"convertToInteractive('df-fba9a88b-922b-416a-a718-11f276fb4d8d')\"\n",
              "              title=\"Convert this dataframe to an interactive table.\"\n",
              "              style=\"display:none;\">\n",
              "        \n",
              "  <svg xmlns=\"http://www.w3.org/2000/svg\" height=\"24px\"viewBox=\"0 0 24 24\"\n",
              "       width=\"24px\">\n",
              "    <path d=\"M0 0h24v24H0V0z\" fill=\"none\"/>\n",
              "    <path d=\"M18.56 5.44l.94 2.06.94-2.06 2.06-.94-2.06-.94-.94-2.06-.94 2.06-2.06.94zm-11 1L8.5 8.5l.94-2.06 2.06-.94-2.06-.94L8.5 2.5l-.94 2.06-2.06.94zm10 10l.94 2.06.94-2.06 2.06-.94-2.06-.94-.94-2.06-.94 2.06-2.06.94z\"/><path d=\"M17.41 7.96l-1.37-1.37c-.4-.4-.92-.59-1.43-.59-.52 0-1.04.2-1.43.59L10.3 9.45l-7.72 7.72c-.78.78-.78 2.05 0 2.83L4 21.41c.39.39.9.59 1.41.59.51 0 1.02-.2 1.41-.59l7.78-7.78 2.81-2.81c.8-.78.8-2.07 0-2.86zM5.41 20L4 18.59l7.72-7.72 1.47 1.35L5.41 20z\"/>\n",
              "  </svg>\n",
              "      </button>\n",
              "      \n",
              "  <style>\n",
              "    .colab-df-container {\n",
              "      display:flex;\n",
              "      flex-wrap:wrap;\n",
              "      gap: 12px;\n",
              "    }\n",
              "\n",
              "    .colab-df-convert {\n",
              "      background-color: #E8F0FE;\n",
              "      border: none;\n",
              "      border-radius: 50%;\n",
              "      cursor: pointer;\n",
              "      display: none;\n",
              "      fill: #1967D2;\n",
              "      height: 32px;\n",
              "      padding: 0 0 0 0;\n",
              "      width: 32px;\n",
              "    }\n",
              "\n",
              "    .colab-df-convert:hover {\n",
              "      background-color: #E2EBFA;\n",
              "      box-shadow: 0px 1px 2px rgba(60, 64, 67, 0.3), 0px 1px 3px 1px rgba(60, 64, 67, 0.15);\n",
              "      fill: #174EA6;\n",
              "    }\n",
              "\n",
              "    [theme=dark] .colab-df-convert {\n",
              "      background-color: #3B4455;\n",
              "      fill: #D2E3FC;\n",
              "    }\n",
              "\n",
              "    [theme=dark] .colab-df-convert:hover {\n",
              "      background-color: #434B5C;\n",
              "      box-shadow: 0px 1px 3px 1px rgba(0, 0, 0, 0.15);\n",
              "      filter: drop-shadow(0px 1px 2px rgba(0, 0, 0, 0.3));\n",
              "      fill: #FFFFFF;\n",
              "    }\n",
              "  </style>\n",
              "\n",
              "      <script>\n",
              "        const buttonEl =\n",
              "          document.querySelector('#df-fba9a88b-922b-416a-a718-11f276fb4d8d button.colab-df-convert');\n",
              "        buttonEl.style.display =\n",
              "          google.colab.kernel.accessAllowed ? 'block' : 'none';\n",
              "\n",
              "        async function convertToInteractive(key) {\n",
              "          const element = document.querySelector('#df-fba9a88b-922b-416a-a718-11f276fb4d8d');\n",
              "          const dataTable =\n",
              "            await google.colab.kernel.invokeFunction('convertToInteractive',\n",
              "                                                     [key], {});\n",
              "          if (!dataTable) return;\n",
              "\n",
              "          const docLinkHtml = 'Like what you see? Visit the ' +\n",
              "            '<a target=\"_blank\" href=https://colab.research.google.com/notebooks/data_table.ipynb>data table notebook</a>'\n",
              "            + ' to learn more about interactive tables.';\n",
              "          element.innerHTML = '';\n",
              "          dataTable['output_type'] = 'display_data';\n",
              "          await google.colab.output.renderOutput(dataTable, element);\n",
              "          const docLink = document.createElement('div');\n",
              "          docLink.innerHTML = docLinkHtml;\n",
              "          element.appendChild(docLink);\n",
              "        }\n",
              "      </script>\n",
              "    </div>\n",
              "  </div>\n",
              "  "
            ]
          },
          "metadata": {},
          "execution_count": 32
        }
      ]
    },
    {
      "cell_type": "markdown",
      "source": [
        "**Which apartments are at the hightest level?**"
      ],
      "metadata": {
        "id": "TbOZsB5bl_Ax"
      }
    },
    {
      "cell_type": "code",
      "source": [
        "data_o[data_o.Level == data_o.Level.max()]"
      ],
      "metadata": {
        "colab": {
          "base_uri": "https://localhost:8080/",
          "height": 424
        },
        "id": "dsdQh_vkmJjP",
        "outputId": "4a39ceed-1d2c-4e30-bbf1-51bcce0f6afd"
      },
      "execution_count": 33,
      "outputs": [
        {
          "output_type": "execute_result",
          "data": {
            "text/plain": [
              "              City  Price [PLN]  Price/sqr_meter [PLN]  Area [m^2]  Rooms  \\\n",
              "164         Cracow   470000.000              10428.000      45.070  2.000   \n",
              "225         Cracow   550000.000              13095.240      42.000  2.000   \n",
              "308         Cracow   395000.000              10972.220      36.000  1.000   \n",
              "387         Cracow   640000.000              11351.540      56.380  3.000   \n",
              "538         Cracow   555000.000              12614.000      44.000  3.000   \n",
              "...            ...          ...                    ...         ...    ...   \n",
              "6187       Wroclaw   429000.000              10463.000      41.000  2.000   \n",
              "6279       Wroclaw   565000.000               9401.000      60.100  3.000   \n",
              "6880  Zielona Gora   350000.000               6140.350      57.000  3.000   \n",
              "6903  Zielona Gora   280000.000               7368.420      38.000  2.000   \n",
              "7025  Zielona Gora   352000.000               7111.110      49.500  3.000   \n",
              "\n",
              "      Level  \n",
              "164   9.000  \n",
              "225   9.000  \n",
              "308   9.000  \n",
              "387   9.000  \n",
              "538   9.000  \n",
              "...     ...  \n",
              "6187  9.000  \n",
              "6279  9.000  \n",
              "6880  9.000  \n",
              "6903  9.000  \n",
              "7025  9.000  \n",
              "\n",
              "[89 rows x 6 columns]"
            ],
            "text/html": [
              "\n",
              "  <div id=\"df-5acca4c2-fa53-4f7d-bc6d-141004188422\">\n",
              "    <div class=\"colab-df-container\">\n",
              "      <div>\n",
              "<style scoped>\n",
              "    .dataframe tbody tr th:only-of-type {\n",
              "        vertical-align: middle;\n",
              "    }\n",
              "\n",
              "    .dataframe tbody tr th {\n",
              "        vertical-align: top;\n",
              "    }\n",
              "\n",
              "    .dataframe thead th {\n",
              "        text-align: right;\n",
              "    }\n",
              "</style>\n",
              "<table border=\"1\" class=\"dataframe\">\n",
              "  <thead>\n",
              "    <tr style=\"text-align: right;\">\n",
              "      <th></th>\n",
              "      <th>City</th>\n",
              "      <th>Price [PLN]</th>\n",
              "      <th>Price/sqr_meter [PLN]</th>\n",
              "      <th>Area [m^2]</th>\n",
              "      <th>Rooms</th>\n",
              "      <th>Level</th>\n",
              "    </tr>\n",
              "  </thead>\n",
              "  <tbody>\n",
              "    <tr>\n",
              "      <th>164</th>\n",
              "      <td>Cracow</td>\n",
              "      <td>470000.000</td>\n",
              "      <td>10428.000</td>\n",
              "      <td>45.070</td>\n",
              "      <td>2.000</td>\n",
              "      <td>9.000</td>\n",
              "    </tr>\n",
              "    <tr>\n",
              "      <th>225</th>\n",
              "      <td>Cracow</td>\n",
              "      <td>550000.000</td>\n",
              "      <td>13095.240</td>\n",
              "      <td>42.000</td>\n",
              "      <td>2.000</td>\n",
              "      <td>9.000</td>\n",
              "    </tr>\n",
              "    <tr>\n",
              "      <th>308</th>\n",
              "      <td>Cracow</td>\n",
              "      <td>395000.000</td>\n",
              "      <td>10972.220</td>\n",
              "      <td>36.000</td>\n",
              "      <td>1.000</td>\n",
              "      <td>9.000</td>\n",
              "    </tr>\n",
              "    <tr>\n",
              "      <th>387</th>\n",
              "      <td>Cracow</td>\n",
              "      <td>640000.000</td>\n",
              "      <td>11351.540</td>\n",
              "      <td>56.380</td>\n",
              "      <td>3.000</td>\n",
              "      <td>9.000</td>\n",
              "    </tr>\n",
              "    <tr>\n",
              "      <th>538</th>\n",
              "      <td>Cracow</td>\n",
              "      <td>555000.000</td>\n",
              "      <td>12614.000</td>\n",
              "      <td>44.000</td>\n",
              "      <td>3.000</td>\n",
              "      <td>9.000</td>\n",
              "    </tr>\n",
              "    <tr>\n",
              "      <th>...</th>\n",
              "      <td>...</td>\n",
              "      <td>...</td>\n",
              "      <td>...</td>\n",
              "      <td>...</td>\n",
              "      <td>...</td>\n",
              "      <td>...</td>\n",
              "    </tr>\n",
              "    <tr>\n",
              "      <th>6187</th>\n",
              "      <td>Wroclaw</td>\n",
              "      <td>429000.000</td>\n",
              "      <td>10463.000</td>\n",
              "      <td>41.000</td>\n",
              "      <td>2.000</td>\n",
              "      <td>9.000</td>\n",
              "    </tr>\n",
              "    <tr>\n",
              "      <th>6279</th>\n",
              "      <td>Wroclaw</td>\n",
              "      <td>565000.000</td>\n",
              "      <td>9401.000</td>\n",
              "      <td>60.100</td>\n",
              "      <td>3.000</td>\n",
              "      <td>9.000</td>\n",
              "    </tr>\n",
              "    <tr>\n",
              "      <th>6880</th>\n",
              "      <td>Zielona Gora</td>\n",
              "      <td>350000.000</td>\n",
              "      <td>6140.350</td>\n",
              "      <td>57.000</td>\n",
              "      <td>3.000</td>\n",
              "      <td>9.000</td>\n",
              "    </tr>\n",
              "    <tr>\n",
              "      <th>6903</th>\n",
              "      <td>Zielona Gora</td>\n",
              "      <td>280000.000</td>\n",
              "      <td>7368.420</td>\n",
              "      <td>38.000</td>\n",
              "      <td>2.000</td>\n",
              "      <td>9.000</td>\n",
              "    </tr>\n",
              "    <tr>\n",
              "      <th>7025</th>\n",
              "      <td>Zielona Gora</td>\n",
              "      <td>352000.000</td>\n",
              "      <td>7111.110</td>\n",
              "      <td>49.500</td>\n",
              "      <td>3.000</td>\n",
              "      <td>9.000</td>\n",
              "    </tr>\n",
              "  </tbody>\n",
              "</table>\n",
              "<p>89 rows × 6 columns</p>\n",
              "</div>\n",
              "      <button class=\"colab-df-convert\" onclick=\"convertToInteractive('df-5acca4c2-fa53-4f7d-bc6d-141004188422')\"\n",
              "              title=\"Convert this dataframe to an interactive table.\"\n",
              "              style=\"display:none;\">\n",
              "        \n",
              "  <svg xmlns=\"http://www.w3.org/2000/svg\" height=\"24px\"viewBox=\"0 0 24 24\"\n",
              "       width=\"24px\">\n",
              "    <path d=\"M0 0h24v24H0V0z\" fill=\"none\"/>\n",
              "    <path d=\"M18.56 5.44l.94 2.06.94-2.06 2.06-.94-2.06-.94-.94-2.06-.94 2.06-2.06.94zm-11 1L8.5 8.5l.94-2.06 2.06-.94-2.06-.94L8.5 2.5l-.94 2.06-2.06.94zm10 10l.94 2.06.94-2.06 2.06-.94-2.06-.94-.94-2.06-.94 2.06-2.06.94z\"/><path d=\"M17.41 7.96l-1.37-1.37c-.4-.4-.92-.59-1.43-.59-.52 0-1.04.2-1.43.59L10.3 9.45l-7.72 7.72c-.78.78-.78 2.05 0 2.83L4 21.41c.39.39.9.59 1.41.59.51 0 1.02-.2 1.41-.59l7.78-7.78 2.81-2.81c.8-.78.8-2.07 0-2.86zM5.41 20L4 18.59l7.72-7.72 1.47 1.35L5.41 20z\"/>\n",
              "  </svg>\n",
              "      </button>\n",
              "      \n",
              "  <style>\n",
              "    .colab-df-container {\n",
              "      display:flex;\n",
              "      flex-wrap:wrap;\n",
              "      gap: 12px;\n",
              "    }\n",
              "\n",
              "    .colab-df-convert {\n",
              "      background-color: #E8F0FE;\n",
              "      border: none;\n",
              "      border-radius: 50%;\n",
              "      cursor: pointer;\n",
              "      display: none;\n",
              "      fill: #1967D2;\n",
              "      height: 32px;\n",
              "      padding: 0 0 0 0;\n",
              "      width: 32px;\n",
              "    }\n",
              "\n",
              "    .colab-df-convert:hover {\n",
              "      background-color: #E2EBFA;\n",
              "      box-shadow: 0px 1px 2px rgba(60, 64, 67, 0.3), 0px 1px 3px 1px rgba(60, 64, 67, 0.15);\n",
              "      fill: #174EA6;\n",
              "    }\n",
              "\n",
              "    [theme=dark] .colab-df-convert {\n",
              "      background-color: #3B4455;\n",
              "      fill: #D2E3FC;\n",
              "    }\n",
              "\n",
              "    [theme=dark] .colab-df-convert:hover {\n",
              "      background-color: #434B5C;\n",
              "      box-shadow: 0px 1px 3px 1px rgba(0, 0, 0, 0.15);\n",
              "      filter: drop-shadow(0px 1px 2px rgba(0, 0, 0, 0.3));\n",
              "      fill: #FFFFFF;\n",
              "    }\n",
              "  </style>\n",
              "\n",
              "      <script>\n",
              "        const buttonEl =\n",
              "          document.querySelector('#df-5acca4c2-fa53-4f7d-bc6d-141004188422 button.colab-df-convert');\n",
              "        buttonEl.style.display =\n",
              "          google.colab.kernel.accessAllowed ? 'block' : 'none';\n",
              "\n",
              "        async function convertToInteractive(key) {\n",
              "          const element = document.querySelector('#df-5acca4c2-fa53-4f7d-bc6d-141004188422');\n",
              "          const dataTable =\n",
              "            await google.colab.kernel.invokeFunction('convertToInteractive',\n",
              "                                                     [key], {});\n",
              "          if (!dataTable) return;\n",
              "\n",
              "          const docLinkHtml = 'Like what you see? Visit the ' +\n",
              "            '<a target=\"_blank\" href=https://colab.research.google.com/notebooks/data_table.ipynb>data table notebook</a>'\n",
              "            + ' to learn more about interactive tables.';\n",
              "          element.innerHTML = '';\n",
              "          dataTable['output_type'] = 'display_data';\n",
              "          await google.colab.output.renderOutput(dataTable, element);\n",
              "          const docLink = document.createElement('div');\n",
              "          docLink.innerHTML = docLinkHtml;\n",
              "          element.appendChild(docLink);\n",
              "        }\n",
              "      </script>\n",
              "    </div>\n",
              "  </div>\n",
              "  "
            ]
          },
          "metadata": {},
          "execution_count": 33
        }
      ]
    },
    {
      "cell_type": "markdown",
      "source": [
        "##Save files"
      ],
      "metadata": {
        "id": "ZZxenWgxUnlL"
      }
    },
    {
      "cell_type": "code",
      "source": [
        "data_o.reset_index(drop=True, inplace=True)"
      ],
      "metadata": {
        "id": "w5Xm4uwyYry9"
      },
      "execution_count": 34,
      "outputs": []
    },
    {
      "cell_type": "code",
      "source": [
        "csv = data.to_csv(f'/content/gdrive/My Drive/data_with_outliers.csv', sep=';')\n",
        "csv = data_o.to_csv(f'/content/gdrive/My Drive/data.csv', sep=';')"
      ],
      "metadata": {
        "id": "RqknE43cUttt"
      },
      "execution_count": 35,
      "outputs": []
    }
  ]
}