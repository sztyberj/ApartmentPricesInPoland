{
  "nbformat": 4,
  "nbformat_minor": 0,
  "metadata": {
    "colab": {
      "name": "DataCleaning.ipnyb",
      "provenance": [],
      "collapsed_sections": []
    },
    "kernelspec": {
      "name": "python3",
      "display_name": "Python 3"
    },
    "language_info": {
      "name": "python"
    }
  },
  "cells": [
    {
      "cell_type": "markdown",
      "source": [
        "#Apartments Prices Data Cleaning"
      ],
      "metadata": {
        "id": "pxXLWH9byliz"
      }
    },
    {
      "cell_type": "markdown",
      "source": [
        "##Import libs and data"
      ],
      "metadata": {
        "id": "s7nLxyywy4KG"
      }
    },
    {
      "cell_type": "code",
      "source": [
        "import pandas as pd\n",
        "import numpy as np\n",
        "from datetime import date\n",
        "from google.colab import drive\n",
        "drive.mount('/content/gdrive')"
      ],
      "metadata": {
        "colab": {
          "base_uri": "https://localhost:8080/"
        },
        "id": "qcJ7JpASybH2",
        "outputId": "dbfebf51-1842-4488-fc95-f5377cbde858"
      },
      "execution_count": 65,
      "outputs": [
        {
          "output_type": "stream",
          "name": "stdout",
          "text": [
            "Drive already mounted at /content/gdrive; to attempt to forcibly remount, call drive.mount(\"/content/gdrive\", force_remount=True).\n"
          ]
        }
      ]
    },
    {
      "cell_type": "code",
      "source": [
        "olx_url = 'https://raw.githubusercontent.com/sztyberj/ApartmentsPricesInPoland/main/Data%20Collection/raw_olx.csv'\n",
        "oto_url = 'https://raw.githubusercontent.com/sztyberj/ApartmentsPricesInPoland/main/Data%20Collection/raw_oto.csv'\n",
        "\n",
        "raw_olx = pd.read_csv(olx_url, sep=';', header=None)\n",
        "raw_oto = pd.read_csv(oto_url, sep=';', header=None)"
      ],
      "metadata": {
        "id": "eNkAml5EzALI"
      },
      "execution_count": 66,
      "outputs": []
    },
    {
      "cell_type": "code",
      "source": [
        "raw_olx.head(5)"
      ],
      "metadata": {
        "colab": {
          "base_uri": "https://localhost:8080/",
          "height": 206
        },
        "id": "ufe8MvN80McJ",
        "outputId": "6e1ce0aa-186c-4aa7-e98d-22ede88796d9"
      },
      "execution_count": 67,
      "outputs": [
        {
          "output_type": "execute_result",
          "data": {
            "text/plain": [
              "        0             1         2                           3          4  \\\n",
              "0  Warsaw  1 122 000 zł  Prywatne     Cena za m²: 17000 zł/m²  Poziom: 5   \n",
              "1  Warsaw    695 000 zł  Prywatne  Cena za m²: 15795.45 zł/m²  Poziom: 3   \n",
              "2  Warsaw    485 000 zł  Prywatne  Cena za m²: 11658.65 zł/m²  Poziom: 6   \n",
              "3  Warsaw    650 000 zł   Firmowe     Cena za m²: 13000 zł/m²  Poziom: 1   \n",
              "4  Warsaw    640 000 zł   Firmowe   Cena za m²: 5936.92 zł/m²  Poziom: 3   \n",
              "\n",
              "                 5              6                                 7  \\\n",
              "0  Umeblowane: Tak  Rynek: Wtórny             Rodzaj zabudowy: Blok   \n",
              "1  Umeblowane: Tak  Rynek: Wtórny  Rodzaj zabudowy: Apartamentowiec   \n",
              "2  Umeblowane: Tak  Rynek: Wtórny             Rodzaj zabudowy: Blok   \n",
              "3  Umeblowane: Nie  Rynek: Wtórny             Rodzaj zabudowy: Blok   \n",
              "4  Umeblowane: Nie  Rynek: Wtórny             Rodzaj zabudowy: Blok   \n",
              "\n",
              "                         8                         9  \n",
              "0      Powierzchnia: 66 m²    Liczba pokoi: 3 pokoje  \n",
              "1      Powierzchnia: 44 m²    Liczba pokoi: 2 pokoje  \n",
              "2   Powierzchnia: 41,60 m²    Liczba pokoi: 2 pokoje  \n",
              "3      Powierzchnia: 50 m²    Liczba pokoi: 2 pokoje  \n",
              "4  Powierzchnia: 107,80 m²  Liczba pokoi: 4 i więcej  "
            ],
            "text/html": [
              "\n",
              "  <div id=\"df-eb2238f1-e4e8-4fb1-9e77-d47b34b1090b\">\n",
              "    <div class=\"colab-df-container\">\n",
              "      <div>\n",
              "<style scoped>\n",
              "    .dataframe tbody tr th:only-of-type {\n",
              "        vertical-align: middle;\n",
              "    }\n",
              "\n",
              "    .dataframe tbody tr th {\n",
              "        vertical-align: top;\n",
              "    }\n",
              "\n",
              "    .dataframe thead th {\n",
              "        text-align: right;\n",
              "    }\n",
              "</style>\n",
              "<table border=\"1\" class=\"dataframe\">\n",
              "  <thead>\n",
              "    <tr style=\"text-align: right;\">\n",
              "      <th></th>\n",
              "      <th>0</th>\n",
              "      <th>1</th>\n",
              "      <th>2</th>\n",
              "      <th>3</th>\n",
              "      <th>4</th>\n",
              "      <th>5</th>\n",
              "      <th>6</th>\n",
              "      <th>7</th>\n",
              "      <th>8</th>\n",
              "      <th>9</th>\n",
              "    </tr>\n",
              "  </thead>\n",
              "  <tbody>\n",
              "    <tr>\n",
              "      <th>0</th>\n",
              "      <td>Warsaw</td>\n",
              "      <td>1 122 000 zł</td>\n",
              "      <td>Prywatne</td>\n",
              "      <td>Cena za m²: 17000 zł/m²</td>\n",
              "      <td>Poziom: 5</td>\n",
              "      <td>Umeblowane: Tak</td>\n",
              "      <td>Rynek: Wtórny</td>\n",
              "      <td>Rodzaj zabudowy: Blok</td>\n",
              "      <td>Powierzchnia: 66 m²</td>\n",
              "      <td>Liczba pokoi: 3 pokoje</td>\n",
              "    </tr>\n",
              "    <tr>\n",
              "      <th>1</th>\n",
              "      <td>Warsaw</td>\n",
              "      <td>695 000 zł</td>\n",
              "      <td>Prywatne</td>\n",
              "      <td>Cena za m²: 15795.45 zł/m²</td>\n",
              "      <td>Poziom: 3</td>\n",
              "      <td>Umeblowane: Tak</td>\n",
              "      <td>Rynek: Wtórny</td>\n",
              "      <td>Rodzaj zabudowy: Apartamentowiec</td>\n",
              "      <td>Powierzchnia: 44 m²</td>\n",
              "      <td>Liczba pokoi: 2 pokoje</td>\n",
              "    </tr>\n",
              "    <tr>\n",
              "      <th>2</th>\n",
              "      <td>Warsaw</td>\n",
              "      <td>485 000 zł</td>\n",
              "      <td>Prywatne</td>\n",
              "      <td>Cena za m²: 11658.65 zł/m²</td>\n",
              "      <td>Poziom: 6</td>\n",
              "      <td>Umeblowane: Tak</td>\n",
              "      <td>Rynek: Wtórny</td>\n",
              "      <td>Rodzaj zabudowy: Blok</td>\n",
              "      <td>Powierzchnia: 41,60 m²</td>\n",
              "      <td>Liczba pokoi: 2 pokoje</td>\n",
              "    </tr>\n",
              "    <tr>\n",
              "      <th>3</th>\n",
              "      <td>Warsaw</td>\n",
              "      <td>650 000 zł</td>\n",
              "      <td>Firmowe</td>\n",
              "      <td>Cena za m²: 13000 zł/m²</td>\n",
              "      <td>Poziom: 1</td>\n",
              "      <td>Umeblowane: Nie</td>\n",
              "      <td>Rynek: Wtórny</td>\n",
              "      <td>Rodzaj zabudowy: Blok</td>\n",
              "      <td>Powierzchnia: 50 m²</td>\n",
              "      <td>Liczba pokoi: 2 pokoje</td>\n",
              "    </tr>\n",
              "    <tr>\n",
              "      <th>4</th>\n",
              "      <td>Warsaw</td>\n",
              "      <td>640 000 zł</td>\n",
              "      <td>Firmowe</td>\n",
              "      <td>Cena za m²: 5936.92 zł/m²</td>\n",
              "      <td>Poziom: 3</td>\n",
              "      <td>Umeblowane: Nie</td>\n",
              "      <td>Rynek: Wtórny</td>\n",
              "      <td>Rodzaj zabudowy: Blok</td>\n",
              "      <td>Powierzchnia: 107,80 m²</td>\n",
              "      <td>Liczba pokoi: 4 i więcej</td>\n",
              "    </tr>\n",
              "  </tbody>\n",
              "</table>\n",
              "</div>\n",
              "      <button class=\"colab-df-convert\" onclick=\"convertToInteractive('df-eb2238f1-e4e8-4fb1-9e77-d47b34b1090b')\"\n",
              "              title=\"Convert this dataframe to an interactive table.\"\n",
              "              style=\"display:none;\">\n",
              "        \n",
              "  <svg xmlns=\"http://www.w3.org/2000/svg\" height=\"24px\"viewBox=\"0 0 24 24\"\n",
              "       width=\"24px\">\n",
              "    <path d=\"M0 0h24v24H0V0z\" fill=\"none\"/>\n",
              "    <path d=\"M18.56 5.44l.94 2.06.94-2.06 2.06-.94-2.06-.94-.94-2.06-.94 2.06-2.06.94zm-11 1L8.5 8.5l.94-2.06 2.06-.94-2.06-.94L8.5 2.5l-.94 2.06-2.06.94zm10 10l.94 2.06.94-2.06 2.06-.94-2.06-.94-.94-2.06-.94 2.06-2.06.94z\"/><path d=\"M17.41 7.96l-1.37-1.37c-.4-.4-.92-.59-1.43-.59-.52 0-1.04.2-1.43.59L10.3 9.45l-7.72 7.72c-.78.78-.78 2.05 0 2.83L4 21.41c.39.39.9.59 1.41.59.51 0 1.02-.2 1.41-.59l7.78-7.78 2.81-2.81c.8-.78.8-2.07 0-2.86zM5.41 20L4 18.59l7.72-7.72 1.47 1.35L5.41 20z\"/>\n",
              "  </svg>\n",
              "      </button>\n",
              "      \n",
              "  <style>\n",
              "    .colab-df-container {\n",
              "      display:flex;\n",
              "      flex-wrap:wrap;\n",
              "      gap: 12px;\n",
              "    }\n",
              "\n",
              "    .colab-df-convert {\n",
              "      background-color: #E8F0FE;\n",
              "      border: none;\n",
              "      border-radius: 50%;\n",
              "      cursor: pointer;\n",
              "      display: none;\n",
              "      fill: #1967D2;\n",
              "      height: 32px;\n",
              "      padding: 0 0 0 0;\n",
              "      width: 32px;\n",
              "    }\n",
              "\n",
              "    .colab-df-convert:hover {\n",
              "      background-color: #E2EBFA;\n",
              "      box-shadow: 0px 1px 2px rgba(60, 64, 67, 0.3), 0px 1px 3px 1px rgba(60, 64, 67, 0.15);\n",
              "      fill: #174EA6;\n",
              "    }\n",
              "\n",
              "    [theme=dark] .colab-df-convert {\n",
              "      background-color: #3B4455;\n",
              "      fill: #D2E3FC;\n",
              "    }\n",
              "\n",
              "    [theme=dark] .colab-df-convert:hover {\n",
              "      background-color: #434B5C;\n",
              "      box-shadow: 0px 1px 3px 1px rgba(0, 0, 0, 0.15);\n",
              "      filter: drop-shadow(0px 1px 2px rgba(0, 0, 0, 0.3));\n",
              "      fill: #FFFFFF;\n",
              "    }\n",
              "  </style>\n",
              "\n",
              "      <script>\n",
              "        const buttonEl =\n",
              "          document.querySelector('#df-eb2238f1-e4e8-4fb1-9e77-d47b34b1090b button.colab-df-convert');\n",
              "        buttonEl.style.display =\n",
              "          google.colab.kernel.accessAllowed ? 'block' : 'none';\n",
              "\n",
              "        async function convertToInteractive(key) {\n",
              "          const element = document.querySelector('#df-eb2238f1-e4e8-4fb1-9e77-d47b34b1090b');\n",
              "          const dataTable =\n",
              "            await google.colab.kernel.invokeFunction('convertToInteractive',\n",
              "                                                     [key], {});\n",
              "          if (!dataTable) return;\n",
              "\n",
              "          const docLinkHtml = 'Like what you see? Visit the ' +\n",
              "            '<a target=\"_blank\" href=https://colab.research.google.com/notebooks/data_table.ipynb>data table notebook</a>'\n",
              "            + ' to learn more about interactive tables.';\n",
              "          element.innerHTML = '';\n",
              "          dataTable['output_type'] = 'display_data';\n",
              "          await google.colab.output.renderOutput(dataTable, element);\n",
              "          const docLink = document.createElement('div');\n",
              "          docLink.innerHTML = docLinkHtml;\n",
              "          element.appendChild(docLink);\n",
              "        }\n",
              "      </script>\n",
              "    </div>\n",
              "  </div>\n",
              "  "
            ]
          },
          "metadata": {},
          "execution_count": 67
        }
      ]
    },
    {
      "cell_type": "code",
      "source": [
        "raw_oto.head(5)"
      ],
      "metadata": {
        "colab": {
          "base_uri": "https://localhost:8080/",
          "height": 424
        },
        "id": "Jkb3JPFB0P-1",
        "outputId": "4340473a-86b4-4f12-c63e-c5b4db726aff"
      },
      "execution_count": 68,
      "outputs": [
        {
          "output_type": "execute_result",
          "data": {
            "text/plain": [
              "       0           1             2                    3   \\\n",
              "0  Warsaw  639 000 zł  12 057 zł/m²    Powierzchnia53 m²   \n",
              "1  Warsaw  685 000 zł  15 055 zł/m²  Powierzchnia45,5 m²   \n",
              "2  Warsaw  649 000 zł  12 676 zł/m²  Powierzchnia51,2 m²   \n",
              "3  Warsaw  790 000 zł  17 100 zł/m²  Powierzchnia46,2 m²   \n",
              "4  Warsaw  790 000 zł  12 540 zł/m²    Powierzchnia63 m²   \n",
              "\n",
              "                              4               5   \\\n",
              "0         Forma własnościzapytaj  Liczba pokoi2    \n",
              "1  Forma własnościpełna własność  Liczba pokoi2    \n",
              "2  Forma własnościpełna własność  Liczba pokoi2    \n",
              "3  Forma własnościpełna własność  Liczba pokoi3    \n",
              "4         Forma własnościzapytaj  Liczba pokoi3    \n",
              "\n",
              "                                6           7                              8   \\\n",
              "0  Stan wykończeniado zamieszkania   Piętro2/3   Balkon / ogród / tarasbalkon   \n",
              "1  Stan wykończeniado zamieszkania  Piętro1/10   Balkon / ogród / tarasbalkon   \n",
              "2  Stan wykończeniado zamieszkania   Piętro2/4  Balkon / ogród / taraszapytaj   \n",
              "3  Stan wykończeniado zamieszkania  Piętro6/10   Balkon / ogród / tarasbalkon   \n",
              "4          Stan wykończeniazapytaj  Piętro4/16  Balkon / ogród / taraszapytaj   \n",
              "\n",
              "              9                          10                     11  \\\n",
              "0   Czynsz880 zł  Miejsce parkingowezapytaj  Obsługa zdalnazapytaj   \n",
              "1   Czynsz600 zł  Miejsce parkingowezapytaj  Obsługa zdalnazapytaj   \n",
              "2   Czynsz540 zł  Miejsce parkingowezapytaj  Obsługa zdalnazapytaj   \n",
              "3   Czynsz500 zł  Miejsce parkingowezapytaj  Obsługa zdalnazapytaj   \n",
              "4  Czynszzapytaj  Miejsce parkingowezapytaj  Obsługa zdalnazapytaj   \n",
              "\n",
              "                   12  \n",
              "0  Ogrzewaniemiejskie  \n",
              "1  Ogrzewaniemiejskie  \n",
              "2   Ogrzewaniezapytaj  \n",
              "3  Ogrzewaniemiejskie  \n",
              "4  Ogrzewaniemiejskie  "
            ],
            "text/html": [
              "\n",
              "  <div id=\"df-0d851ff6-bf3a-4ed0-b83b-d8b8ae211bdb\">\n",
              "    <div class=\"colab-df-container\">\n",
              "      <div>\n",
              "<style scoped>\n",
              "    .dataframe tbody tr th:only-of-type {\n",
              "        vertical-align: middle;\n",
              "    }\n",
              "\n",
              "    .dataframe tbody tr th {\n",
              "        vertical-align: top;\n",
              "    }\n",
              "\n",
              "    .dataframe thead th {\n",
              "        text-align: right;\n",
              "    }\n",
              "</style>\n",
              "<table border=\"1\" class=\"dataframe\">\n",
              "  <thead>\n",
              "    <tr style=\"text-align: right;\">\n",
              "      <th></th>\n",
              "      <th>0</th>\n",
              "      <th>1</th>\n",
              "      <th>2</th>\n",
              "      <th>3</th>\n",
              "      <th>4</th>\n",
              "      <th>5</th>\n",
              "      <th>6</th>\n",
              "      <th>7</th>\n",
              "      <th>8</th>\n",
              "      <th>9</th>\n",
              "      <th>10</th>\n",
              "      <th>11</th>\n",
              "      <th>12</th>\n",
              "    </tr>\n",
              "  </thead>\n",
              "  <tbody>\n",
              "    <tr>\n",
              "      <th>0</th>\n",
              "      <td>Warsaw</td>\n",
              "      <td>639 000 zł</td>\n",
              "      <td>12 057 zł/m²</td>\n",
              "      <td>Powierzchnia53 m²</td>\n",
              "      <td>Forma własnościzapytaj</td>\n",
              "      <td>Liczba pokoi2</td>\n",
              "      <td>Stan wykończeniado zamieszkania</td>\n",
              "      <td>Piętro2/3</td>\n",
              "      <td>Balkon / ogród / tarasbalkon</td>\n",
              "      <td>Czynsz880 zł</td>\n",
              "      <td>Miejsce parkingowezapytaj</td>\n",
              "      <td>Obsługa zdalnazapytaj</td>\n",
              "      <td>Ogrzewaniemiejskie</td>\n",
              "    </tr>\n",
              "    <tr>\n",
              "      <th>1</th>\n",
              "      <td>Warsaw</td>\n",
              "      <td>685 000 zł</td>\n",
              "      <td>15 055 zł/m²</td>\n",
              "      <td>Powierzchnia45,5 m²</td>\n",
              "      <td>Forma własnościpełna własność</td>\n",
              "      <td>Liczba pokoi2</td>\n",
              "      <td>Stan wykończeniado zamieszkania</td>\n",
              "      <td>Piętro1/10</td>\n",
              "      <td>Balkon / ogród / tarasbalkon</td>\n",
              "      <td>Czynsz600 zł</td>\n",
              "      <td>Miejsce parkingowezapytaj</td>\n",
              "      <td>Obsługa zdalnazapytaj</td>\n",
              "      <td>Ogrzewaniemiejskie</td>\n",
              "    </tr>\n",
              "    <tr>\n",
              "      <th>2</th>\n",
              "      <td>Warsaw</td>\n",
              "      <td>649 000 zł</td>\n",
              "      <td>12 676 zł/m²</td>\n",
              "      <td>Powierzchnia51,2 m²</td>\n",
              "      <td>Forma własnościpełna własność</td>\n",
              "      <td>Liczba pokoi2</td>\n",
              "      <td>Stan wykończeniado zamieszkania</td>\n",
              "      <td>Piętro2/4</td>\n",
              "      <td>Balkon / ogród / taraszapytaj</td>\n",
              "      <td>Czynsz540 zł</td>\n",
              "      <td>Miejsce parkingowezapytaj</td>\n",
              "      <td>Obsługa zdalnazapytaj</td>\n",
              "      <td>Ogrzewaniezapytaj</td>\n",
              "    </tr>\n",
              "    <tr>\n",
              "      <th>3</th>\n",
              "      <td>Warsaw</td>\n",
              "      <td>790 000 zł</td>\n",
              "      <td>17 100 zł/m²</td>\n",
              "      <td>Powierzchnia46,2 m²</td>\n",
              "      <td>Forma własnościpełna własność</td>\n",
              "      <td>Liczba pokoi3</td>\n",
              "      <td>Stan wykończeniado zamieszkania</td>\n",
              "      <td>Piętro6/10</td>\n",
              "      <td>Balkon / ogród / tarasbalkon</td>\n",
              "      <td>Czynsz500 zł</td>\n",
              "      <td>Miejsce parkingowezapytaj</td>\n",
              "      <td>Obsługa zdalnazapytaj</td>\n",
              "      <td>Ogrzewaniemiejskie</td>\n",
              "    </tr>\n",
              "    <tr>\n",
              "      <th>4</th>\n",
              "      <td>Warsaw</td>\n",
              "      <td>790 000 zł</td>\n",
              "      <td>12 540 zł/m²</td>\n",
              "      <td>Powierzchnia63 m²</td>\n",
              "      <td>Forma własnościzapytaj</td>\n",
              "      <td>Liczba pokoi3</td>\n",
              "      <td>Stan wykończeniazapytaj</td>\n",
              "      <td>Piętro4/16</td>\n",
              "      <td>Balkon / ogród / taraszapytaj</td>\n",
              "      <td>Czynszzapytaj</td>\n",
              "      <td>Miejsce parkingowezapytaj</td>\n",
              "      <td>Obsługa zdalnazapytaj</td>\n",
              "      <td>Ogrzewaniemiejskie</td>\n",
              "    </tr>\n",
              "  </tbody>\n",
              "</table>\n",
              "</div>\n",
              "      <button class=\"colab-df-convert\" onclick=\"convertToInteractive('df-0d851ff6-bf3a-4ed0-b83b-d8b8ae211bdb')\"\n",
              "              title=\"Convert this dataframe to an interactive table.\"\n",
              "              style=\"display:none;\">\n",
              "        \n",
              "  <svg xmlns=\"http://www.w3.org/2000/svg\" height=\"24px\"viewBox=\"0 0 24 24\"\n",
              "       width=\"24px\">\n",
              "    <path d=\"M0 0h24v24H0V0z\" fill=\"none\"/>\n",
              "    <path d=\"M18.56 5.44l.94 2.06.94-2.06 2.06-.94-2.06-.94-.94-2.06-.94 2.06-2.06.94zm-11 1L8.5 8.5l.94-2.06 2.06-.94-2.06-.94L8.5 2.5l-.94 2.06-2.06.94zm10 10l.94 2.06.94-2.06 2.06-.94-2.06-.94-.94-2.06-.94 2.06-2.06.94z\"/><path d=\"M17.41 7.96l-1.37-1.37c-.4-.4-.92-.59-1.43-.59-.52 0-1.04.2-1.43.59L10.3 9.45l-7.72 7.72c-.78.78-.78 2.05 0 2.83L4 21.41c.39.39.9.59 1.41.59.51 0 1.02-.2 1.41-.59l7.78-7.78 2.81-2.81c.8-.78.8-2.07 0-2.86zM5.41 20L4 18.59l7.72-7.72 1.47 1.35L5.41 20z\"/>\n",
              "  </svg>\n",
              "      </button>\n",
              "      \n",
              "  <style>\n",
              "    .colab-df-container {\n",
              "      display:flex;\n",
              "      flex-wrap:wrap;\n",
              "      gap: 12px;\n",
              "    }\n",
              "\n",
              "    .colab-df-convert {\n",
              "      background-color: #E8F0FE;\n",
              "      border: none;\n",
              "      border-radius: 50%;\n",
              "      cursor: pointer;\n",
              "      display: none;\n",
              "      fill: #1967D2;\n",
              "      height: 32px;\n",
              "      padding: 0 0 0 0;\n",
              "      width: 32px;\n",
              "    }\n",
              "\n",
              "    .colab-df-convert:hover {\n",
              "      background-color: #E2EBFA;\n",
              "      box-shadow: 0px 1px 2px rgba(60, 64, 67, 0.3), 0px 1px 3px 1px rgba(60, 64, 67, 0.15);\n",
              "      fill: #174EA6;\n",
              "    }\n",
              "\n",
              "    [theme=dark] .colab-df-convert {\n",
              "      background-color: #3B4455;\n",
              "      fill: #D2E3FC;\n",
              "    }\n",
              "\n",
              "    [theme=dark] .colab-df-convert:hover {\n",
              "      background-color: #434B5C;\n",
              "      box-shadow: 0px 1px 3px 1px rgba(0, 0, 0, 0.15);\n",
              "      filter: drop-shadow(0px 1px 2px rgba(0, 0, 0, 0.3));\n",
              "      fill: #FFFFFF;\n",
              "    }\n",
              "  </style>\n",
              "\n",
              "      <script>\n",
              "        const buttonEl =\n",
              "          document.querySelector('#df-0d851ff6-bf3a-4ed0-b83b-d8b8ae211bdb button.colab-df-convert');\n",
              "        buttonEl.style.display =\n",
              "          google.colab.kernel.accessAllowed ? 'block' : 'none';\n",
              "\n",
              "        async function convertToInteractive(key) {\n",
              "          const element = document.querySelector('#df-0d851ff6-bf3a-4ed0-b83b-d8b8ae211bdb');\n",
              "          const dataTable =\n",
              "            await google.colab.kernel.invokeFunction('convertToInteractive',\n",
              "                                                     [key], {});\n",
              "          if (!dataTable) return;\n",
              "\n",
              "          const docLinkHtml = 'Like what you see? Visit the ' +\n",
              "            '<a target=\"_blank\" href=https://colab.research.google.com/notebooks/data_table.ipynb>data table notebook</a>'\n",
              "            + ' to learn more about interactive tables.';\n",
              "          element.innerHTML = '';\n",
              "          dataTable['output_type'] = 'display_data';\n",
              "          await google.colab.output.renderOutput(dataTable, element);\n",
              "          const docLink = document.createElement('div');\n",
              "          docLink.innerHTML = docLinkHtml;\n",
              "          element.appendChild(docLink);\n",
              "        }\n",
              "      </script>\n",
              "    </div>\n",
              "  </div>\n",
              "  "
            ]
          },
          "metadata": {},
          "execution_count": 68
        }
      ]
    },
    {
      "cell_type": "markdown",
      "source": [
        "##Cleaning raw OtoDom data"
      ],
      "metadata": {
        "id": "U7_G-OLr0Yy_"
      }
    },
    {
      "cell_type": "code",
      "source": [
        "#Delete irrelevant columns\n",
        "del raw_oto[4]\n",
        "del raw_oto[6]\n",
        "del raw_oto[8]\n",
        "del raw_oto[9]\n",
        "del raw_oto[10]\n",
        "del raw_oto[11]\n",
        "del raw_oto[12]\n",
        "\n",
        "raw_oto\n"
      ],
      "metadata": {
        "colab": {
          "base_uri": "https://localhost:8080/",
          "height": 424
        },
        "id": "_OUiI-oH0jWF",
        "outputId": "0ad6d301-3ff3-490b-a31a-7c4e92aacded"
      },
      "execution_count": 69,
      "outputs": [
        {
          "output_type": "execute_result",
          "data": {
            "text/plain": [
              "                 0           1             2                     3  \\\n",
              "0           Warsaw  639 000 zł  12 057 zł/m²     Powierzchnia53 m²   \n",
              "1           Warsaw  685 000 zł  15 055 zł/m²   Powierzchnia45,5 m²   \n",
              "2           Warsaw  649 000 zł  12 676 zł/m²   Powierzchnia51,2 m²   \n",
              "3           Warsaw  790 000 zł  17 100 zł/m²   Powierzchnia46,2 m²   \n",
              "4           Warsaw  790 000 zł  12 540 zł/m²     Powierzchnia63 m²   \n",
              "...            ...         ...           ...                   ...   \n",
              "5934  Zielona Gora  439 000 zł   8 856 zł/m²  Powierzchnia49,57 m²   \n",
              "5935  Zielona Gora  439 000 zł   8 856 zł/m²  Powierzchnia49,57 m²   \n",
              "5936  Zielona Gora  439 000 zł   8 856 zł/m²  Powierzchnia49,57 m²   \n",
              "5937  Zielona Gora  439 000 zł   8 856 zł/m²  Powierzchnia49,57 m²   \n",
              "5938  Zielona Gora  439 000 zł   8 856 zł/m²  Powierzchnia49,57 m²   \n",
              "\n",
              "                   5           7  \n",
              "0     Liczba pokoi2    Piętro2/3  \n",
              "1     Liczba pokoi2   Piętro1/10  \n",
              "2     Liczba pokoi2    Piętro2/4  \n",
              "3     Liczba pokoi3   Piętro6/10  \n",
              "4     Liczba pokoi3   Piętro4/16  \n",
              "...              ...         ...  \n",
              "5934  Liczba pokoi3    Piętro1/5  \n",
              "5935  Liczba pokoi3    Piętro1/5  \n",
              "5936  Liczba pokoi3    Piętro1/5  \n",
              "5937  Liczba pokoi3    Piętro1/5  \n",
              "5938  Liczba pokoi3    Piętro1/5  \n",
              "\n",
              "[5939 rows x 6 columns]"
            ],
            "text/html": [
              "\n",
              "  <div id=\"df-5525256d-a812-4d5b-8a1a-3eb3063b4b18\">\n",
              "    <div class=\"colab-df-container\">\n",
              "      <div>\n",
              "<style scoped>\n",
              "    .dataframe tbody tr th:only-of-type {\n",
              "        vertical-align: middle;\n",
              "    }\n",
              "\n",
              "    .dataframe tbody tr th {\n",
              "        vertical-align: top;\n",
              "    }\n",
              "\n",
              "    .dataframe thead th {\n",
              "        text-align: right;\n",
              "    }\n",
              "</style>\n",
              "<table border=\"1\" class=\"dataframe\">\n",
              "  <thead>\n",
              "    <tr style=\"text-align: right;\">\n",
              "      <th></th>\n",
              "      <th>0</th>\n",
              "      <th>1</th>\n",
              "      <th>2</th>\n",
              "      <th>3</th>\n",
              "      <th>5</th>\n",
              "      <th>7</th>\n",
              "    </tr>\n",
              "  </thead>\n",
              "  <tbody>\n",
              "    <tr>\n",
              "      <th>0</th>\n",
              "      <td>Warsaw</td>\n",
              "      <td>639 000 zł</td>\n",
              "      <td>12 057 zł/m²</td>\n",
              "      <td>Powierzchnia53 m²</td>\n",
              "      <td>Liczba pokoi2</td>\n",
              "      <td>Piętro2/3</td>\n",
              "    </tr>\n",
              "    <tr>\n",
              "      <th>1</th>\n",
              "      <td>Warsaw</td>\n",
              "      <td>685 000 zł</td>\n",
              "      <td>15 055 zł/m²</td>\n",
              "      <td>Powierzchnia45,5 m²</td>\n",
              "      <td>Liczba pokoi2</td>\n",
              "      <td>Piętro1/10</td>\n",
              "    </tr>\n",
              "    <tr>\n",
              "      <th>2</th>\n",
              "      <td>Warsaw</td>\n",
              "      <td>649 000 zł</td>\n",
              "      <td>12 676 zł/m²</td>\n",
              "      <td>Powierzchnia51,2 m²</td>\n",
              "      <td>Liczba pokoi2</td>\n",
              "      <td>Piętro2/4</td>\n",
              "    </tr>\n",
              "    <tr>\n",
              "      <th>3</th>\n",
              "      <td>Warsaw</td>\n",
              "      <td>790 000 zł</td>\n",
              "      <td>17 100 zł/m²</td>\n",
              "      <td>Powierzchnia46,2 m²</td>\n",
              "      <td>Liczba pokoi3</td>\n",
              "      <td>Piętro6/10</td>\n",
              "    </tr>\n",
              "    <tr>\n",
              "      <th>4</th>\n",
              "      <td>Warsaw</td>\n",
              "      <td>790 000 zł</td>\n",
              "      <td>12 540 zł/m²</td>\n",
              "      <td>Powierzchnia63 m²</td>\n",
              "      <td>Liczba pokoi3</td>\n",
              "      <td>Piętro4/16</td>\n",
              "    </tr>\n",
              "    <tr>\n",
              "      <th>...</th>\n",
              "      <td>...</td>\n",
              "      <td>...</td>\n",
              "      <td>...</td>\n",
              "      <td>...</td>\n",
              "      <td>...</td>\n",
              "      <td>...</td>\n",
              "    </tr>\n",
              "    <tr>\n",
              "      <th>5934</th>\n",
              "      <td>Zielona Gora</td>\n",
              "      <td>439 000 zł</td>\n",
              "      <td>8 856 zł/m²</td>\n",
              "      <td>Powierzchnia49,57 m²</td>\n",
              "      <td>Liczba pokoi3</td>\n",
              "      <td>Piętro1/5</td>\n",
              "    </tr>\n",
              "    <tr>\n",
              "      <th>5935</th>\n",
              "      <td>Zielona Gora</td>\n",
              "      <td>439 000 zł</td>\n",
              "      <td>8 856 zł/m²</td>\n",
              "      <td>Powierzchnia49,57 m²</td>\n",
              "      <td>Liczba pokoi3</td>\n",
              "      <td>Piętro1/5</td>\n",
              "    </tr>\n",
              "    <tr>\n",
              "      <th>5936</th>\n",
              "      <td>Zielona Gora</td>\n",
              "      <td>439 000 zł</td>\n",
              "      <td>8 856 zł/m²</td>\n",
              "      <td>Powierzchnia49,57 m²</td>\n",
              "      <td>Liczba pokoi3</td>\n",
              "      <td>Piętro1/5</td>\n",
              "    </tr>\n",
              "    <tr>\n",
              "      <th>5937</th>\n",
              "      <td>Zielona Gora</td>\n",
              "      <td>439 000 zł</td>\n",
              "      <td>8 856 zł/m²</td>\n",
              "      <td>Powierzchnia49,57 m²</td>\n",
              "      <td>Liczba pokoi3</td>\n",
              "      <td>Piętro1/5</td>\n",
              "    </tr>\n",
              "    <tr>\n",
              "      <th>5938</th>\n",
              "      <td>Zielona Gora</td>\n",
              "      <td>439 000 zł</td>\n",
              "      <td>8 856 zł/m²</td>\n",
              "      <td>Powierzchnia49,57 m²</td>\n",
              "      <td>Liczba pokoi3</td>\n",
              "      <td>Piętro1/5</td>\n",
              "    </tr>\n",
              "  </tbody>\n",
              "</table>\n",
              "<p>5939 rows × 6 columns</p>\n",
              "</div>\n",
              "      <button class=\"colab-df-convert\" onclick=\"convertToInteractive('df-5525256d-a812-4d5b-8a1a-3eb3063b4b18')\"\n",
              "              title=\"Convert this dataframe to an interactive table.\"\n",
              "              style=\"display:none;\">\n",
              "        \n",
              "  <svg xmlns=\"http://www.w3.org/2000/svg\" height=\"24px\"viewBox=\"0 0 24 24\"\n",
              "       width=\"24px\">\n",
              "    <path d=\"M0 0h24v24H0V0z\" fill=\"none\"/>\n",
              "    <path d=\"M18.56 5.44l.94 2.06.94-2.06 2.06-.94-2.06-.94-.94-2.06-.94 2.06-2.06.94zm-11 1L8.5 8.5l.94-2.06 2.06-.94-2.06-.94L8.5 2.5l-.94 2.06-2.06.94zm10 10l.94 2.06.94-2.06 2.06-.94-2.06-.94-.94-2.06-.94 2.06-2.06.94z\"/><path d=\"M17.41 7.96l-1.37-1.37c-.4-.4-.92-.59-1.43-.59-.52 0-1.04.2-1.43.59L10.3 9.45l-7.72 7.72c-.78.78-.78 2.05 0 2.83L4 21.41c.39.39.9.59 1.41.59.51 0 1.02-.2 1.41-.59l7.78-7.78 2.81-2.81c.8-.78.8-2.07 0-2.86zM5.41 20L4 18.59l7.72-7.72 1.47 1.35L5.41 20z\"/>\n",
              "  </svg>\n",
              "      </button>\n",
              "      \n",
              "  <style>\n",
              "    .colab-df-container {\n",
              "      display:flex;\n",
              "      flex-wrap:wrap;\n",
              "      gap: 12px;\n",
              "    }\n",
              "\n",
              "    .colab-df-convert {\n",
              "      background-color: #E8F0FE;\n",
              "      border: none;\n",
              "      border-radius: 50%;\n",
              "      cursor: pointer;\n",
              "      display: none;\n",
              "      fill: #1967D2;\n",
              "      height: 32px;\n",
              "      padding: 0 0 0 0;\n",
              "      width: 32px;\n",
              "    }\n",
              "\n",
              "    .colab-df-convert:hover {\n",
              "      background-color: #E2EBFA;\n",
              "      box-shadow: 0px 1px 2px rgba(60, 64, 67, 0.3), 0px 1px 3px 1px rgba(60, 64, 67, 0.15);\n",
              "      fill: #174EA6;\n",
              "    }\n",
              "\n",
              "    [theme=dark] .colab-df-convert {\n",
              "      background-color: #3B4455;\n",
              "      fill: #D2E3FC;\n",
              "    }\n",
              "\n",
              "    [theme=dark] .colab-df-convert:hover {\n",
              "      background-color: #434B5C;\n",
              "      box-shadow: 0px 1px 3px 1px rgba(0, 0, 0, 0.15);\n",
              "      filter: drop-shadow(0px 1px 2px rgba(0, 0, 0, 0.3));\n",
              "      fill: #FFFFFF;\n",
              "    }\n",
              "  </style>\n",
              "\n",
              "      <script>\n",
              "        const buttonEl =\n",
              "          document.querySelector('#df-5525256d-a812-4d5b-8a1a-3eb3063b4b18 button.colab-df-convert');\n",
              "        buttonEl.style.display =\n",
              "          google.colab.kernel.accessAllowed ? 'block' : 'none';\n",
              "\n",
              "        async function convertToInteractive(key) {\n",
              "          const element = document.querySelector('#df-5525256d-a812-4d5b-8a1a-3eb3063b4b18');\n",
              "          const dataTable =\n",
              "            await google.colab.kernel.invokeFunction('convertToInteractive',\n",
              "                                                     [key], {});\n",
              "          if (!dataTable) return;\n",
              "\n",
              "          const docLinkHtml = 'Like what you see? Visit the ' +\n",
              "            '<a target=\"_blank\" href=https://colab.research.google.com/notebooks/data_table.ipynb>data table notebook</a>'\n",
              "            + ' to learn more about interactive tables.';\n",
              "          element.innerHTML = '';\n",
              "          dataTable['output_type'] = 'display_data';\n",
              "          await google.colab.output.renderOutput(dataTable, element);\n",
              "          const docLink = document.createElement('div');\n",
              "          docLink.innerHTML = docLinkHtml;\n",
              "          element.appendChild(docLink);\n",
              "        }\n",
              "      </script>\n",
              "    </div>\n",
              "  </div>\n",
              "  "
            ]
          },
          "metadata": {},
          "execution_count": 69
        }
      ]
    },
    {
      "cell_type": "code",
      "source": [
        "#Rename columns\n",
        "raw_oto.columns = ['City', 'Price', 'Price/sqr_meter', 'Area', 'Rooms', 'Level']"
      ],
      "metadata": {
        "id": "qKhKrfyj1PGQ"
      },
      "execution_count": 70,
      "outputs": []
    },
    {
      "cell_type": "code",
      "source": [
        "raw_oto.City.unique()"
      ],
      "metadata": {
        "colab": {
          "base_uri": "https://localhost:8080/"
        },
        "id": "1CZeriRK16s0",
        "outputId": "9fae4b1d-2120-4b9f-8585-b1aeacb02b87"
      },
      "execution_count": 71,
      "outputs": [
        {
          "output_type": "execute_result",
          "data": {
            "text/plain": [
              "array(['Warsaw', 'Wroclaw', 'Gdynia', 'Gdansk', 'Cracow', 'Szczecin',\n",
              "       'Poznan', 'Zielona Gora'], dtype=object)"
            ]
          },
          "metadata": {},
          "execution_count": 71
        }
      ]
    },
    {
      "cell_type": "markdown",
      "source": [
        "### Price column"
      ],
      "metadata": {
        "id": "-NozsV2R3828"
      }
    },
    {
      "cell_type": "markdown",
      "source": [
        "**Delete polish words, symbols and spaces**"
      ],
      "metadata": {
        "id": "TFxG6pYe_hW3"
      }
    },
    {
      "cell_type": "code",
      "source": [
        "raw_oto.Price = raw_oto.Price.str.replace(' zł', '')\n",
        "raw_oto.Price = raw_oto.Price.str.replace(' ', '')\n",
        "raw_oto.Price"
      ],
      "metadata": {
        "colab": {
          "base_uri": "https://localhost:8080/"
        },
        "id": "6aQ-L4Rb2FT7",
        "outputId": "f37ecbc5-9cb9-4291-ec32-ecaaec5424ed"
      },
      "execution_count": 72,
      "outputs": [
        {
          "output_type": "execute_result",
          "data": {
            "text/plain": [
              "0       639000\n",
              "1       685000\n",
              "2       649000\n",
              "3       790000\n",
              "4       790000\n",
              "         ...  \n",
              "5934    439000\n",
              "5935    439000\n",
              "5936    439000\n",
              "5937    439000\n",
              "5938    439000\n",
              "Name: Price, Length: 5939, dtype: object"
            ]
          },
          "metadata": {},
          "execution_count": 72
        }
      ]
    },
    {
      "cell_type": "markdown",
      "source": [
        "**Convert into numeric type**"
      ],
      "metadata": {
        "id": "7JEpf12m_oFp"
      }
    },
    {
      "cell_type": "code",
      "source": [
        "#Change ',' into '.'\n",
        "raw_oto.Price = raw_oto.Price.str.replace(',', '.')"
      ],
      "metadata": {
        "id": "Z4yjtTCL_svY"
      },
      "execution_count": 73,
      "outputs": []
    },
    {
      "cell_type": "code",
      "source": [
        "raw_oto.Price = pd.to_numeric(raw_oto.Price)\n",
        "\n",
        "raw_oto"
      ],
      "metadata": {
        "colab": {
          "base_uri": "https://localhost:8080/",
          "height": 424
        },
        "id": "aFfAZHUQ_0uk",
        "outputId": "135b1659-1b4a-4cc4-833b-6a14e1569ef3"
      },
      "execution_count": 74,
      "outputs": [
        {
          "output_type": "execute_result",
          "data": {
            "text/plain": [
              "              City            Price Price/sqr_meter                  Area  \\\n",
              "0           Warsaw 639000.000000000    12 057 zł/m²     Powierzchnia53 m²   \n",
              "1           Warsaw 685000.000000000    15 055 zł/m²   Powierzchnia45,5 m²   \n",
              "2           Warsaw 649000.000000000    12 676 zł/m²   Powierzchnia51,2 m²   \n",
              "3           Warsaw 790000.000000000    17 100 zł/m²   Powierzchnia46,2 m²   \n",
              "4           Warsaw 790000.000000000    12 540 zł/m²     Powierzchnia63 m²   \n",
              "...            ...              ...             ...                   ...   \n",
              "5934  Zielona Gora 439000.000000000     8 856 zł/m²  Powierzchnia49,57 m²   \n",
              "5935  Zielona Gora 439000.000000000     8 856 zł/m²  Powierzchnia49,57 m²   \n",
              "5936  Zielona Gora 439000.000000000     8 856 zł/m²  Powierzchnia49,57 m²   \n",
              "5937  Zielona Gora 439000.000000000     8 856 zł/m²  Powierzchnia49,57 m²   \n",
              "5938  Zielona Gora 439000.000000000     8 856 zł/m²  Powierzchnia49,57 m²   \n",
              "\n",
              "               Rooms       Level  \n",
              "0     Liczba pokoi2    Piętro2/3  \n",
              "1     Liczba pokoi2   Piętro1/10  \n",
              "2     Liczba pokoi2    Piętro2/4  \n",
              "3     Liczba pokoi3   Piętro6/10  \n",
              "4     Liczba pokoi3   Piętro4/16  \n",
              "...              ...         ...  \n",
              "5934  Liczba pokoi3    Piętro1/5  \n",
              "5935  Liczba pokoi3    Piętro1/5  \n",
              "5936  Liczba pokoi3    Piętro1/5  \n",
              "5937  Liczba pokoi3    Piętro1/5  \n",
              "5938  Liczba pokoi3    Piętro1/5  \n",
              "\n",
              "[5939 rows x 6 columns]"
            ],
            "text/html": [
              "\n",
              "  <div id=\"df-e7328fef-33e3-423c-88dc-08a9d94f9a06\">\n",
              "    <div class=\"colab-df-container\">\n",
              "      <div>\n",
              "<style scoped>\n",
              "    .dataframe tbody tr th:only-of-type {\n",
              "        vertical-align: middle;\n",
              "    }\n",
              "\n",
              "    .dataframe tbody tr th {\n",
              "        vertical-align: top;\n",
              "    }\n",
              "\n",
              "    .dataframe thead th {\n",
              "        text-align: right;\n",
              "    }\n",
              "</style>\n",
              "<table border=\"1\" class=\"dataframe\">\n",
              "  <thead>\n",
              "    <tr style=\"text-align: right;\">\n",
              "      <th></th>\n",
              "      <th>City</th>\n",
              "      <th>Price</th>\n",
              "      <th>Price/sqr_meter</th>\n",
              "      <th>Area</th>\n",
              "      <th>Rooms</th>\n",
              "      <th>Level</th>\n",
              "    </tr>\n",
              "  </thead>\n",
              "  <tbody>\n",
              "    <tr>\n",
              "      <th>0</th>\n",
              "      <td>Warsaw</td>\n",
              "      <td>639000.000000000</td>\n",
              "      <td>12 057 zł/m²</td>\n",
              "      <td>Powierzchnia53 m²</td>\n",
              "      <td>Liczba pokoi2</td>\n",
              "      <td>Piętro2/3</td>\n",
              "    </tr>\n",
              "    <tr>\n",
              "      <th>1</th>\n",
              "      <td>Warsaw</td>\n",
              "      <td>685000.000000000</td>\n",
              "      <td>15 055 zł/m²</td>\n",
              "      <td>Powierzchnia45,5 m²</td>\n",
              "      <td>Liczba pokoi2</td>\n",
              "      <td>Piętro1/10</td>\n",
              "    </tr>\n",
              "    <tr>\n",
              "      <th>2</th>\n",
              "      <td>Warsaw</td>\n",
              "      <td>649000.000000000</td>\n",
              "      <td>12 676 zł/m²</td>\n",
              "      <td>Powierzchnia51,2 m²</td>\n",
              "      <td>Liczba pokoi2</td>\n",
              "      <td>Piętro2/4</td>\n",
              "    </tr>\n",
              "    <tr>\n",
              "      <th>3</th>\n",
              "      <td>Warsaw</td>\n",
              "      <td>790000.000000000</td>\n",
              "      <td>17 100 zł/m²</td>\n",
              "      <td>Powierzchnia46,2 m²</td>\n",
              "      <td>Liczba pokoi3</td>\n",
              "      <td>Piętro6/10</td>\n",
              "    </tr>\n",
              "    <tr>\n",
              "      <th>4</th>\n",
              "      <td>Warsaw</td>\n",
              "      <td>790000.000000000</td>\n",
              "      <td>12 540 zł/m²</td>\n",
              "      <td>Powierzchnia63 m²</td>\n",
              "      <td>Liczba pokoi3</td>\n",
              "      <td>Piętro4/16</td>\n",
              "    </tr>\n",
              "    <tr>\n",
              "      <th>...</th>\n",
              "      <td>...</td>\n",
              "      <td>...</td>\n",
              "      <td>...</td>\n",
              "      <td>...</td>\n",
              "      <td>...</td>\n",
              "      <td>...</td>\n",
              "    </tr>\n",
              "    <tr>\n",
              "      <th>5934</th>\n",
              "      <td>Zielona Gora</td>\n",
              "      <td>439000.000000000</td>\n",
              "      <td>8 856 zł/m²</td>\n",
              "      <td>Powierzchnia49,57 m²</td>\n",
              "      <td>Liczba pokoi3</td>\n",
              "      <td>Piętro1/5</td>\n",
              "    </tr>\n",
              "    <tr>\n",
              "      <th>5935</th>\n",
              "      <td>Zielona Gora</td>\n",
              "      <td>439000.000000000</td>\n",
              "      <td>8 856 zł/m²</td>\n",
              "      <td>Powierzchnia49,57 m²</td>\n",
              "      <td>Liczba pokoi3</td>\n",
              "      <td>Piętro1/5</td>\n",
              "    </tr>\n",
              "    <tr>\n",
              "      <th>5936</th>\n",
              "      <td>Zielona Gora</td>\n",
              "      <td>439000.000000000</td>\n",
              "      <td>8 856 zł/m²</td>\n",
              "      <td>Powierzchnia49,57 m²</td>\n",
              "      <td>Liczba pokoi3</td>\n",
              "      <td>Piętro1/5</td>\n",
              "    </tr>\n",
              "    <tr>\n",
              "      <th>5937</th>\n",
              "      <td>Zielona Gora</td>\n",
              "      <td>439000.000000000</td>\n",
              "      <td>8 856 zł/m²</td>\n",
              "      <td>Powierzchnia49,57 m²</td>\n",
              "      <td>Liczba pokoi3</td>\n",
              "      <td>Piętro1/5</td>\n",
              "    </tr>\n",
              "    <tr>\n",
              "      <th>5938</th>\n",
              "      <td>Zielona Gora</td>\n",
              "      <td>439000.000000000</td>\n",
              "      <td>8 856 zł/m²</td>\n",
              "      <td>Powierzchnia49,57 m²</td>\n",
              "      <td>Liczba pokoi3</td>\n",
              "      <td>Piętro1/5</td>\n",
              "    </tr>\n",
              "  </tbody>\n",
              "</table>\n",
              "<p>5939 rows × 6 columns</p>\n",
              "</div>\n",
              "      <button class=\"colab-df-convert\" onclick=\"convertToInteractive('df-e7328fef-33e3-423c-88dc-08a9d94f9a06')\"\n",
              "              title=\"Convert this dataframe to an interactive table.\"\n",
              "              style=\"display:none;\">\n",
              "        \n",
              "  <svg xmlns=\"http://www.w3.org/2000/svg\" height=\"24px\"viewBox=\"0 0 24 24\"\n",
              "       width=\"24px\">\n",
              "    <path d=\"M0 0h24v24H0V0z\" fill=\"none\"/>\n",
              "    <path d=\"M18.56 5.44l.94 2.06.94-2.06 2.06-.94-2.06-.94-.94-2.06-.94 2.06-2.06.94zm-11 1L8.5 8.5l.94-2.06 2.06-.94-2.06-.94L8.5 2.5l-.94 2.06-2.06.94zm10 10l.94 2.06.94-2.06 2.06-.94-2.06-.94-.94-2.06-.94 2.06-2.06.94z\"/><path d=\"M17.41 7.96l-1.37-1.37c-.4-.4-.92-.59-1.43-.59-.52 0-1.04.2-1.43.59L10.3 9.45l-7.72 7.72c-.78.78-.78 2.05 0 2.83L4 21.41c.39.39.9.59 1.41.59.51 0 1.02-.2 1.41-.59l7.78-7.78 2.81-2.81c.8-.78.8-2.07 0-2.86zM5.41 20L4 18.59l7.72-7.72 1.47 1.35L5.41 20z\"/>\n",
              "  </svg>\n",
              "      </button>\n",
              "      \n",
              "  <style>\n",
              "    .colab-df-container {\n",
              "      display:flex;\n",
              "      flex-wrap:wrap;\n",
              "      gap: 12px;\n",
              "    }\n",
              "\n",
              "    .colab-df-convert {\n",
              "      background-color: #E8F0FE;\n",
              "      border: none;\n",
              "      border-radius: 50%;\n",
              "      cursor: pointer;\n",
              "      display: none;\n",
              "      fill: #1967D2;\n",
              "      height: 32px;\n",
              "      padding: 0 0 0 0;\n",
              "      width: 32px;\n",
              "    }\n",
              "\n",
              "    .colab-df-convert:hover {\n",
              "      background-color: #E2EBFA;\n",
              "      box-shadow: 0px 1px 2px rgba(60, 64, 67, 0.3), 0px 1px 3px 1px rgba(60, 64, 67, 0.15);\n",
              "      fill: #174EA6;\n",
              "    }\n",
              "\n",
              "    [theme=dark] .colab-df-convert {\n",
              "      background-color: #3B4455;\n",
              "      fill: #D2E3FC;\n",
              "    }\n",
              "\n",
              "    [theme=dark] .colab-df-convert:hover {\n",
              "      background-color: #434B5C;\n",
              "      box-shadow: 0px 1px 3px 1px rgba(0, 0, 0, 0.15);\n",
              "      filter: drop-shadow(0px 1px 2px rgba(0, 0, 0, 0.3));\n",
              "      fill: #FFFFFF;\n",
              "    }\n",
              "  </style>\n",
              "\n",
              "      <script>\n",
              "        const buttonEl =\n",
              "          document.querySelector('#df-e7328fef-33e3-423c-88dc-08a9d94f9a06 button.colab-df-convert');\n",
              "        buttonEl.style.display =\n",
              "          google.colab.kernel.accessAllowed ? 'block' : 'none';\n",
              "\n",
              "        async function convertToInteractive(key) {\n",
              "          const element = document.querySelector('#df-e7328fef-33e3-423c-88dc-08a9d94f9a06');\n",
              "          const dataTable =\n",
              "            await google.colab.kernel.invokeFunction('convertToInteractive',\n",
              "                                                     [key], {});\n",
              "          if (!dataTable) return;\n",
              "\n",
              "          const docLinkHtml = 'Like what you see? Visit the ' +\n",
              "            '<a target=\"_blank\" href=https://colab.research.google.com/notebooks/data_table.ipynb>data table notebook</a>'\n",
              "            + ' to learn more about interactive tables.';\n",
              "          element.innerHTML = '';\n",
              "          dataTable['output_type'] = 'display_data';\n",
              "          await google.colab.output.renderOutput(dataTable, element);\n",
              "          const docLink = document.createElement('div');\n",
              "          docLink.innerHTML = docLinkHtml;\n",
              "          element.appendChild(docLink);\n",
              "        }\n",
              "      </script>\n",
              "    </div>\n",
              "  </div>\n",
              "  "
            ]
          },
          "metadata": {},
          "execution_count": 74
        }
      ]
    },
    {
      "cell_type": "markdown",
      "source": [
        "###Price/sqr_meter column"
      ],
      "metadata": {
        "id": "SuvLtWnVAS0m"
      }
    },
    {
      "cell_type": "markdown",
      "source": [
        "**Delete symbols and spaces**"
      ],
      "metadata": {
        "id": "v-d1Bzm8AZ-G"
      }
    },
    {
      "cell_type": "code",
      "source": [
        "raw_oto['Price/sqr_meter'] = raw_oto['Price/sqr_meter'].str.replace(' zł/m²', '')\n",
        "raw_oto['Price/sqr_meter'] = raw_oto['Price/sqr_meter'].str.replace('zł/м²', '')\n",
        "raw_oto['Price/sqr_meter'] = raw_oto['Price/sqr_meter'].str.replace(' ', '')\n",
        "raw_oto['Price/sqr_meter']"
      ],
      "metadata": {
        "colab": {
          "base_uri": "https://localhost:8080/"
        },
        "id": "dUgDUoW-4Cmd",
        "outputId": "292a7f6c-a4e9-48a4-8a82-587cdfba02b6"
      },
      "execution_count": 75,
      "outputs": [
        {
          "output_type": "execute_result",
          "data": {
            "text/plain": [
              "0       12057\n",
              "1       15055\n",
              "2       12676\n",
              "3       17100\n",
              "4       12540\n",
              "        ...  \n",
              "5934     8856\n",
              "5935     8856\n",
              "5936     8856\n",
              "5937     8856\n",
              "5938     8856\n",
              "Name: Price/sqr_meter, Length: 5939, dtype: object"
            ]
          },
          "metadata": {},
          "execution_count": 75
        }
      ]
    },
    {
      "cell_type": "markdown",
      "source": [
        "**Convert into numeric type**"
      ],
      "metadata": {
        "id": "9XGbsr2LAeb5"
      }
    },
    {
      "cell_type": "code",
      "source": [
        "raw_oto['Price/sqr_meter'] = raw_oto['Price/sqr_meter'].str.replace(',', '.')"
      ],
      "metadata": {
        "id": "yzQ85ReLA3RI"
      },
      "execution_count": 76,
      "outputs": []
    },
    {
      "cell_type": "code",
      "source": [
        "raw_oto['Price/sqr_meter'] = pd.to_numeric(raw_oto['Price/sqr_meter'])\n",
        "\n",
        "raw_oto"
      ],
      "metadata": {
        "colab": {
          "base_uri": "https://localhost:8080/",
          "height": 424
        },
        "id": "XQeZqunxBLDo",
        "outputId": "dc806bd3-66bc-456d-9485-737461e498ad"
      },
      "execution_count": 77,
      "outputs": [
        {
          "output_type": "execute_result",
          "data": {
            "text/plain": [
              "              City            Price  Price/sqr_meter                  Area  \\\n",
              "0           Warsaw 639000.000000000  12057.000000000     Powierzchnia53 m²   \n",
              "1           Warsaw 685000.000000000  15055.000000000   Powierzchnia45,5 m²   \n",
              "2           Warsaw 649000.000000000  12676.000000000   Powierzchnia51,2 m²   \n",
              "3           Warsaw 790000.000000000  17100.000000000   Powierzchnia46,2 m²   \n",
              "4           Warsaw 790000.000000000  12540.000000000     Powierzchnia63 m²   \n",
              "...            ...              ...              ...                   ...   \n",
              "5934  Zielona Gora 439000.000000000   8856.000000000  Powierzchnia49,57 m²   \n",
              "5935  Zielona Gora 439000.000000000   8856.000000000  Powierzchnia49,57 m²   \n",
              "5936  Zielona Gora 439000.000000000   8856.000000000  Powierzchnia49,57 m²   \n",
              "5937  Zielona Gora 439000.000000000   8856.000000000  Powierzchnia49,57 m²   \n",
              "5938  Zielona Gora 439000.000000000   8856.000000000  Powierzchnia49,57 m²   \n",
              "\n",
              "               Rooms       Level  \n",
              "0     Liczba pokoi2    Piętro2/3  \n",
              "1     Liczba pokoi2   Piętro1/10  \n",
              "2     Liczba pokoi2    Piętro2/4  \n",
              "3     Liczba pokoi3   Piętro6/10  \n",
              "4     Liczba pokoi3   Piętro4/16  \n",
              "...              ...         ...  \n",
              "5934  Liczba pokoi3    Piętro1/5  \n",
              "5935  Liczba pokoi3    Piętro1/5  \n",
              "5936  Liczba pokoi3    Piętro1/5  \n",
              "5937  Liczba pokoi3    Piętro1/5  \n",
              "5938  Liczba pokoi3    Piętro1/5  \n",
              "\n",
              "[5939 rows x 6 columns]"
            ],
            "text/html": [
              "\n",
              "  <div id=\"df-d87eea8a-ea61-490b-9f29-caf607029dc5\">\n",
              "    <div class=\"colab-df-container\">\n",
              "      <div>\n",
              "<style scoped>\n",
              "    .dataframe tbody tr th:only-of-type {\n",
              "        vertical-align: middle;\n",
              "    }\n",
              "\n",
              "    .dataframe tbody tr th {\n",
              "        vertical-align: top;\n",
              "    }\n",
              "\n",
              "    .dataframe thead th {\n",
              "        text-align: right;\n",
              "    }\n",
              "</style>\n",
              "<table border=\"1\" class=\"dataframe\">\n",
              "  <thead>\n",
              "    <tr style=\"text-align: right;\">\n",
              "      <th></th>\n",
              "      <th>City</th>\n",
              "      <th>Price</th>\n",
              "      <th>Price/sqr_meter</th>\n",
              "      <th>Area</th>\n",
              "      <th>Rooms</th>\n",
              "      <th>Level</th>\n",
              "    </tr>\n",
              "  </thead>\n",
              "  <tbody>\n",
              "    <tr>\n",
              "      <th>0</th>\n",
              "      <td>Warsaw</td>\n",
              "      <td>639000.000000000</td>\n",
              "      <td>12057.000000000</td>\n",
              "      <td>Powierzchnia53 m²</td>\n",
              "      <td>Liczba pokoi2</td>\n",
              "      <td>Piętro2/3</td>\n",
              "    </tr>\n",
              "    <tr>\n",
              "      <th>1</th>\n",
              "      <td>Warsaw</td>\n",
              "      <td>685000.000000000</td>\n",
              "      <td>15055.000000000</td>\n",
              "      <td>Powierzchnia45,5 m²</td>\n",
              "      <td>Liczba pokoi2</td>\n",
              "      <td>Piętro1/10</td>\n",
              "    </tr>\n",
              "    <tr>\n",
              "      <th>2</th>\n",
              "      <td>Warsaw</td>\n",
              "      <td>649000.000000000</td>\n",
              "      <td>12676.000000000</td>\n",
              "      <td>Powierzchnia51,2 m²</td>\n",
              "      <td>Liczba pokoi2</td>\n",
              "      <td>Piętro2/4</td>\n",
              "    </tr>\n",
              "    <tr>\n",
              "      <th>3</th>\n",
              "      <td>Warsaw</td>\n",
              "      <td>790000.000000000</td>\n",
              "      <td>17100.000000000</td>\n",
              "      <td>Powierzchnia46,2 m²</td>\n",
              "      <td>Liczba pokoi3</td>\n",
              "      <td>Piętro6/10</td>\n",
              "    </tr>\n",
              "    <tr>\n",
              "      <th>4</th>\n",
              "      <td>Warsaw</td>\n",
              "      <td>790000.000000000</td>\n",
              "      <td>12540.000000000</td>\n",
              "      <td>Powierzchnia63 m²</td>\n",
              "      <td>Liczba pokoi3</td>\n",
              "      <td>Piętro4/16</td>\n",
              "    </tr>\n",
              "    <tr>\n",
              "      <th>...</th>\n",
              "      <td>...</td>\n",
              "      <td>...</td>\n",
              "      <td>...</td>\n",
              "      <td>...</td>\n",
              "      <td>...</td>\n",
              "      <td>...</td>\n",
              "    </tr>\n",
              "    <tr>\n",
              "      <th>5934</th>\n",
              "      <td>Zielona Gora</td>\n",
              "      <td>439000.000000000</td>\n",
              "      <td>8856.000000000</td>\n",
              "      <td>Powierzchnia49,57 m²</td>\n",
              "      <td>Liczba pokoi3</td>\n",
              "      <td>Piętro1/5</td>\n",
              "    </tr>\n",
              "    <tr>\n",
              "      <th>5935</th>\n",
              "      <td>Zielona Gora</td>\n",
              "      <td>439000.000000000</td>\n",
              "      <td>8856.000000000</td>\n",
              "      <td>Powierzchnia49,57 m²</td>\n",
              "      <td>Liczba pokoi3</td>\n",
              "      <td>Piętro1/5</td>\n",
              "    </tr>\n",
              "    <tr>\n",
              "      <th>5936</th>\n",
              "      <td>Zielona Gora</td>\n",
              "      <td>439000.000000000</td>\n",
              "      <td>8856.000000000</td>\n",
              "      <td>Powierzchnia49,57 m²</td>\n",
              "      <td>Liczba pokoi3</td>\n",
              "      <td>Piętro1/5</td>\n",
              "    </tr>\n",
              "    <tr>\n",
              "      <th>5937</th>\n",
              "      <td>Zielona Gora</td>\n",
              "      <td>439000.000000000</td>\n",
              "      <td>8856.000000000</td>\n",
              "      <td>Powierzchnia49,57 m²</td>\n",
              "      <td>Liczba pokoi3</td>\n",
              "      <td>Piętro1/5</td>\n",
              "    </tr>\n",
              "    <tr>\n",
              "      <th>5938</th>\n",
              "      <td>Zielona Gora</td>\n",
              "      <td>439000.000000000</td>\n",
              "      <td>8856.000000000</td>\n",
              "      <td>Powierzchnia49,57 m²</td>\n",
              "      <td>Liczba pokoi3</td>\n",
              "      <td>Piętro1/5</td>\n",
              "    </tr>\n",
              "  </tbody>\n",
              "</table>\n",
              "<p>5939 rows × 6 columns</p>\n",
              "</div>\n",
              "      <button class=\"colab-df-convert\" onclick=\"convertToInteractive('df-d87eea8a-ea61-490b-9f29-caf607029dc5')\"\n",
              "              title=\"Convert this dataframe to an interactive table.\"\n",
              "              style=\"display:none;\">\n",
              "        \n",
              "  <svg xmlns=\"http://www.w3.org/2000/svg\" height=\"24px\"viewBox=\"0 0 24 24\"\n",
              "       width=\"24px\">\n",
              "    <path d=\"M0 0h24v24H0V0z\" fill=\"none\"/>\n",
              "    <path d=\"M18.56 5.44l.94 2.06.94-2.06 2.06-.94-2.06-.94-.94-2.06-.94 2.06-2.06.94zm-11 1L8.5 8.5l.94-2.06 2.06-.94-2.06-.94L8.5 2.5l-.94 2.06-2.06.94zm10 10l.94 2.06.94-2.06 2.06-.94-2.06-.94-.94-2.06-.94 2.06-2.06.94z\"/><path d=\"M17.41 7.96l-1.37-1.37c-.4-.4-.92-.59-1.43-.59-.52 0-1.04.2-1.43.59L10.3 9.45l-7.72 7.72c-.78.78-.78 2.05 0 2.83L4 21.41c.39.39.9.59 1.41.59.51 0 1.02-.2 1.41-.59l7.78-7.78 2.81-2.81c.8-.78.8-2.07 0-2.86zM5.41 20L4 18.59l7.72-7.72 1.47 1.35L5.41 20z\"/>\n",
              "  </svg>\n",
              "      </button>\n",
              "      \n",
              "  <style>\n",
              "    .colab-df-container {\n",
              "      display:flex;\n",
              "      flex-wrap:wrap;\n",
              "      gap: 12px;\n",
              "    }\n",
              "\n",
              "    .colab-df-convert {\n",
              "      background-color: #E8F0FE;\n",
              "      border: none;\n",
              "      border-radius: 50%;\n",
              "      cursor: pointer;\n",
              "      display: none;\n",
              "      fill: #1967D2;\n",
              "      height: 32px;\n",
              "      padding: 0 0 0 0;\n",
              "      width: 32px;\n",
              "    }\n",
              "\n",
              "    .colab-df-convert:hover {\n",
              "      background-color: #E2EBFA;\n",
              "      box-shadow: 0px 1px 2px rgba(60, 64, 67, 0.3), 0px 1px 3px 1px rgba(60, 64, 67, 0.15);\n",
              "      fill: #174EA6;\n",
              "    }\n",
              "\n",
              "    [theme=dark] .colab-df-convert {\n",
              "      background-color: #3B4455;\n",
              "      fill: #D2E3FC;\n",
              "    }\n",
              "\n",
              "    [theme=dark] .colab-df-convert:hover {\n",
              "      background-color: #434B5C;\n",
              "      box-shadow: 0px 1px 3px 1px rgba(0, 0, 0, 0.15);\n",
              "      filter: drop-shadow(0px 1px 2px rgba(0, 0, 0, 0.3));\n",
              "      fill: #FFFFFF;\n",
              "    }\n",
              "  </style>\n",
              "\n",
              "      <script>\n",
              "        const buttonEl =\n",
              "          document.querySelector('#df-d87eea8a-ea61-490b-9f29-caf607029dc5 button.colab-df-convert');\n",
              "        buttonEl.style.display =\n",
              "          google.colab.kernel.accessAllowed ? 'block' : 'none';\n",
              "\n",
              "        async function convertToInteractive(key) {\n",
              "          const element = document.querySelector('#df-d87eea8a-ea61-490b-9f29-caf607029dc5');\n",
              "          const dataTable =\n",
              "            await google.colab.kernel.invokeFunction('convertToInteractive',\n",
              "                                                     [key], {});\n",
              "          if (!dataTable) return;\n",
              "\n",
              "          const docLinkHtml = 'Like what you see? Visit the ' +\n",
              "            '<a target=\"_blank\" href=https://colab.research.google.com/notebooks/data_table.ipynb>data table notebook</a>'\n",
              "            + ' to learn more about interactive tables.';\n",
              "          element.innerHTML = '';\n",
              "          dataTable['output_type'] = 'display_data';\n",
              "          await google.colab.output.renderOutput(dataTable, element);\n",
              "          const docLink = document.createElement('div');\n",
              "          docLink.innerHTML = docLinkHtml;\n",
              "          element.appendChild(docLink);\n",
              "        }\n",
              "      </script>\n",
              "    </div>\n",
              "  </div>\n",
              "  "
            ]
          },
          "metadata": {},
          "execution_count": 77
        }
      ]
    },
    {
      "cell_type": "markdown",
      "source": [
        "###Area column"
      ],
      "metadata": {
        "id": "K7_1QsquBuNk"
      }
    },
    {
      "cell_type": "markdown",
      "source": [
        "**Delete polish words from rows and symbols**"
      ],
      "metadata": {
        "id": "pzzBAFw65C0E"
      }
    },
    {
      "cell_type": "code",
      "source": [
        "#Area column\n",
        "raw_oto['Area'] = raw_oto['Area'].str.replace('Powierzchnia', '')\n",
        "raw_oto['Area'] = raw_oto['Area'].str.replace(' m²', '')"
      ],
      "metadata": {
        "id": "ejbzb2oI4jZu"
      },
      "execution_count": 78,
      "outputs": []
    },
    {
      "cell_type": "markdown",
      "source": [
        "**Convert into numeric type**"
      ],
      "metadata": {
        "id": "g4s78rzLB0YO"
      }
    },
    {
      "cell_type": "code",
      "source": [
        "raw_oto['Area'] = raw_oto['Area'].str.replace(',', '.')"
      ],
      "metadata": {
        "id": "dy5Ni9kjB4Sx"
      },
      "execution_count": 79,
      "outputs": []
    },
    {
      "cell_type": "code",
      "source": [
        "raw_oto['Area'] = pd.to_numeric(raw_oto['Area'])"
      ],
      "metadata": {
        "id": "DgmqfldGB8WV"
      },
      "execution_count": 80,
      "outputs": []
    },
    {
      "cell_type": "markdown",
      "source": [
        "###Rooms column"
      ],
      "metadata": {
        "id": "2nHgW0v0CBiX"
      }
    },
    {
      "cell_type": "markdown",
      "source": [
        "**Delete polish words from rows and spaces**"
      ],
      "metadata": {
        "id": "OkviBqHWCJ4h"
      }
    },
    {
      "cell_type": "code",
      "source": [
        "raw_oto['Rooms'] = raw_oto['Rooms'].str.replace('Liczba pokoi', '')\n",
        "raw_oto['Rooms'] = raw_oto['Rooms'].str.replace(' ', '')\n",
        "raw_oto.Rooms.unique()"
      ],
      "metadata": {
        "colab": {
          "base_uri": "https://localhost:8080/"
        },
        "id": "8iAWFiC85MzM",
        "outputId": "657d911e-a96c-497b-d92f-19824c3740d3"
      },
      "execution_count": 81,
      "outputs": [
        {
          "output_type": "execute_result",
          "data": {
            "text/plain": [
              "array(['2', '3', '1', '5', '4', '7', '6', nan, 'więcejniż10', '8', '9',\n",
              "       '10'], dtype=object)"
            ]
          },
          "metadata": {},
          "execution_count": 81
        }
      ]
    },
    {
      "cell_type": "code",
      "source": [
        "raw_oto['Rooms'] = raw_oto['Rooms'].str.replace('więcejniż10', '10')\n",
        "raw_oto.Rooms.unique()"
      ],
      "metadata": {
        "colab": {
          "base_uri": "https://localhost:8080/"
        },
        "id": "wC3FmlcSCNBD",
        "outputId": "c45be92d-7b49-4a50-c2cf-a75785e9fa0c"
      },
      "execution_count": 82,
      "outputs": [
        {
          "output_type": "execute_result",
          "data": {
            "text/plain": [
              "array(['2', '3', '1', '5', '4', '7', '6', nan, '10', '8', '9'],\n",
              "      dtype=object)"
            ]
          },
          "metadata": {},
          "execution_count": 82
        }
      ]
    },
    {
      "cell_type": "markdown",
      "source": [
        "**Convert into numeric type**"
      ],
      "metadata": {
        "id": "eOXG4cS_Chak"
      }
    },
    {
      "cell_type": "code",
      "source": [
        "raw_oto['Rooms'] = pd.to_numeric(raw_oto['Rooms'])"
      ],
      "metadata": {
        "id": "ygIjUn5xCmE9"
      },
      "execution_count": 83,
      "outputs": []
    },
    {
      "cell_type": "markdown",
      "source": [
        "###Level column"
      ],
      "metadata": {
        "id": "uOR8thC_CrBh"
      }
    },
    {
      "cell_type": "markdown",
      "source": [
        "**Delete polish words and spaces**"
      ],
      "metadata": {
        "id": "nghwimNGCv0t"
      }
    },
    {
      "cell_type": "code",
      "source": [
        "raw_oto['Level'] = raw_oto['Level'].str.replace('Piętro', '')\n",
        "raw_oto.Level.unique()"
      ],
      "metadata": {
        "colab": {
          "base_uri": "https://localhost:8080/"
        },
        "id": "VTwE2xTP50He",
        "outputId": "66402e1e-99cc-47aa-ee22-917439c4c0e6"
      },
      "execution_count": 84,
      "outputs": [
        {
          "output_type": "execute_result",
          "data": {
            "text/plain": [
              "array(['2/3', '1/10', '2/4', '6/10', '4/16', '3/6', '2/6', '3/4', '3/3',\n",
              "       '7/15', '4/10', '1/6', 'parter/4', '6/7', '1/2', '1/5', '4/5',\n",
              "       '4/4', '4/7', 'parter/2', '5/12', '7/7', '> 10/23', '5/8',\n",
              "       'parter/5', '1/3', '1/4', 'parter', '1/12', '7/26', '> 10/26',\n",
              "       '1/1', '5/10', 'parter/6', '2/2', 'parter/3', '5/5', 'parter/1',\n",
              "       '3/9', '1/11', '> 10', '7/10', '7/9', '9/12', '9/10', '5', '7/12',\n",
              "       '2/23', '3/10', '> 10/15', '10/15', 'parter/10', 'zapytaj', '1/8',\n",
              "       '10/10', '10/12', '8/8', '4/8', '8/10', 'parter/7', '3/7',\n",
              "       '> 10/13', '5/7', '6/6', '4/12', '4/6', '3', '3/16', '> 10/11',\n",
              "       '8/13', '6/12', '8/15', '> 10/27', '10/11', '4', '3/5', 'parter/8',\n",
              "       '7/8', '5/6', '3/8', '6/9', '> 10/12', '2/11', '10/13', '6/11',\n",
              "       '8/12', '2/5', '7/11', '6/8', '2/7', '3/11', '2', '2/8', '2/15',\n",
              "       '5/14', '5/9', '8/9', '2/10', 'parter/11', '1/13', 'poddasze/3',\n",
              "       '1', '5/11', '9', '6', '6/19', '5/16', '1/7', '8', '4/11', '3/12',\n",
              "       '9/9', '5/15', '5/26', '3/18', '4/23', '3/19', '2/22', '4/17',\n",
              "       '7/14', '1/9', '2/9', nan, '> 10/17', '9/11', '3/17', '> 10/14',\n",
              "       '2/12', '10/17', '2/13', '7', '1/16', '6/16', '1/15', '7/6',\n",
              "       '> 10/10', '6/17', 'parter/16', '2/17', 'parter/17', '10/18',\n",
              "       '7/18', '7/17', '10/16', 'parter/12', '5/17', '> 10/16', '8/16',\n",
              "       '9/18', '8/17', '10/14', '4/9', '4/3', 'poddasze', 'suterena',\n",
              "       '4/14', 'parter/9', 'suterena/2', '7/3', '8/11', '8/26',\n",
              "       'poddasze/4', '3/2', '10/30', '> 10/30', '8/30', '7/16',\n",
              "       'suterena/4', '9/15', '> 10/22', '6/15', '6/14', '3/15', '4/15',\n",
              "       '6/18', '2/1', 'suterena/1', '> 10/18', '6/13'], dtype=object)"
            ]
          },
          "metadata": {},
          "execution_count": 84
        }
      ]
    },
    {
      "cell_type": "code",
      "source": [
        "raw_oto['Level'] = raw_oto['Level'].str.replace('parter', '0')\n",
        "raw_oto['Level'] = raw_oto['Level'].str.replace('suterena', '-0.5')\n",
        "raw_oto['Level'] = raw_oto['Level'].str.replace('zapytaj', 'nan')\n",
        "raw_oto['Level'] = raw_oto['Level'].str.replace('poddasze', '0.5')\n",
        "raw_oto['Level'] = raw_oto['Level'].str.replace('> ', '')\n",
        "raw_oto.Level.unique()"
      ],
      "metadata": {
        "colab": {
          "base_uri": "https://localhost:8080/"
        },
        "id": "KGURaZKF-T2P",
        "outputId": "06068db1-fe3a-486b-fa5c-af9c46e311f7"
      },
      "execution_count": 85,
      "outputs": [
        {
          "output_type": "execute_result",
          "data": {
            "text/plain": [
              "array(['2/3', '1/10', '2/4', '6/10', '4/16', '3/6', '2/6', '3/4', '3/3',\n",
              "       '7/15', '4/10', '1/6', '0/4', '6/7', '1/2', '1/5', '4/5', '4/4',\n",
              "       '4/7', '0/2', '5/12', '7/7', '10/23', '5/8', '0/5', '1/3', '1/4',\n",
              "       '0', '1/12', '7/26', '10/26', '1/1', '5/10', '0/6', '2/2', '0/3',\n",
              "       '5/5', '0/1', '3/9', '1/11', '10', '7/10', '7/9', '9/12', '9/10',\n",
              "       '5', '7/12', '2/23', '3/10', '10/15', '0/10', 'nan', '1/8',\n",
              "       '10/10', '10/12', '8/8', '4/8', '8/10', '0/7', '3/7', '10/13',\n",
              "       '5/7', '6/6', '4/12', '4/6', '3', '3/16', '10/11', '8/13', '6/12',\n",
              "       '8/15', '10/27', '4', '3/5', '0/8', '7/8', '5/6', '3/8', '6/9',\n",
              "       '2/11', '6/11', '8/12', '2/5', '7/11', '6/8', '2/7', '3/11', '2',\n",
              "       '2/8', '2/15', '5/14', '5/9', '8/9', '2/10', '0/11', '1/13',\n",
              "       '0.5/3', '1', '5/11', '9', '6', '6/19', '5/16', '1/7', '8', '4/11',\n",
              "       '3/12', '9/9', '5/15', '5/26', '3/18', '4/23', '3/19', '2/22',\n",
              "       '4/17', '7/14', '1/9', '2/9', nan, '10/17', '9/11', '3/17',\n",
              "       '10/14', '2/12', '2/13', '7', '1/16', '6/16', '1/15', '7/6',\n",
              "       '6/17', '0/16', '2/17', '0/17', '10/18', '7/18', '7/17', '10/16',\n",
              "       '0/12', '5/17', '8/16', '9/18', '8/17', '4/9', '4/3', '0.5',\n",
              "       '-0.5', '4/14', '0/9', '-0.5/2', '7/3', '8/11', '8/26', '0.5/4',\n",
              "       '3/2', '10/30', '8/30', '7/16', '-0.5/4', '9/15', '10/22', '6/15',\n",
              "       '6/14', '3/15', '4/15', '6/18', '2/1', '-0.5/1', '6/13'],\n",
              "      dtype=object)"
            ]
          },
          "metadata": {},
          "execution_count": 85
        }
      ]
    },
    {
      "cell_type": "markdown",
      "source": [
        "**Drop NaN values**"
      ],
      "metadata": {
        "id": "jiUaiOocHxRC"
      }
    },
    {
      "cell_type": "code",
      "source": [
        "raw_oto['Level'].replace('nan', np.nan, inplace=True)"
      ],
      "metadata": {
        "id": "rgyDod2uH0G5"
      },
      "execution_count": 86,
      "outputs": []
    },
    {
      "cell_type": "code",
      "source": [
        "raw_oto.dropna(inplace=True)\n",
        "raw_oto.Level.unique()"
      ],
      "metadata": {
        "colab": {
          "base_uri": "https://localhost:8080/"
        },
        "id": "12LSsZPEGyzv",
        "outputId": "1832d5d5-8c28-4345-ab26-d667eb1130a9"
      },
      "execution_count": 87,
      "outputs": [
        {
          "output_type": "execute_result",
          "data": {
            "text/plain": [
              "array(['2/3', '1/10', '2/4', '6/10', '4/16', '3/6', '2/6', '3/4', '3/3',\n",
              "       '7/15', '4/10', '1/6', '0/4', '6/7', '1/2', '1/5', '4/5', '4/4',\n",
              "       '4/7', '0/2', '5/12', '7/7', '10/23', '5/8', '0/5', '1/3', '1/4',\n",
              "       '0', '1/12', '7/26', '10/26', '1/1', '5/10', '0/6', '2/2', '0/3',\n",
              "       '5/5', '0/1', '3/9', '1/11', '10', '7/10', '7/9', '9/12', '9/10',\n",
              "       '5', '7/12', '2/23', '3/10', '10/15', '0/10', '1/8', '10/10',\n",
              "       '10/12', '8/8', '4/8', '8/10', '0/7', '3/7', '10/13', '5/7', '6/6',\n",
              "       '4/12', '4/6', '3', '3/16', '10/11', '8/13', '6/12', '8/15',\n",
              "       '10/27', '4', '3/5', '0/8', '7/8', '5/6', '3/8', '6/9', '2/11',\n",
              "       '6/11', '8/12', '2/5', '7/11', '6/8', '2/7', '3/11', '2', '2/8',\n",
              "       '2/15', '5/14', '5/9', '8/9', '2/10', '0/11', '1/13', '0.5/3', '1',\n",
              "       '5/11', '9', '6', '6/19', '5/16', '1/7', '8', '4/11', '3/12',\n",
              "       '9/9', '5/15', '5/26', '3/18', '4/23', '3/19', '2/22', '4/17',\n",
              "       '7/14', '1/9', '2/9', '10/17', '9/11', '3/17', '10/14', '2/12',\n",
              "       '2/13', '7', '1/16', '6/16', '1/15', '7/6', '6/17', '0/16', '2/17',\n",
              "       '0/17', '10/18', '7/18', '7/17', '10/16', '0/12', '5/17', '8/16',\n",
              "       '9/18', '8/17', '4/9', '4/3', '0.5', '-0.5', '4/14', '0/9',\n",
              "       '-0.5/2', '7/3', '8/11', '8/26', '0.5/4', '3/2', '10/30', '8/30',\n",
              "       '7/16', '-0.5/4', '9/15', '10/22', '6/15', '6/14', '3/15', '4/15',\n",
              "       '6/18', '2/1', '-0.5/1', '6/13'], dtype=object)"
            ]
          },
          "metadata": {},
          "execution_count": 87
        }
      ]
    },
    {
      "cell_type": "code",
      "source": [
        "raw_oto.Level = raw_oto.Level.astype('str')"
      ],
      "metadata": {
        "id": "tmjl86WUI-8W"
      },
      "execution_count": 88,
      "outputs": []
    },
    {
      "cell_type": "markdown",
      "source": [
        "**Temporary data frame**"
      ],
      "metadata": {
        "id": "RfGDFL-DPu9K"
      }
    },
    {
      "cell_type": "code",
      "source": [
        "tmp = raw_oto.Level.str.split('/', n=1, expand=True)\n",
        "tmp[0].unique()"
      ],
      "metadata": {
        "colab": {
          "base_uri": "https://localhost:8080/"
        },
        "id": "k3MUzAiuPOXu",
        "outputId": "615f3dde-2c3d-4641-beec-1b3a1b75d5ea"
      },
      "execution_count": 89,
      "outputs": [
        {
          "output_type": "execute_result",
          "data": {
            "text/plain": [
              "array(['2', '1', '6', '4', '3', '7', '0', '5', '10', '9', '8', '0.5',\n",
              "       '-0.5'], dtype=object)"
            ]
          },
          "metadata": {},
          "execution_count": 89
        }
      ]
    },
    {
      "cell_type": "markdown",
      "source": [
        "**Append new column**"
      ],
      "metadata": {
        "id": "yiMNoXG3Qh6S"
      }
    },
    {
      "cell_type": "code",
      "source": [
        "raw_oto['New_Level'] = tmp[0]"
      ],
      "metadata": {
        "id": "Htb8JVCmQEVY"
      },
      "execution_count": 90,
      "outputs": []
    },
    {
      "cell_type": "code",
      "source": [
        "raw_oto.head(10)"
      ],
      "metadata": {
        "colab": {
          "base_uri": "https://localhost:8080/",
          "height": 363
        },
        "id": "H5nCHisbQLCU",
        "outputId": "7e190f1c-10ed-4160-97df-b546144102ea"
      },
      "execution_count": 91,
      "outputs": [
        {
          "output_type": "execute_result",
          "data": {
            "text/plain": [
              "     City             Price  Price/sqr_meter         Area       Rooms Level  \\\n",
              "0  Warsaw  639000.000000000  12057.000000000 53.000000000 2.000000000   2/3   \n",
              "1  Warsaw  685000.000000000  15055.000000000 45.500000000 2.000000000  1/10   \n",
              "2  Warsaw  649000.000000000  12676.000000000 51.200000000 2.000000000   2/4   \n",
              "3  Warsaw  790000.000000000  17100.000000000 46.200000000 3.000000000  6/10   \n",
              "4  Warsaw  790000.000000000  12540.000000000 63.000000000 3.000000000  4/16   \n",
              "5  Warsaw  756000.000000000  13500.000000000 56.000000000 3.000000000   3/6   \n",
              "6  Warsaw 1219000.000000000  20429.000000000 59.670000000 3.000000000   2/6   \n",
              "7  Warsaw  280000.000000000  16471.000000000 17.000000000 1.000000000   3/4   \n",
              "8  Warsaw  675000.000000000  10385.000000000 65.000000000 2.000000000   3/3   \n",
              "9  Warsaw  625000.000000000  18601.000000000 33.600000000 2.000000000  7/15   \n",
              "\n",
              "  New_Level  \n",
              "0         2  \n",
              "1         1  \n",
              "2         2  \n",
              "3         6  \n",
              "4         4  \n",
              "5         3  \n",
              "6         2  \n",
              "7         3  \n",
              "8         3  \n",
              "9         7  "
            ],
            "text/html": [
              "\n",
              "  <div id=\"df-8d55da04-cea3-427e-98e4-c1fb76002f9e\">\n",
              "    <div class=\"colab-df-container\">\n",
              "      <div>\n",
              "<style scoped>\n",
              "    .dataframe tbody tr th:only-of-type {\n",
              "        vertical-align: middle;\n",
              "    }\n",
              "\n",
              "    .dataframe tbody tr th {\n",
              "        vertical-align: top;\n",
              "    }\n",
              "\n",
              "    .dataframe thead th {\n",
              "        text-align: right;\n",
              "    }\n",
              "</style>\n",
              "<table border=\"1\" class=\"dataframe\">\n",
              "  <thead>\n",
              "    <tr style=\"text-align: right;\">\n",
              "      <th></th>\n",
              "      <th>City</th>\n",
              "      <th>Price</th>\n",
              "      <th>Price/sqr_meter</th>\n",
              "      <th>Area</th>\n",
              "      <th>Rooms</th>\n",
              "      <th>Level</th>\n",
              "      <th>New_Level</th>\n",
              "    </tr>\n",
              "  </thead>\n",
              "  <tbody>\n",
              "    <tr>\n",
              "      <th>0</th>\n",
              "      <td>Warsaw</td>\n",
              "      <td>639000.000000000</td>\n",
              "      <td>12057.000000000</td>\n",
              "      <td>53.000000000</td>\n",
              "      <td>2.000000000</td>\n",
              "      <td>2/3</td>\n",
              "      <td>2</td>\n",
              "    </tr>\n",
              "    <tr>\n",
              "      <th>1</th>\n",
              "      <td>Warsaw</td>\n",
              "      <td>685000.000000000</td>\n",
              "      <td>15055.000000000</td>\n",
              "      <td>45.500000000</td>\n",
              "      <td>2.000000000</td>\n",
              "      <td>1/10</td>\n",
              "      <td>1</td>\n",
              "    </tr>\n",
              "    <tr>\n",
              "      <th>2</th>\n",
              "      <td>Warsaw</td>\n",
              "      <td>649000.000000000</td>\n",
              "      <td>12676.000000000</td>\n",
              "      <td>51.200000000</td>\n",
              "      <td>2.000000000</td>\n",
              "      <td>2/4</td>\n",
              "      <td>2</td>\n",
              "    </tr>\n",
              "    <tr>\n",
              "      <th>3</th>\n",
              "      <td>Warsaw</td>\n",
              "      <td>790000.000000000</td>\n",
              "      <td>17100.000000000</td>\n",
              "      <td>46.200000000</td>\n",
              "      <td>3.000000000</td>\n",
              "      <td>6/10</td>\n",
              "      <td>6</td>\n",
              "    </tr>\n",
              "    <tr>\n",
              "      <th>4</th>\n",
              "      <td>Warsaw</td>\n",
              "      <td>790000.000000000</td>\n",
              "      <td>12540.000000000</td>\n",
              "      <td>63.000000000</td>\n",
              "      <td>3.000000000</td>\n",
              "      <td>4/16</td>\n",
              "      <td>4</td>\n",
              "    </tr>\n",
              "    <tr>\n",
              "      <th>5</th>\n",
              "      <td>Warsaw</td>\n",
              "      <td>756000.000000000</td>\n",
              "      <td>13500.000000000</td>\n",
              "      <td>56.000000000</td>\n",
              "      <td>3.000000000</td>\n",
              "      <td>3/6</td>\n",
              "      <td>3</td>\n",
              "    </tr>\n",
              "    <tr>\n",
              "      <th>6</th>\n",
              "      <td>Warsaw</td>\n",
              "      <td>1219000.000000000</td>\n",
              "      <td>20429.000000000</td>\n",
              "      <td>59.670000000</td>\n",
              "      <td>3.000000000</td>\n",
              "      <td>2/6</td>\n",
              "      <td>2</td>\n",
              "    </tr>\n",
              "    <tr>\n",
              "      <th>7</th>\n",
              "      <td>Warsaw</td>\n",
              "      <td>280000.000000000</td>\n",
              "      <td>16471.000000000</td>\n",
              "      <td>17.000000000</td>\n",
              "      <td>1.000000000</td>\n",
              "      <td>3/4</td>\n",
              "      <td>3</td>\n",
              "    </tr>\n",
              "    <tr>\n",
              "      <th>8</th>\n",
              "      <td>Warsaw</td>\n",
              "      <td>675000.000000000</td>\n",
              "      <td>10385.000000000</td>\n",
              "      <td>65.000000000</td>\n",
              "      <td>2.000000000</td>\n",
              "      <td>3/3</td>\n",
              "      <td>3</td>\n",
              "    </tr>\n",
              "    <tr>\n",
              "      <th>9</th>\n",
              "      <td>Warsaw</td>\n",
              "      <td>625000.000000000</td>\n",
              "      <td>18601.000000000</td>\n",
              "      <td>33.600000000</td>\n",
              "      <td>2.000000000</td>\n",
              "      <td>7/15</td>\n",
              "      <td>7</td>\n",
              "    </tr>\n",
              "  </tbody>\n",
              "</table>\n",
              "</div>\n",
              "      <button class=\"colab-df-convert\" onclick=\"convertToInteractive('df-8d55da04-cea3-427e-98e4-c1fb76002f9e')\"\n",
              "              title=\"Convert this dataframe to an interactive table.\"\n",
              "              style=\"display:none;\">\n",
              "        \n",
              "  <svg xmlns=\"http://www.w3.org/2000/svg\" height=\"24px\"viewBox=\"0 0 24 24\"\n",
              "       width=\"24px\">\n",
              "    <path d=\"M0 0h24v24H0V0z\" fill=\"none\"/>\n",
              "    <path d=\"M18.56 5.44l.94 2.06.94-2.06 2.06-.94-2.06-.94-.94-2.06-.94 2.06-2.06.94zm-11 1L8.5 8.5l.94-2.06 2.06-.94-2.06-.94L8.5 2.5l-.94 2.06-2.06.94zm10 10l.94 2.06.94-2.06 2.06-.94-2.06-.94-.94-2.06-.94 2.06-2.06.94z\"/><path d=\"M17.41 7.96l-1.37-1.37c-.4-.4-.92-.59-1.43-.59-.52 0-1.04.2-1.43.59L10.3 9.45l-7.72 7.72c-.78.78-.78 2.05 0 2.83L4 21.41c.39.39.9.59 1.41.59.51 0 1.02-.2 1.41-.59l7.78-7.78 2.81-2.81c.8-.78.8-2.07 0-2.86zM5.41 20L4 18.59l7.72-7.72 1.47 1.35L5.41 20z\"/>\n",
              "  </svg>\n",
              "      </button>\n",
              "      \n",
              "  <style>\n",
              "    .colab-df-container {\n",
              "      display:flex;\n",
              "      flex-wrap:wrap;\n",
              "      gap: 12px;\n",
              "    }\n",
              "\n",
              "    .colab-df-convert {\n",
              "      background-color: #E8F0FE;\n",
              "      border: none;\n",
              "      border-radius: 50%;\n",
              "      cursor: pointer;\n",
              "      display: none;\n",
              "      fill: #1967D2;\n",
              "      height: 32px;\n",
              "      padding: 0 0 0 0;\n",
              "      width: 32px;\n",
              "    }\n",
              "\n",
              "    .colab-df-convert:hover {\n",
              "      background-color: #E2EBFA;\n",
              "      box-shadow: 0px 1px 2px rgba(60, 64, 67, 0.3), 0px 1px 3px 1px rgba(60, 64, 67, 0.15);\n",
              "      fill: #174EA6;\n",
              "    }\n",
              "\n",
              "    [theme=dark] .colab-df-convert {\n",
              "      background-color: #3B4455;\n",
              "      fill: #D2E3FC;\n",
              "    }\n",
              "\n",
              "    [theme=dark] .colab-df-convert:hover {\n",
              "      background-color: #434B5C;\n",
              "      box-shadow: 0px 1px 3px 1px rgba(0, 0, 0, 0.15);\n",
              "      filter: drop-shadow(0px 1px 2px rgba(0, 0, 0, 0.3));\n",
              "      fill: #FFFFFF;\n",
              "    }\n",
              "  </style>\n",
              "\n",
              "      <script>\n",
              "        const buttonEl =\n",
              "          document.querySelector('#df-8d55da04-cea3-427e-98e4-c1fb76002f9e button.colab-df-convert');\n",
              "        buttonEl.style.display =\n",
              "          google.colab.kernel.accessAllowed ? 'block' : 'none';\n",
              "\n",
              "        async function convertToInteractive(key) {\n",
              "          const element = document.querySelector('#df-8d55da04-cea3-427e-98e4-c1fb76002f9e');\n",
              "          const dataTable =\n",
              "            await google.colab.kernel.invokeFunction('convertToInteractive',\n",
              "                                                     [key], {});\n",
              "          if (!dataTable) return;\n",
              "\n",
              "          const docLinkHtml = 'Like what you see? Visit the ' +\n",
              "            '<a target=\"_blank\" href=https://colab.research.google.com/notebooks/data_table.ipynb>data table notebook</a>'\n",
              "            + ' to learn more about interactive tables.';\n",
              "          element.innerHTML = '';\n",
              "          dataTable['output_type'] = 'display_data';\n",
              "          await google.colab.output.renderOutput(dataTable, element);\n",
              "          const docLink = document.createElement('div');\n",
              "          docLink.innerHTML = docLinkHtml;\n",
              "          element.appendChild(docLink);\n",
              "        }\n",
              "      </script>\n",
              "    </div>\n",
              "  </div>\n",
              "  "
            ]
          },
          "metadata": {},
          "execution_count": 91
        }
      ]
    },
    {
      "cell_type": "markdown",
      "source": [
        "**Delete old Level column**"
      ],
      "metadata": {
        "id": "N7Z0iXhRP5wE"
      }
    },
    {
      "cell_type": "code",
      "source": [
        "del raw_oto['Level']\n",
        "raw_oto.columns = raw_oto.columns.str.replace('New_Level', 'Level')\n",
        "raw_oto"
      ],
      "metadata": {
        "colab": {
          "base_uri": "https://localhost:8080/",
          "height": 424
        },
        "id": "nAR31BsMQu7C",
        "outputId": "c8c995a1-0b72-41ac-da8f-dad351cac00a"
      },
      "execution_count": 92,
      "outputs": [
        {
          "output_type": "execute_result",
          "data": {
            "text/plain": [
              "              City            Price  Price/sqr_meter         Area       Rooms  \\\n",
              "0           Warsaw 639000.000000000  12057.000000000 53.000000000 2.000000000   \n",
              "1           Warsaw 685000.000000000  15055.000000000 45.500000000 2.000000000   \n",
              "2           Warsaw 649000.000000000  12676.000000000 51.200000000 2.000000000   \n",
              "3           Warsaw 790000.000000000  17100.000000000 46.200000000 3.000000000   \n",
              "4           Warsaw 790000.000000000  12540.000000000 63.000000000 3.000000000   \n",
              "...            ...              ...              ...          ...         ...   \n",
              "5934  Zielona Gora 439000.000000000   8856.000000000 49.570000000 3.000000000   \n",
              "5935  Zielona Gora 439000.000000000   8856.000000000 49.570000000 3.000000000   \n",
              "5936  Zielona Gora 439000.000000000   8856.000000000 49.570000000 3.000000000   \n",
              "5937  Zielona Gora 439000.000000000   8856.000000000 49.570000000 3.000000000   \n",
              "5938  Zielona Gora 439000.000000000   8856.000000000 49.570000000 3.000000000   \n",
              "\n",
              "     Level  \n",
              "0        2  \n",
              "1        1  \n",
              "2        2  \n",
              "3        6  \n",
              "4        4  \n",
              "...    ...  \n",
              "5934     1  \n",
              "5935     1  \n",
              "5936     1  \n",
              "5937     1  \n",
              "5938     1  \n",
              "\n",
              "[5812 rows x 6 columns]"
            ],
            "text/html": [
              "\n",
              "  <div id=\"df-0d6212cf-51e0-4002-962a-b27bc257aa58\">\n",
              "    <div class=\"colab-df-container\">\n",
              "      <div>\n",
              "<style scoped>\n",
              "    .dataframe tbody tr th:only-of-type {\n",
              "        vertical-align: middle;\n",
              "    }\n",
              "\n",
              "    .dataframe tbody tr th {\n",
              "        vertical-align: top;\n",
              "    }\n",
              "\n",
              "    .dataframe thead th {\n",
              "        text-align: right;\n",
              "    }\n",
              "</style>\n",
              "<table border=\"1\" class=\"dataframe\">\n",
              "  <thead>\n",
              "    <tr style=\"text-align: right;\">\n",
              "      <th></th>\n",
              "      <th>City</th>\n",
              "      <th>Price</th>\n",
              "      <th>Price/sqr_meter</th>\n",
              "      <th>Area</th>\n",
              "      <th>Rooms</th>\n",
              "      <th>Level</th>\n",
              "    </tr>\n",
              "  </thead>\n",
              "  <tbody>\n",
              "    <tr>\n",
              "      <th>0</th>\n",
              "      <td>Warsaw</td>\n",
              "      <td>639000.000000000</td>\n",
              "      <td>12057.000000000</td>\n",
              "      <td>53.000000000</td>\n",
              "      <td>2.000000000</td>\n",
              "      <td>2</td>\n",
              "    </tr>\n",
              "    <tr>\n",
              "      <th>1</th>\n",
              "      <td>Warsaw</td>\n",
              "      <td>685000.000000000</td>\n",
              "      <td>15055.000000000</td>\n",
              "      <td>45.500000000</td>\n",
              "      <td>2.000000000</td>\n",
              "      <td>1</td>\n",
              "    </tr>\n",
              "    <tr>\n",
              "      <th>2</th>\n",
              "      <td>Warsaw</td>\n",
              "      <td>649000.000000000</td>\n",
              "      <td>12676.000000000</td>\n",
              "      <td>51.200000000</td>\n",
              "      <td>2.000000000</td>\n",
              "      <td>2</td>\n",
              "    </tr>\n",
              "    <tr>\n",
              "      <th>3</th>\n",
              "      <td>Warsaw</td>\n",
              "      <td>790000.000000000</td>\n",
              "      <td>17100.000000000</td>\n",
              "      <td>46.200000000</td>\n",
              "      <td>3.000000000</td>\n",
              "      <td>6</td>\n",
              "    </tr>\n",
              "    <tr>\n",
              "      <th>4</th>\n",
              "      <td>Warsaw</td>\n",
              "      <td>790000.000000000</td>\n",
              "      <td>12540.000000000</td>\n",
              "      <td>63.000000000</td>\n",
              "      <td>3.000000000</td>\n",
              "      <td>4</td>\n",
              "    </tr>\n",
              "    <tr>\n",
              "      <th>...</th>\n",
              "      <td>...</td>\n",
              "      <td>...</td>\n",
              "      <td>...</td>\n",
              "      <td>...</td>\n",
              "      <td>...</td>\n",
              "      <td>...</td>\n",
              "    </tr>\n",
              "    <tr>\n",
              "      <th>5934</th>\n",
              "      <td>Zielona Gora</td>\n",
              "      <td>439000.000000000</td>\n",
              "      <td>8856.000000000</td>\n",
              "      <td>49.570000000</td>\n",
              "      <td>3.000000000</td>\n",
              "      <td>1</td>\n",
              "    </tr>\n",
              "    <tr>\n",
              "      <th>5935</th>\n",
              "      <td>Zielona Gora</td>\n",
              "      <td>439000.000000000</td>\n",
              "      <td>8856.000000000</td>\n",
              "      <td>49.570000000</td>\n",
              "      <td>3.000000000</td>\n",
              "      <td>1</td>\n",
              "    </tr>\n",
              "    <tr>\n",
              "      <th>5936</th>\n",
              "      <td>Zielona Gora</td>\n",
              "      <td>439000.000000000</td>\n",
              "      <td>8856.000000000</td>\n",
              "      <td>49.570000000</td>\n",
              "      <td>3.000000000</td>\n",
              "      <td>1</td>\n",
              "    </tr>\n",
              "    <tr>\n",
              "      <th>5937</th>\n",
              "      <td>Zielona Gora</td>\n",
              "      <td>439000.000000000</td>\n",
              "      <td>8856.000000000</td>\n",
              "      <td>49.570000000</td>\n",
              "      <td>3.000000000</td>\n",
              "      <td>1</td>\n",
              "    </tr>\n",
              "    <tr>\n",
              "      <th>5938</th>\n",
              "      <td>Zielona Gora</td>\n",
              "      <td>439000.000000000</td>\n",
              "      <td>8856.000000000</td>\n",
              "      <td>49.570000000</td>\n",
              "      <td>3.000000000</td>\n",
              "      <td>1</td>\n",
              "    </tr>\n",
              "  </tbody>\n",
              "</table>\n",
              "<p>5812 rows × 6 columns</p>\n",
              "</div>\n",
              "      <button class=\"colab-df-convert\" onclick=\"convertToInteractive('df-0d6212cf-51e0-4002-962a-b27bc257aa58')\"\n",
              "              title=\"Convert this dataframe to an interactive table.\"\n",
              "              style=\"display:none;\">\n",
              "        \n",
              "  <svg xmlns=\"http://www.w3.org/2000/svg\" height=\"24px\"viewBox=\"0 0 24 24\"\n",
              "       width=\"24px\">\n",
              "    <path d=\"M0 0h24v24H0V0z\" fill=\"none\"/>\n",
              "    <path d=\"M18.56 5.44l.94 2.06.94-2.06 2.06-.94-2.06-.94-.94-2.06-.94 2.06-2.06.94zm-11 1L8.5 8.5l.94-2.06 2.06-.94-2.06-.94L8.5 2.5l-.94 2.06-2.06.94zm10 10l.94 2.06.94-2.06 2.06-.94-2.06-.94-.94-2.06-.94 2.06-2.06.94z\"/><path d=\"M17.41 7.96l-1.37-1.37c-.4-.4-.92-.59-1.43-.59-.52 0-1.04.2-1.43.59L10.3 9.45l-7.72 7.72c-.78.78-.78 2.05 0 2.83L4 21.41c.39.39.9.59 1.41.59.51 0 1.02-.2 1.41-.59l7.78-7.78 2.81-2.81c.8-.78.8-2.07 0-2.86zM5.41 20L4 18.59l7.72-7.72 1.47 1.35L5.41 20z\"/>\n",
              "  </svg>\n",
              "      </button>\n",
              "      \n",
              "  <style>\n",
              "    .colab-df-container {\n",
              "      display:flex;\n",
              "      flex-wrap:wrap;\n",
              "      gap: 12px;\n",
              "    }\n",
              "\n",
              "    .colab-df-convert {\n",
              "      background-color: #E8F0FE;\n",
              "      border: none;\n",
              "      border-radius: 50%;\n",
              "      cursor: pointer;\n",
              "      display: none;\n",
              "      fill: #1967D2;\n",
              "      height: 32px;\n",
              "      padding: 0 0 0 0;\n",
              "      width: 32px;\n",
              "    }\n",
              "\n",
              "    .colab-df-convert:hover {\n",
              "      background-color: #E2EBFA;\n",
              "      box-shadow: 0px 1px 2px rgba(60, 64, 67, 0.3), 0px 1px 3px 1px rgba(60, 64, 67, 0.15);\n",
              "      fill: #174EA6;\n",
              "    }\n",
              "\n",
              "    [theme=dark] .colab-df-convert {\n",
              "      background-color: #3B4455;\n",
              "      fill: #D2E3FC;\n",
              "    }\n",
              "\n",
              "    [theme=dark] .colab-df-convert:hover {\n",
              "      background-color: #434B5C;\n",
              "      box-shadow: 0px 1px 3px 1px rgba(0, 0, 0, 0.15);\n",
              "      filter: drop-shadow(0px 1px 2px rgba(0, 0, 0, 0.3));\n",
              "      fill: #FFFFFF;\n",
              "    }\n",
              "  </style>\n",
              "\n",
              "      <script>\n",
              "        const buttonEl =\n",
              "          document.querySelector('#df-0d6212cf-51e0-4002-962a-b27bc257aa58 button.colab-df-convert');\n",
              "        buttonEl.style.display =\n",
              "          google.colab.kernel.accessAllowed ? 'block' : 'none';\n",
              "\n",
              "        async function convertToInteractive(key) {\n",
              "          const element = document.querySelector('#df-0d6212cf-51e0-4002-962a-b27bc257aa58');\n",
              "          const dataTable =\n",
              "            await google.colab.kernel.invokeFunction('convertToInteractive',\n",
              "                                                     [key], {});\n",
              "          if (!dataTable) return;\n",
              "\n",
              "          const docLinkHtml = 'Like what you see? Visit the ' +\n",
              "            '<a target=\"_blank\" href=https://colab.research.google.com/notebooks/data_table.ipynb>data table notebook</a>'\n",
              "            + ' to learn more about interactive tables.';\n",
              "          element.innerHTML = '';\n",
              "          dataTable['output_type'] = 'display_data';\n",
              "          await google.colab.output.renderOutput(dataTable, element);\n",
              "          const docLink = document.createElement('div');\n",
              "          docLink.innerHTML = docLinkHtml;\n",
              "          element.appendChild(docLink);\n",
              "        }\n",
              "      </script>\n",
              "    </div>\n",
              "  </div>\n",
              "  "
            ]
          },
          "metadata": {},
          "execution_count": 92
        }
      ]
    },
    {
      "cell_type": "markdown",
      "source": [
        "**Convert into numeric type**"
      ],
      "metadata": {
        "id": "9UhkwBGNR5wr"
      }
    },
    {
      "cell_type": "code",
      "source": [
        "raw_oto['Level'] = pd.to_numeric(raw_oto['Level'])"
      ],
      "metadata": {
        "id": "YMXmqIOXSHH6"
      },
      "execution_count": 93,
      "outputs": []
    },
    {
      "cell_type": "markdown",
      "source": [
        "###Info about DataFrame"
      ],
      "metadata": {
        "id": "-lL0-WfwRsef"
      }
    },
    {
      "cell_type": "code",
      "source": [
        "raw_oto.info()"
      ],
      "metadata": {
        "colab": {
          "base_uri": "https://localhost:8080/"
        },
        "id": "bodbwtr5RzK4",
        "outputId": "261e2a78-2bf2-458d-cd3d-ffd3071d687e"
      },
      "execution_count": 94,
      "outputs": [
        {
          "output_type": "stream",
          "name": "stdout",
          "text": [
            "<class 'pandas.core.frame.DataFrame'>\n",
            "Int64Index: 5812 entries, 0 to 5938\n",
            "Data columns (total 6 columns):\n",
            " #   Column           Non-Null Count  Dtype  \n",
            "---  ------           --------------  -----  \n",
            " 0   City             5812 non-null   object \n",
            " 1   Price            5812 non-null   float64\n",
            " 2   Price/sqr_meter  5812 non-null   float64\n",
            " 3   Area             5812 non-null   float64\n",
            " 4   Rooms            5812 non-null   float64\n",
            " 5   Level            5812 non-null   float64\n",
            "dtypes: float64(5), object(1)\n",
            "memory usage: 317.8+ KB\n"
          ]
        }
      ]
    },
    {
      "cell_type": "code",
      "source": [
        "raw_oto.describe()"
      ],
      "metadata": {
        "colab": {
          "base_uri": "https://localhost:8080/",
          "height": 300
        },
        "id": "eB9tk8k0Sv9H",
        "outputId": "d8939d09-aa26-471a-8189-2937403b95aa"
      },
      "execution_count": 95,
      "outputs": [
        {
          "output_type": "execute_result",
          "data": {
            "text/plain": [
              "                  Price  Price/sqr_meter           Area          Rooms  \\\n",
              "count    5812.000000000   5812.000000000 5812.000000000 5812.000000000   \n",
              "mean   632720.497947350  11078.873193393   58.073683758    2.642463868   \n",
              "std    380958.565695056   3868.292478597   23.868506571    0.948242396   \n",
              "min     66000.000000000   1220.000000000   12.700000000    1.000000000   \n",
              "25%    439000.000000000   8706.000000000   43.200000000    2.000000000   \n",
              "50%    550000.000000000  10380.500000000   53.940000000    3.000000000   \n",
              "75%    719035.000000000  12537.000000000   67.200000000    3.000000000   \n",
              "max   7812687.680000000  42692.000000000  466.000000000   10.000000000   \n",
              "\n",
              "               Level  \n",
              "count 5812.000000000  \n",
              "mean     2.541724019  \n",
              "std      2.338433786  \n",
              "min     -0.500000000  \n",
              "25%      1.000000000  \n",
              "50%      2.000000000  \n",
              "75%      4.000000000  \n",
              "max     10.000000000  "
            ],
            "text/html": [
              "\n",
              "  <div id=\"df-7416eb62-fa6b-43f6-8c20-83c99d207ded\">\n",
              "    <div class=\"colab-df-container\">\n",
              "      <div>\n",
              "<style scoped>\n",
              "    .dataframe tbody tr th:only-of-type {\n",
              "        vertical-align: middle;\n",
              "    }\n",
              "\n",
              "    .dataframe tbody tr th {\n",
              "        vertical-align: top;\n",
              "    }\n",
              "\n",
              "    .dataframe thead th {\n",
              "        text-align: right;\n",
              "    }\n",
              "</style>\n",
              "<table border=\"1\" class=\"dataframe\">\n",
              "  <thead>\n",
              "    <tr style=\"text-align: right;\">\n",
              "      <th></th>\n",
              "      <th>Price</th>\n",
              "      <th>Price/sqr_meter</th>\n",
              "      <th>Area</th>\n",
              "      <th>Rooms</th>\n",
              "      <th>Level</th>\n",
              "    </tr>\n",
              "  </thead>\n",
              "  <tbody>\n",
              "    <tr>\n",
              "      <th>count</th>\n",
              "      <td>5812.000000000</td>\n",
              "      <td>5812.000000000</td>\n",
              "      <td>5812.000000000</td>\n",
              "      <td>5812.000000000</td>\n",
              "      <td>5812.000000000</td>\n",
              "    </tr>\n",
              "    <tr>\n",
              "      <th>mean</th>\n",
              "      <td>632720.497947350</td>\n",
              "      <td>11078.873193393</td>\n",
              "      <td>58.073683758</td>\n",
              "      <td>2.642463868</td>\n",
              "      <td>2.541724019</td>\n",
              "    </tr>\n",
              "    <tr>\n",
              "      <th>std</th>\n",
              "      <td>380958.565695056</td>\n",
              "      <td>3868.292478597</td>\n",
              "      <td>23.868506571</td>\n",
              "      <td>0.948242396</td>\n",
              "      <td>2.338433786</td>\n",
              "    </tr>\n",
              "    <tr>\n",
              "      <th>min</th>\n",
              "      <td>66000.000000000</td>\n",
              "      <td>1220.000000000</td>\n",
              "      <td>12.700000000</td>\n",
              "      <td>1.000000000</td>\n",
              "      <td>-0.500000000</td>\n",
              "    </tr>\n",
              "    <tr>\n",
              "      <th>25%</th>\n",
              "      <td>439000.000000000</td>\n",
              "      <td>8706.000000000</td>\n",
              "      <td>43.200000000</td>\n",
              "      <td>2.000000000</td>\n",
              "      <td>1.000000000</td>\n",
              "    </tr>\n",
              "    <tr>\n",
              "      <th>50%</th>\n",
              "      <td>550000.000000000</td>\n",
              "      <td>10380.500000000</td>\n",
              "      <td>53.940000000</td>\n",
              "      <td>3.000000000</td>\n",
              "      <td>2.000000000</td>\n",
              "    </tr>\n",
              "    <tr>\n",
              "      <th>75%</th>\n",
              "      <td>719035.000000000</td>\n",
              "      <td>12537.000000000</td>\n",
              "      <td>67.200000000</td>\n",
              "      <td>3.000000000</td>\n",
              "      <td>4.000000000</td>\n",
              "    </tr>\n",
              "    <tr>\n",
              "      <th>max</th>\n",
              "      <td>7812687.680000000</td>\n",
              "      <td>42692.000000000</td>\n",
              "      <td>466.000000000</td>\n",
              "      <td>10.000000000</td>\n",
              "      <td>10.000000000</td>\n",
              "    </tr>\n",
              "  </tbody>\n",
              "</table>\n",
              "</div>\n",
              "      <button class=\"colab-df-convert\" onclick=\"convertToInteractive('df-7416eb62-fa6b-43f6-8c20-83c99d207ded')\"\n",
              "              title=\"Convert this dataframe to an interactive table.\"\n",
              "              style=\"display:none;\">\n",
              "        \n",
              "  <svg xmlns=\"http://www.w3.org/2000/svg\" height=\"24px\"viewBox=\"0 0 24 24\"\n",
              "       width=\"24px\">\n",
              "    <path d=\"M0 0h24v24H0V0z\" fill=\"none\"/>\n",
              "    <path d=\"M18.56 5.44l.94 2.06.94-2.06 2.06-.94-2.06-.94-.94-2.06-.94 2.06-2.06.94zm-11 1L8.5 8.5l.94-2.06 2.06-.94-2.06-.94L8.5 2.5l-.94 2.06-2.06.94zm10 10l.94 2.06.94-2.06 2.06-.94-2.06-.94-.94-2.06-.94 2.06-2.06.94z\"/><path d=\"M17.41 7.96l-1.37-1.37c-.4-.4-.92-.59-1.43-.59-.52 0-1.04.2-1.43.59L10.3 9.45l-7.72 7.72c-.78.78-.78 2.05 0 2.83L4 21.41c.39.39.9.59 1.41.59.51 0 1.02-.2 1.41-.59l7.78-7.78 2.81-2.81c.8-.78.8-2.07 0-2.86zM5.41 20L4 18.59l7.72-7.72 1.47 1.35L5.41 20z\"/>\n",
              "  </svg>\n",
              "      </button>\n",
              "      \n",
              "  <style>\n",
              "    .colab-df-container {\n",
              "      display:flex;\n",
              "      flex-wrap:wrap;\n",
              "      gap: 12px;\n",
              "    }\n",
              "\n",
              "    .colab-df-convert {\n",
              "      background-color: #E8F0FE;\n",
              "      border: none;\n",
              "      border-radius: 50%;\n",
              "      cursor: pointer;\n",
              "      display: none;\n",
              "      fill: #1967D2;\n",
              "      height: 32px;\n",
              "      padding: 0 0 0 0;\n",
              "      width: 32px;\n",
              "    }\n",
              "\n",
              "    .colab-df-convert:hover {\n",
              "      background-color: #E2EBFA;\n",
              "      box-shadow: 0px 1px 2px rgba(60, 64, 67, 0.3), 0px 1px 3px 1px rgba(60, 64, 67, 0.15);\n",
              "      fill: #174EA6;\n",
              "    }\n",
              "\n",
              "    [theme=dark] .colab-df-convert {\n",
              "      background-color: #3B4455;\n",
              "      fill: #D2E3FC;\n",
              "    }\n",
              "\n",
              "    [theme=dark] .colab-df-convert:hover {\n",
              "      background-color: #434B5C;\n",
              "      box-shadow: 0px 1px 3px 1px rgba(0, 0, 0, 0.15);\n",
              "      filter: drop-shadow(0px 1px 2px rgba(0, 0, 0, 0.3));\n",
              "      fill: #FFFFFF;\n",
              "    }\n",
              "  </style>\n",
              "\n",
              "      <script>\n",
              "        const buttonEl =\n",
              "          document.querySelector('#df-7416eb62-fa6b-43f6-8c20-83c99d207ded button.colab-df-convert');\n",
              "        buttonEl.style.display =\n",
              "          google.colab.kernel.accessAllowed ? 'block' : 'none';\n",
              "\n",
              "        async function convertToInteractive(key) {\n",
              "          const element = document.querySelector('#df-7416eb62-fa6b-43f6-8c20-83c99d207ded');\n",
              "          const dataTable =\n",
              "            await google.colab.kernel.invokeFunction('convertToInteractive',\n",
              "                                                     [key], {});\n",
              "          if (!dataTable) return;\n",
              "\n",
              "          const docLinkHtml = 'Like what you see? Visit the ' +\n",
              "            '<a target=\"_blank\" href=https://colab.research.google.com/notebooks/data_table.ipynb>data table notebook</a>'\n",
              "            + ' to learn more about interactive tables.';\n",
              "          element.innerHTML = '';\n",
              "          dataTable['output_type'] = 'display_data';\n",
              "          await google.colab.output.renderOutput(dataTable, element);\n",
              "          const docLink = document.createElement('div');\n",
              "          docLink.innerHTML = docLinkHtml;\n",
              "          element.appendChild(docLink);\n",
              "        }\n",
              "      </script>\n",
              "    </div>\n",
              "  </div>\n",
              "  "
            ]
          },
          "metadata": {},
          "execution_count": 95
        }
      ]
    },
    {
      "cell_type": "code",
      "source": [
        "pd.set_option('display.float_format', lambda x: '%.9f' % x)"
      ],
      "metadata": {
        "id": "jfPGayB4S6t4"
      },
      "execution_count": 96,
      "outputs": []
    },
    {
      "cell_type": "code",
      "source": [
        "raw_oto.describe()"
      ],
      "metadata": {
        "colab": {
          "base_uri": "https://localhost:8080/",
          "height": 300
        },
        "id": "XEIvrb6-S8vZ",
        "outputId": "b57dcb73-779a-449e-93a5-6a8d81f07869"
      },
      "execution_count": 97,
      "outputs": [
        {
          "output_type": "execute_result",
          "data": {
            "text/plain": [
              "                  Price  Price/sqr_meter           Area          Rooms  \\\n",
              "count    5812.000000000   5812.000000000 5812.000000000 5812.000000000   \n",
              "mean   632720.497947350  11078.873193393   58.073683758    2.642463868   \n",
              "std    380958.565695056   3868.292478597   23.868506571    0.948242396   \n",
              "min     66000.000000000   1220.000000000   12.700000000    1.000000000   \n",
              "25%    439000.000000000   8706.000000000   43.200000000    2.000000000   \n",
              "50%    550000.000000000  10380.500000000   53.940000000    3.000000000   \n",
              "75%    719035.000000000  12537.000000000   67.200000000    3.000000000   \n",
              "max   7812687.680000000  42692.000000000  466.000000000   10.000000000   \n",
              "\n",
              "               Level  \n",
              "count 5812.000000000  \n",
              "mean     2.541724019  \n",
              "std      2.338433786  \n",
              "min     -0.500000000  \n",
              "25%      1.000000000  \n",
              "50%      2.000000000  \n",
              "75%      4.000000000  \n",
              "max     10.000000000  "
            ],
            "text/html": [
              "\n",
              "  <div id=\"df-0a84b6b9-cac4-4876-9239-0bd5cb06004b\">\n",
              "    <div class=\"colab-df-container\">\n",
              "      <div>\n",
              "<style scoped>\n",
              "    .dataframe tbody tr th:only-of-type {\n",
              "        vertical-align: middle;\n",
              "    }\n",
              "\n",
              "    .dataframe tbody tr th {\n",
              "        vertical-align: top;\n",
              "    }\n",
              "\n",
              "    .dataframe thead th {\n",
              "        text-align: right;\n",
              "    }\n",
              "</style>\n",
              "<table border=\"1\" class=\"dataframe\">\n",
              "  <thead>\n",
              "    <tr style=\"text-align: right;\">\n",
              "      <th></th>\n",
              "      <th>Price</th>\n",
              "      <th>Price/sqr_meter</th>\n",
              "      <th>Area</th>\n",
              "      <th>Rooms</th>\n",
              "      <th>Level</th>\n",
              "    </tr>\n",
              "  </thead>\n",
              "  <tbody>\n",
              "    <tr>\n",
              "      <th>count</th>\n",
              "      <td>5812.000000000</td>\n",
              "      <td>5812.000000000</td>\n",
              "      <td>5812.000000000</td>\n",
              "      <td>5812.000000000</td>\n",
              "      <td>5812.000000000</td>\n",
              "    </tr>\n",
              "    <tr>\n",
              "      <th>mean</th>\n",
              "      <td>632720.497947350</td>\n",
              "      <td>11078.873193393</td>\n",
              "      <td>58.073683758</td>\n",
              "      <td>2.642463868</td>\n",
              "      <td>2.541724019</td>\n",
              "    </tr>\n",
              "    <tr>\n",
              "      <th>std</th>\n",
              "      <td>380958.565695056</td>\n",
              "      <td>3868.292478597</td>\n",
              "      <td>23.868506571</td>\n",
              "      <td>0.948242396</td>\n",
              "      <td>2.338433786</td>\n",
              "    </tr>\n",
              "    <tr>\n",
              "      <th>min</th>\n",
              "      <td>66000.000000000</td>\n",
              "      <td>1220.000000000</td>\n",
              "      <td>12.700000000</td>\n",
              "      <td>1.000000000</td>\n",
              "      <td>-0.500000000</td>\n",
              "    </tr>\n",
              "    <tr>\n",
              "      <th>25%</th>\n",
              "      <td>439000.000000000</td>\n",
              "      <td>8706.000000000</td>\n",
              "      <td>43.200000000</td>\n",
              "      <td>2.000000000</td>\n",
              "      <td>1.000000000</td>\n",
              "    </tr>\n",
              "    <tr>\n",
              "      <th>50%</th>\n",
              "      <td>550000.000000000</td>\n",
              "      <td>10380.500000000</td>\n",
              "      <td>53.940000000</td>\n",
              "      <td>3.000000000</td>\n",
              "      <td>2.000000000</td>\n",
              "    </tr>\n",
              "    <tr>\n",
              "      <th>75%</th>\n",
              "      <td>719035.000000000</td>\n",
              "      <td>12537.000000000</td>\n",
              "      <td>67.200000000</td>\n",
              "      <td>3.000000000</td>\n",
              "      <td>4.000000000</td>\n",
              "    </tr>\n",
              "    <tr>\n",
              "      <th>max</th>\n",
              "      <td>7812687.680000000</td>\n",
              "      <td>42692.000000000</td>\n",
              "      <td>466.000000000</td>\n",
              "      <td>10.000000000</td>\n",
              "      <td>10.000000000</td>\n",
              "    </tr>\n",
              "  </tbody>\n",
              "</table>\n",
              "</div>\n",
              "      <button class=\"colab-df-convert\" onclick=\"convertToInteractive('df-0a84b6b9-cac4-4876-9239-0bd5cb06004b')\"\n",
              "              title=\"Convert this dataframe to an interactive table.\"\n",
              "              style=\"display:none;\">\n",
              "        \n",
              "  <svg xmlns=\"http://www.w3.org/2000/svg\" height=\"24px\"viewBox=\"0 0 24 24\"\n",
              "       width=\"24px\">\n",
              "    <path d=\"M0 0h24v24H0V0z\" fill=\"none\"/>\n",
              "    <path d=\"M18.56 5.44l.94 2.06.94-2.06 2.06-.94-2.06-.94-.94-2.06-.94 2.06-2.06.94zm-11 1L8.5 8.5l.94-2.06 2.06-.94-2.06-.94L8.5 2.5l-.94 2.06-2.06.94zm10 10l.94 2.06.94-2.06 2.06-.94-2.06-.94-.94-2.06-.94 2.06-2.06.94z\"/><path d=\"M17.41 7.96l-1.37-1.37c-.4-.4-.92-.59-1.43-.59-.52 0-1.04.2-1.43.59L10.3 9.45l-7.72 7.72c-.78.78-.78 2.05 0 2.83L4 21.41c.39.39.9.59 1.41.59.51 0 1.02-.2 1.41-.59l7.78-7.78 2.81-2.81c.8-.78.8-2.07 0-2.86zM5.41 20L4 18.59l7.72-7.72 1.47 1.35L5.41 20z\"/>\n",
              "  </svg>\n",
              "      </button>\n",
              "      \n",
              "  <style>\n",
              "    .colab-df-container {\n",
              "      display:flex;\n",
              "      flex-wrap:wrap;\n",
              "      gap: 12px;\n",
              "    }\n",
              "\n",
              "    .colab-df-convert {\n",
              "      background-color: #E8F0FE;\n",
              "      border: none;\n",
              "      border-radius: 50%;\n",
              "      cursor: pointer;\n",
              "      display: none;\n",
              "      fill: #1967D2;\n",
              "      height: 32px;\n",
              "      padding: 0 0 0 0;\n",
              "      width: 32px;\n",
              "    }\n",
              "\n",
              "    .colab-df-convert:hover {\n",
              "      background-color: #E2EBFA;\n",
              "      box-shadow: 0px 1px 2px rgba(60, 64, 67, 0.3), 0px 1px 3px 1px rgba(60, 64, 67, 0.15);\n",
              "      fill: #174EA6;\n",
              "    }\n",
              "\n",
              "    [theme=dark] .colab-df-convert {\n",
              "      background-color: #3B4455;\n",
              "      fill: #D2E3FC;\n",
              "    }\n",
              "\n",
              "    [theme=dark] .colab-df-convert:hover {\n",
              "      background-color: #434B5C;\n",
              "      box-shadow: 0px 1px 3px 1px rgba(0, 0, 0, 0.15);\n",
              "      filter: drop-shadow(0px 1px 2px rgba(0, 0, 0, 0.3));\n",
              "      fill: #FFFFFF;\n",
              "    }\n",
              "  </style>\n",
              "\n",
              "      <script>\n",
              "        const buttonEl =\n",
              "          document.querySelector('#df-0a84b6b9-cac4-4876-9239-0bd5cb06004b button.colab-df-convert');\n",
              "        buttonEl.style.display =\n",
              "          google.colab.kernel.accessAllowed ? 'block' : 'none';\n",
              "\n",
              "        async function convertToInteractive(key) {\n",
              "          const element = document.querySelector('#df-0a84b6b9-cac4-4876-9239-0bd5cb06004b');\n",
              "          const dataTable =\n",
              "            await google.colab.kernel.invokeFunction('convertToInteractive',\n",
              "                                                     [key], {});\n",
              "          if (!dataTable) return;\n",
              "\n",
              "          const docLinkHtml = 'Like what you see? Visit the ' +\n",
              "            '<a target=\"_blank\" href=https://colab.research.google.com/notebooks/data_table.ipynb>data table notebook</a>'\n",
              "            + ' to learn more about interactive tables.';\n",
              "          element.innerHTML = '';\n",
              "          dataTable['output_type'] = 'display_data';\n",
              "          await google.colab.output.renderOutput(dataTable, element);\n",
              "          const docLink = document.createElement('div');\n",
              "          docLink.innerHTML = docLinkHtml;\n",
              "          element.appendChild(docLink);\n",
              "        }\n",
              "      </script>\n",
              "    </div>\n",
              "  </div>\n",
              "  "
            ]
          },
          "metadata": {},
          "execution_count": 97
        }
      ]
    },
    {
      "cell_type": "markdown",
      "source": [
        "##Cleaning raw Olx data"
      ],
      "metadata": {
        "id": "AW9KzKnxTHej"
      }
    },
    {
      "cell_type": "code",
      "source": [
        "raw_olx"
      ],
      "metadata": {
        "colab": {
          "base_uri": "https://localhost:8080/",
          "height": 468
        },
        "id": "-tHRNPEhTLhq",
        "outputId": "3fc10403-6132-4330-cbbe-38b25db6b46b"
      },
      "execution_count": 98,
      "outputs": [
        {
          "output_type": "execute_result",
          "data": {
            "text/plain": [
              "                 0             1         2                           3  \\\n",
              "0           Warsaw  1 122 000 zł  Prywatne     Cena za m²: 17000 zł/m²   \n",
              "1           Warsaw    695 000 zł  Prywatne  Cena za m²: 15795.45 zł/m²   \n",
              "2           Warsaw    485 000 zł  Prywatne  Cena za m²: 11658.65 zł/m²   \n",
              "3           Warsaw    650 000 zł   Firmowe     Cena za m²: 13000 zł/m²   \n",
              "4           Warsaw    640 000 zł   Firmowe   Cena za m²: 5936.92 zł/m²   \n",
              "...            ...           ...       ...                         ...   \n",
              "3452  Zielona Gora    379 000 zł  Prywatne   Cena za m²: 8813.95 zł/m²   \n",
              "3453  Zielona Gora    290 000 zł   Firmowe      Cena za m²: 7250 zł/m²   \n",
              "3454  Zielona Gora    360 000 zł  Prywatne   Cena za m²: 8571.43 zł/m²   \n",
              "3455  Zielona Gora    379 000 zł  Prywatne   Cena za m²: 8813.95 zł/m²   \n",
              "3456  Zielona Gora    290 000 zł   Firmowe      Cena za m²: 7250 zł/m²   \n",
              "\n",
              "                   4                5                 6  \\\n",
              "0          Poziom: 5  Umeblowane: Tak     Rynek: Wtórny   \n",
              "1          Poziom: 3  Umeblowane: Tak     Rynek: Wtórny   \n",
              "2          Poziom: 6  Umeblowane: Tak     Rynek: Wtórny   \n",
              "3          Poziom: 1  Umeblowane: Nie     Rynek: Wtórny   \n",
              "4          Poziom: 3  Umeblowane: Nie     Rynek: Wtórny   \n",
              "...              ...              ...               ...   \n",
              "3452       Poziom: 1  Umeblowane: Tak     Rynek: Wtórny   \n",
              "3453  Poziom: Parter  Umeblowane: Tak     Rynek: Wtórny   \n",
              "3454  Poziom: Parter  Umeblowane: Nie  Rynek: Pierwotny   \n",
              "3455       Poziom: 1  Umeblowane: Tak     Rynek: Wtórny   \n",
              "3456  Poziom: Parter  Umeblowane: Tak     Rynek: Wtórny   \n",
              "\n",
              "                                     7                        8  \\\n",
              "0                Rodzaj zabudowy: Blok      Powierzchnia: 66 m²   \n",
              "1     Rodzaj zabudowy: Apartamentowiec      Powierzchnia: 44 m²   \n",
              "2                Rodzaj zabudowy: Blok   Powierzchnia: 41,60 m²   \n",
              "3                Rodzaj zabudowy: Blok      Powierzchnia: 50 m²   \n",
              "4                Rodzaj zabudowy: Blok  Powierzchnia: 107,80 m²   \n",
              "...                                ...                      ...   \n",
              "3452             Rodzaj zabudowy: Blok      Powierzchnia: 43 m²   \n",
              "3453             Rodzaj zabudowy: Blok      Powierzchnia: 40 m²   \n",
              "3454             Rodzaj zabudowy: Blok      Powierzchnia: 42 m²   \n",
              "3455             Rodzaj zabudowy: Blok      Powierzchnia: 43 m²   \n",
              "3456             Rodzaj zabudowy: Blok      Powierzchnia: 40 m²   \n",
              "\n",
              "                             9  \n",
              "0       Liczba pokoi: 3 pokoje  \n",
              "1       Liczba pokoi: 2 pokoje  \n",
              "2       Liczba pokoi: 2 pokoje  \n",
              "3       Liczba pokoi: 2 pokoje  \n",
              "4     Liczba pokoi: 4 i więcej  \n",
              "...                        ...  \n",
              "3452    Liczba pokoi: 2 pokoje  \n",
              "3453    Liczba pokoi: 3 pokoje  \n",
              "3454    Liczba pokoi: 2 pokoje  \n",
              "3455    Liczba pokoi: 2 pokoje  \n",
              "3456    Liczba pokoi: 3 pokoje  \n",
              "\n",
              "[3457 rows x 10 columns]"
            ],
            "text/html": [
              "\n",
              "  <div id=\"df-e69fa967-575d-4ee3-bbf0-8917c22bf7b1\">\n",
              "    <div class=\"colab-df-container\">\n",
              "      <div>\n",
              "<style scoped>\n",
              "    .dataframe tbody tr th:only-of-type {\n",
              "        vertical-align: middle;\n",
              "    }\n",
              "\n",
              "    .dataframe tbody tr th {\n",
              "        vertical-align: top;\n",
              "    }\n",
              "\n",
              "    .dataframe thead th {\n",
              "        text-align: right;\n",
              "    }\n",
              "</style>\n",
              "<table border=\"1\" class=\"dataframe\">\n",
              "  <thead>\n",
              "    <tr style=\"text-align: right;\">\n",
              "      <th></th>\n",
              "      <th>0</th>\n",
              "      <th>1</th>\n",
              "      <th>2</th>\n",
              "      <th>3</th>\n",
              "      <th>4</th>\n",
              "      <th>5</th>\n",
              "      <th>6</th>\n",
              "      <th>7</th>\n",
              "      <th>8</th>\n",
              "      <th>9</th>\n",
              "    </tr>\n",
              "  </thead>\n",
              "  <tbody>\n",
              "    <tr>\n",
              "      <th>0</th>\n",
              "      <td>Warsaw</td>\n",
              "      <td>1 122 000 zł</td>\n",
              "      <td>Prywatne</td>\n",
              "      <td>Cena za m²: 17000 zł/m²</td>\n",
              "      <td>Poziom: 5</td>\n",
              "      <td>Umeblowane: Tak</td>\n",
              "      <td>Rynek: Wtórny</td>\n",
              "      <td>Rodzaj zabudowy: Blok</td>\n",
              "      <td>Powierzchnia: 66 m²</td>\n",
              "      <td>Liczba pokoi: 3 pokoje</td>\n",
              "    </tr>\n",
              "    <tr>\n",
              "      <th>1</th>\n",
              "      <td>Warsaw</td>\n",
              "      <td>695 000 zł</td>\n",
              "      <td>Prywatne</td>\n",
              "      <td>Cena za m²: 15795.45 zł/m²</td>\n",
              "      <td>Poziom: 3</td>\n",
              "      <td>Umeblowane: Tak</td>\n",
              "      <td>Rynek: Wtórny</td>\n",
              "      <td>Rodzaj zabudowy: Apartamentowiec</td>\n",
              "      <td>Powierzchnia: 44 m²</td>\n",
              "      <td>Liczba pokoi: 2 pokoje</td>\n",
              "    </tr>\n",
              "    <tr>\n",
              "      <th>2</th>\n",
              "      <td>Warsaw</td>\n",
              "      <td>485 000 zł</td>\n",
              "      <td>Prywatne</td>\n",
              "      <td>Cena za m²: 11658.65 zł/m²</td>\n",
              "      <td>Poziom: 6</td>\n",
              "      <td>Umeblowane: Tak</td>\n",
              "      <td>Rynek: Wtórny</td>\n",
              "      <td>Rodzaj zabudowy: Blok</td>\n",
              "      <td>Powierzchnia: 41,60 m²</td>\n",
              "      <td>Liczba pokoi: 2 pokoje</td>\n",
              "    </tr>\n",
              "    <tr>\n",
              "      <th>3</th>\n",
              "      <td>Warsaw</td>\n",
              "      <td>650 000 zł</td>\n",
              "      <td>Firmowe</td>\n",
              "      <td>Cena za m²: 13000 zł/m²</td>\n",
              "      <td>Poziom: 1</td>\n",
              "      <td>Umeblowane: Nie</td>\n",
              "      <td>Rynek: Wtórny</td>\n",
              "      <td>Rodzaj zabudowy: Blok</td>\n",
              "      <td>Powierzchnia: 50 m²</td>\n",
              "      <td>Liczba pokoi: 2 pokoje</td>\n",
              "    </tr>\n",
              "    <tr>\n",
              "      <th>4</th>\n",
              "      <td>Warsaw</td>\n",
              "      <td>640 000 zł</td>\n",
              "      <td>Firmowe</td>\n",
              "      <td>Cena za m²: 5936.92 zł/m²</td>\n",
              "      <td>Poziom: 3</td>\n",
              "      <td>Umeblowane: Nie</td>\n",
              "      <td>Rynek: Wtórny</td>\n",
              "      <td>Rodzaj zabudowy: Blok</td>\n",
              "      <td>Powierzchnia: 107,80 m²</td>\n",
              "      <td>Liczba pokoi: 4 i więcej</td>\n",
              "    </tr>\n",
              "    <tr>\n",
              "      <th>...</th>\n",
              "      <td>...</td>\n",
              "      <td>...</td>\n",
              "      <td>...</td>\n",
              "      <td>...</td>\n",
              "      <td>...</td>\n",
              "      <td>...</td>\n",
              "      <td>...</td>\n",
              "      <td>...</td>\n",
              "      <td>...</td>\n",
              "      <td>...</td>\n",
              "    </tr>\n",
              "    <tr>\n",
              "      <th>3452</th>\n",
              "      <td>Zielona Gora</td>\n",
              "      <td>379 000 zł</td>\n",
              "      <td>Prywatne</td>\n",
              "      <td>Cena za m²: 8813.95 zł/m²</td>\n",
              "      <td>Poziom: 1</td>\n",
              "      <td>Umeblowane: Tak</td>\n",
              "      <td>Rynek: Wtórny</td>\n",
              "      <td>Rodzaj zabudowy: Blok</td>\n",
              "      <td>Powierzchnia: 43 m²</td>\n",
              "      <td>Liczba pokoi: 2 pokoje</td>\n",
              "    </tr>\n",
              "    <tr>\n",
              "      <th>3453</th>\n",
              "      <td>Zielona Gora</td>\n",
              "      <td>290 000 zł</td>\n",
              "      <td>Firmowe</td>\n",
              "      <td>Cena za m²: 7250 zł/m²</td>\n",
              "      <td>Poziom: Parter</td>\n",
              "      <td>Umeblowane: Tak</td>\n",
              "      <td>Rynek: Wtórny</td>\n",
              "      <td>Rodzaj zabudowy: Blok</td>\n",
              "      <td>Powierzchnia: 40 m²</td>\n",
              "      <td>Liczba pokoi: 3 pokoje</td>\n",
              "    </tr>\n",
              "    <tr>\n",
              "      <th>3454</th>\n",
              "      <td>Zielona Gora</td>\n",
              "      <td>360 000 zł</td>\n",
              "      <td>Prywatne</td>\n",
              "      <td>Cena za m²: 8571.43 zł/m²</td>\n",
              "      <td>Poziom: Parter</td>\n",
              "      <td>Umeblowane: Nie</td>\n",
              "      <td>Rynek: Pierwotny</td>\n",
              "      <td>Rodzaj zabudowy: Blok</td>\n",
              "      <td>Powierzchnia: 42 m²</td>\n",
              "      <td>Liczba pokoi: 2 pokoje</td>\n",
              "    </tr>\n",
              "    <tr>\n",
              "      <th>3455</th>\n",
              "      <td>Zielona Gora</td>\n",
              "      <td>379 000 zł</td>\n",
              "      <td>Prywatne</td>\n",
              "      <td>Cena za m²: 8813.95 zł/m²</td>\n",
              "      <td>Poziom: 1</td>\n",
              "      <td>Umeblowane: Tak</td>\n",
              "      <td>Rynek: Wtórny</td>\n",
              "      <td>Rodzaj zabudowy: Blok</td>\n",
              "      <td>Powierzchnia: 43 m²</td>\n",
              "      <td>Liczba pokoi: 2 pokoje</td>\n",
              "    </tr>\n",
              "    <tr>\n",
              "      <th>3456</th>\n",
              "      <td>Zielona Gora</td>\n",
              "      <td>290 000 zł</td>\n",
              "      <td>Firmowe</td>\n",
              "      <td>Cena za m²: 7250 zł/m²</td>\n",
              "      <td>Poziom: Parter</td>\n",
              "      <td>Umeblowane: Tak</td>\n",
              "      <td>Rynek: Wtórny</td>\n",
              "      <td>Rodzaj zabudowy: Blok</td>\n",
              "      <td>Powierzchnia: 40 m²</td>\n",
              "      <td>Liczba pokoi: 3 pokoje</td>\n",
              "    </tr>\n",
              "  </tbody>\n",
              "</table>\n",
              "<p>3457 rows × 10 columns</p>\n",
              "</div>\n",
              "      <button class=\"colab-df-convert\" onclick=\"convertToInteractive('df-e69fa967-575d-4ee3-bbf0-8917c22bf7b1')\"\n",
              "              title=\"Convert this dataframe to an interactive table.\"\n",
              "              style=\"display:none;\">\n",
              "        \n",
              "  <svg xmlns=\"http://www.w3.org/2000/svg\" height=\"24px\"viewBox=\"0 0 24 24\"\n",
              "       width=\"24px\">\n",
              "    <path d=\"M0 0h24v24H0V0z\" fill=\"none\"/>\n",
              "    <path d=\"M18.56 5.44l.94 2.06.94-2.06 2.06-.94-2.06-.94-.94-2.06-.94 2.06-2.06.94zm-11 1L8.5 8.5l.94-2.06 2.06-.94-2.06-.94L8.5 2.5l-.94 2.06-2.06.94zm10 10l.94 2.06.94-2.06 2.06-.94-2.06-.94-.94-2.06-.94 2.06-2.06.94z\"/><path d=\"M17.41 7.96l-1.37-1.37c-.4-.4-.92-.59-1.43-.59-.52 0-1.04.2-1.43.59L10.3 9.45l-7.72 7.72c-.78.78-.78 2.05 0 2.83L4 21.41c.39.39.9.59 1.41.59.51 0 1.02-.2 1.41-.59l7.78-7.78 2.81-2.81c.8-.78.8-2.07 0-2.86zM5.41 20L4 18.59l7.72-7.72 1.47 1.35L5.41 20z\"/>\n",
              "  </svg>\n",
              "      </button>\n",
              "      \n",
              "  <style>\n",
              "    .colab-df-container {\n",
              "      display:flex;\n",
              "      flex-wrap:wrap;\n",
              "      gap: 12px;\n",
              "    }\n",
              "\n",
              "    .colab-df-convert {\n",
              "      background-color: #E8F0FE;\n",
              "      border: none;\n",
              "      border-radius: 50%;\n",
              "      cursor: pointer;\n",
              "      display: none;\n",
              "      fill: #1967D2;\n",
              "      height: 32px;\n",
              "      padding: 0 0 0 0;\n",
              "      width: 32px;\n",
              "    }\n",
              "\n",
              "    .colab-df-convert:hover {\n",
              "      background-color: #E2EBFA;\n",
              "      box-shadow: 0px 1px 2px rgba(60, 64, 67, 0.3), 0px 1px 3px 1px rgba(60, 64, 67, 0.15);\n",
              "      fill: #174EA6;\n",
              "    }\n",
              "\n",
              "    [theme=dark] .colab-df-convert {\n",
              "      background-color: #3B4455;\n",
              "      fill: #D2E3FC;\n",
              "    }\n",
              "\n",
              "    [theme=dark] .colab-df-convert:hover {\n",
              "      background-color: #434B5C;\n",
              "      box-shadow: 0px 1px 3px 1px rgba(0, 0, 0, 0.15);\n",
              "      filter: drop-shadow(0px 1px 2px rgba(0, 0, 0, 0.3));\n",
              "      fill: #FFFFFF;\n",
              "    }\n",
              "  </style>\n",
              "\n",
              "      <script>\n",
              "        const buttonEl =\n",
              "          document.querySelector('#df-e69fa967-575d-4ee3-bbf0-8917c22bf7b1 button.colab-df-convert');\n",
              "        buttonEl.style.display =\n",
              "          google.colab.kernel.accessAllowed ? 'block' : 'none';\n",
              "\n",
              "        async function convertToInteractive(key) {\n",
              "          const element = document.querySelector('#df-e69fa967-575d-4ee3-bbf0-8917c22bf7b1');\n",
              "          const dataTable =\n",
              "            await google.colab.kernel.invokeFunction('convertToInteractive',\n",
              "                                                     [key], {});\n",
              "          if (!dataTable) return;\n",
              "\n",
              "          const docLinkHtml = 'Like what you see? Visit the ' +\n",
              "            '<a target=\"_blank\" href=https://colab.research.google.com/notebooks/data_table.ipynb>data table notebook</a>'\n",
              "            + ' to learn more about interactive tables.';\n",
              "          element.innerHTML = '';\n",
              "          dataTable['output_type'] = 'display_data';\n",
              "          await google.colab.output.renderOutput(dataTable, element);\n",
              "          const docLink = document.createElement('div');\n",
              "          docLink.innerHTML = docLinkHtml;\n",
              "          element.appendChild(docLink);\n",
              "        }\n",
              "      </script>\n",
              "    </div>\n",
              "  </div>\n",
              "  "
            ]
          },
          "metadata": {},
          "execution_count": 98
        }
      ]
    },
    {
      "cell_type": "code",
      "source": [
        "del raw_olx[2]\n",
        "del raw_olx[5]\n",
        "del raw_olx[6]\n",
        "del raw_olx[7]\n",
        "\n",
        "raw_olx"
      ],
      "metadata": {
        "colab": {
          "base_uri": "https://localhost:8080/",
          "height": 424
        },
        "id": "D4h1gj1VTLcg",
        "outputId": "8f6ef595-7f33-48d3-e622-8c3ad917f1ee"
      },
      "execution_count": 99,
      "outputs": [
        {
          "output_type": "execute_result",
          "data": {
            "text/plain": [
              "                 0             1                           3               4  \\\n",
              "0           Warsaw  1 122 000 zł     Cena za m²: 17000 zł/m²       Poziom: 5   \n",
              "1           Warsaw    695 000 zł  Cena za m²: 15795.45 zł/m²       Poziom: 3   \n",
              "2           Warsaw    485 000 zł  Cena za m²: 11658.65 zł/m²       Poziom: 6   \n",
              "3           Warsaw    650 000 zł     Cena za m²: 13000 zł/m²       Poziom: 1   \n",
              "4           Warsaw    640 000 zł   Cena za m²: 5936.92 zł/m²       Poziom: 3   \n",
              "...            ...           ...                         ...             ...   \n",
              "3452  Zielona Gora    379 000 zł   Cena za m²: 8813.95 zł/m²       Poziom: 1   \n",
              "3453  Zielona Gora    290 000 zł      Cena za m²: 7250 zł/m²  Poziom: Parter   \n",
              "3454  Zielona Gora    360 000 zł   Cena za m²: 8571.43 zł/m²  Poziom: Parter   \n",
              "3455  Zielona Gora    379 000 zł   Cena za m²: 8813.95 zł/m²       Poziom: 1   \n",
              "3456  Zielona Gora    290 000 zł      Cena za m²: 7250 zł/m²  Poziom: Parter   \n",
              "\n",
              "                            8                         9  \n",
              "0         Powierzchnia: 66 m²    Liczba pokoi: 3 pokoje  \n",
              "1         Powierzchnia: 44 m²    Liczba pokoi: 2 pokoje  \n",
              "2      Powierzchnia: 41,60 m²    Liczba pokoi: 2 pokoje  \n",
              "3         Powierzchnia: 50 m²    Liczba pokoi: 2 pokoje  \n",
              "4     Powierzchnia: 107,80 m²  Liczba pokoi: 4 i więcej  \n",
              "...                       ...                       ...  \n",
              "3452      Powierzchnia: 43 m²    Liczba pokoi: 2 pokoje  \n",
              "3453      Powierzchnia: 40 m²    Liczba pokoi: 3 pokoje  \n",
              "3454      Powierzchnia: 42 m²    Liczba pokoi: 2 pokoje  \n",
              "3455      Powierzchnia: 43 m²    Liczba pokoi: 2 pokoje  \n",
              "3456      Powierzchnia: 40 m²    Liczba pokoi: 3 pokoje  \n",
              "\n",
              "[3457 rows x 6 columns]"
            ],
            "text/html": [
              "\n",
              "  <div id=\"df-b7ca6ad7-32eb-404a-9fa0-41c7df49622c\">\n",
              "    <div class=\"colab-df-container\">\n",
              "      <div>\n",
              "<style scoped>\n",
              "    .dataframe tbody tr th:only-of-type {\n",
              "        vertical-align: middle;\n",
              "    }\n",
              "\n",
              "    .dataframe tbody tr th {\n",
              "        vertical-align: top;\n",
              "    }\n",
              "\n",
              "    .dataframe thead th {\n",
              "        text-align: right;\n",
              "    }\n",
              "</style>\n",
              "<table border=\"1\" class=\"dataframe\">\n",
              "  <thead>\n",
              "    <tr style=\"text-align: right;\">\n",
              "      <th></th>\n",
              "      <th>0</th>\n",
              "      <th>1</th>\n",
              "      <th>3</th>\n",
              "      <th>4</th>\n",
              "      <th>8</th>\n",
              "      <th>9</th>\n",
              "    </tr>\n",
              "  </thead>\n",
              "  <tbody>\n",
              "    <tr>\n",
              "      <th>0</th>\n",
              "      <td>Warsaw</td>\n",
              "      <td>1 122 000 zł</td>\n",
              "      <td>Cena za m²: 17000 zł/m²</td>\n",
              "      <td>Poziom: 5</td>\n",
              "      <td>Powierzchnia: 66 m²</td>\n",
              "      <td>Liczba pokoi: 3 pokoje</td>\n",
              "    </tr>\n",
              "    <tr>\n",
              "      <th>1</th>\n",
              "      <td>Warsaw</td>\n",
              "      <td>695 000 zł</td>\n",
              "      <td>Cena za m²: 15795.45 zł/m²</td>\n",
              "      <td>Poziom: 3</td>\n",
              "      <td>Powierzchnia: 44 m²</td>\n",
              "      <td>Liczba pokoi: 2 pokoje</td>\n",
              "    </tr>\n",
              "    <tr>\n",
              "      <th>2</th>\n",
              "      <td>Warsaw</td>\n",
              "      <td>485 000 zł</td>\n",
              "      <td>Cena za m²: 11658.65 zł/m²</td>\n",
              "      <td>Poziom: 6</td>\n",
              "      <td>Powierzchnia: 41,60 m²</td>\n",
              "      <td>Liczba pokoi: 2 pokoje</td>\n",
              "    </tr>\n",
              "    <tr>\n",
              "      <th>3</th>\n",
              "      <td>Warsaw</td>\n",
              "      <td>650 000 zł</td>\n",
              "      <td>Cena za m²: 13000 zł/m²</td>\n",
              "      <td>Poziom: 1</td>\n",
              "      <td>Powierzchnia: 50 m²</td>\n",
              "      <td>Liczba pokoi: 2 pokoje</td>\n",
              "    </tr>\n",
              "    <tr>\n",
              "      <th>4</th>\n",
              "      <td>Warsaw</td>\n",
              "      <td>640 000 zł</td>\n",
              "      <td>Cena za m²: 5936.92 zł/m²</td>\n",
              "      <td>Poziom: 3</td>\n",
              "      <td>Powierzchnia: 107,80 m²</td>\n",
              "      <td>Liczba pokoi: 4 i więcej</td>\n",
              "    </tr>\n",
              "    <tr>\n",
              "      <th>...</th>\n",
              "      <td>...</td>\n",
              "      <td>...</td>\n",
              "      <td>...</td>\n",
              "      <td>...</td>\n",
              "      <td>...</td>\n",
              "      <td>...</td>\n",
              "    </tr>\n",
              "    <tr>\n",
              "      <th>3452</th>\n",
              "      <td>Zielona Gora</td>\n",
              "      <td>379 000 zł</td>\n",
              "      <td>Cena za m²: 8813.95 zł/m²</td>\n",
              "      <td>Poziom: 1</td>\n",
              "      <td>Powierzchnia: 43 m²</td>\n",
              "      <td>Liczba pokoi: 2 pokoje</td>\n",
              "    </tr>\n",
              "    <tr>\n",
              "      <th>3453</th>\n",
              "      <td>Zielona Gora</td>\n",
              "      <td>290 000 zł</td>\n",
              "      <td>Cena za m²: 7250 zł/m²</td>\n",
              "      <td>Poziom: Parter</td>\n",
              "      <td>Powierzchnia: 40 m²</td>\n",
              "      <td>Liczba pokoi: 3 pokoje</td>\n",
              "    </tr>\n",
              "    <tr>\n",
              "      <th>3454</th>\n",
              "      <td>Zielona Gora</td>\n",
              "      <td>360 000 zł</td>\n",
              "      <td>Cena za m²: 8571.43 zł/m²</td>\n",
              "      <td>Poziom: Parter</td>\n",
              "      <td>Powierzchnia: 42 m²</td>\n",
              "      <td>Liczba pokoi: 2 pokoje</td>\n",
              "    </tr>\n",
              "    <tr>\n",
              "      <th>3455</th>\n",
              "      <td>Zielona Gora</td>\n",
              "      <td>379 000 zł</td>\n",
              "      <td>Cena za m²: 8813.95 zł/m²</td>\n",
              "      <td>Poziom: 1</td>\n",
              "      <td>Powierzchnia: 43 m²</td>\n",
              "      <td>Liczba pokoi: 2 pokoje</td>\n",
              "    </tr>\n",
              "    <tr>\n",
              "      <th>3456</th>\n",
              "      <td>Zielona Gora</td>\n",
              "      <td>290 000 zł</td>\n",
              "      <td>Cena za m²: 7250 zł/m²</td>\n",
              "      <td>Poziom: Parter</td>\n",
              "      <td>Powierzchnia: 40 m²</td>\n",
              "      <td>Liczba pokoi: 3 pokoje</td>\n",
              "    </tr>\n",
              "  </tbody>\n",
              "</table>\n",
              "<p>3457 rows × 6 columns</p>\n",
              "</div>\n",
              "      <button class=\"colab-df-convert\" onclick=\"convertToInteractive('df-b7ca6ad7-32eb-404a-9fa0-41c7df49622c')\"\n",
              "              title=\"Convert this dataframe to an interactive table.\"\n",
              "              style=\"display:none;\">\n",
              "        \n",
              "  <svg xmlns=\"http://www.w3.org/2000/svg\" height=\"24px\"viewBox=\"0 0 24 24\"\n",
              "       width=\"24px\">\n",
              "    <path d=\"M0 0h24v24H0V0z\" fill=\"none\"/>\n",
              "    <path d=\"M18.56 5.44l.94 2.06.94-2.06 2.06-.94-2.06-.94-.94-2.06-.94 2.06-2.06.94zm-11 1L8.5 8.5l.94-2.06 2.06-.94-2.06-.94L8.5 2.5l-.94 2.06-2.06.94zm10 10l.94 2.06.94-2.06 2.06-.94-2.06-.94-.94-2.06-.94 2.06-2.06.94z\"/><path d=\"M17.41 7.96l-1.37-1.37c-.4-.4-.92-.59-1.43-.59-.52 0-1.04.2-1.43.59L10.3 9.45l-7.72 7.72c-.78.78-.78 2.05 0 2.83L4 21.41c.39.39.9.59 1.41.59.51 0 1.02-.2 1.41-.59l7.78-7.78 2.81-2.81c.8-.78.8-2.07 0-2.86zM5.41 20L4 18.59l7.72-7.72 1.47 1.35L5.41 20z\"/>\n",
              "  </svg>\n",
              "      </button>\n",
              "      \n",
              "  <style>\n",
              "    .colab-df-container {\n",
              "      display:flex;\n",
              "      flex-wrap:wrap;\n",
              "      gap: 12px;\n",
              "    }\n",
              "\n",
              "    .colab-df-convert {\n",
              "      background-color: #E8F0FE;\n",
              "      border: none;\n",
              "      border-radius: 50%;\n",
              "      cursor: pointer;\n",
              "      display: none;\n",
              "      fill: #1967D2;\n",
              "      height: 32px;\n",
              "      padding: 0 0 0 0;\n",
              "      width: 32px;\n",
              "    }\n",
              "\n",
              "    .colab-df-convert:hover {\n",
              "      background-color: #E2EBFA;\n",
              "      box-shadow: 0px 1px 2px rgba(60, 64, 67, 0.3), 0px 1px 3px 1px rgba(60, 64, 67, 0.15);\n",
              "      fill: #174EA6;\n",
              "    }\n",
              "\n",
              "    [theme=dark] .colab-df-convert {\n",
              "      background-color: #3B4455;\n",
              "      fill: #D2E3FC;\n",
              "    }\n",
              "\n",
              "    [theme=dark] .colab-df-convert:hover {\n",
              "      background-color: #434B5C;\n",
              "      box-shadow: 0px 1px 3px 1px rgba(0, 0, 0, 0.15);\n",
              "      filter: drop-shadow(0px 1px 2px rgba(0, 0, 0, 0.3));\n",
              "      fill: #FFFFFF;\n",
              "    }\n",
              "  </style>\n",
              "\n",
              "      <script>\n",
              "        const buttonEl =\n",
              "          document.querySelector('#df-b7ca6ad7-32eb-404a-9fa0-41c7df49622c button.colab-df-convert');\n",
              "        buttonEl.style.display =\n",
              "          google.colab.kernel.accessAllowed ? 'block' : 'none';\n",
              "\n",
              "        async function convertToInteractive(key) {\n",
              "          const element = document.querySelector('#df-b7ca6ad7-32eb-404a-9fa0-41c7df49622c');\n",
              "          const dataTable =\n",
              "            await google.colab.kernel.invokeFunction('convertToInteractive',\n",
              "                                                     [key], {});\n",
              "          if (!dataTable) return;\n",
              "\n",
              "          const docLinkHtml = 'Like what you see? Visit the ' +\n",
              "            '<a target=\"_blank\" href=https://colab.research.google.com/notebooks/data_table.ipynb>data table notebook</a>'\n",
              "            + ' to learn more about interactive tables.';\n",
              "          element.innerHTML = '';\n",
              "          dataTable['output_type'] = 'display_data';\n",
              "          await google.colab.output.renderOutput(dataTable, element);\n",
              "          const docLink = document.createElement('div');\n",
              "          docLink.innerHTML = docLinkHtml;\n",
              "          element.appendChild(docLink);\n",
              "        }\n",
              "      </script>\n",
              "    </div>\n",
              "  </div>\n",
              "  "
            ]
          },
          "metadata": {},
          "execution_count": 99
        }
      ]
    },
    {
      "cell_type": "code",
      "source": [
        "raw_olx.columns = ['City', 'Price', 'Price/sqr_meter', 'Level', 'Area', 'Rooms']"
      ],
      "metadata": {
        "id": "vXW_IfSLTg6Z"
      },
      "execution_count": 100,
      "outputs": []
    },
    {
      "cell_type": "code",
      "source": [
        "raw_olx.City.unique()"
      ],
      "metadata": {
        "colab": {
          "base_uri": "https://localhost:8080/"
        },
        "id": "WfeT5fYuT3BG",
        "outputId": "4c8fc5ec-c8f3-4ab6-81b6-fe99dc795b78"
      },
      "execution_count": 101,
      "outputs": [
        {
          "output_type": "execute_result",
          "data": {
            "text/plain": [
              "array(['Warsaw', 'Wroclaw', 'Gdynia', 'Gdansk', 'Cracow', 'Szczecin',\n",
              "       'Poznan', 'Zielona Gora'], dtype=object)"
            ]
          },
          "metadata": {},
          "execution_count": 101
        }
      ]
    },
    {
      "cell_type": "markdown",
      "source": [
        "###Price column"
      ],
      "metadata": {
        "id": "XHgVZAT8UOcr"
      }
    },
    {
      "cell_type": "markdown",
      "source": [
        "**Delete symbols and spaces**"
      ],
      "metadata": {
        "id": "6XmBTqIXUs3T"
      }
    },
    {
      "cell_type": "code",
      "source": [
        "raw_olx.Price = raw_olx.Price.str.replace(' zł', '')\n",
        "raw_olx.Price = raw_olx.Price.str.replace(' ', '')\n",
        "raw_olx.Price = raw_olx.Price.str.replace(',', '')\n",
        "\n",
        "raw_olx.Price"
      ],
      "metadata": {
        "colab": {
          "base_uri": "https://localhost:8080/"
        },
        "id": "_k65urKdUQqx",
        "outputId": "ca2cec3e-d489-44f2-9905-7c897671137e"
      },
      "execution_count": 102,
      "outputs": [
        {
          "output_type": "execute_result",
          "data": {
            "text/plain": [
              "0       1122000\n",
              "1        695000\n",
              "2        485000\n",
              "3        650000\n",
              "4        640000\n",
              "         ...   \n",
              "3452     379000\n",
              "3453     290000\n",
              "3454     360000\n",
              "3455     379000\n",
              "3456     290000\n",
              "Name: Price, Length: 3457, dtype: object"
            ]
          },
          "metadata": {},
          "execution_count": 102
        }
      ]
    },
    {
      "cell_type": "markdown",
      "source": [
        "**Convert into numeric type**"
      ],
      "metadata": {
        "id": "Di3liQUKVC4O"
      }
    },
    {
      "cell_type": "code",
      "source": [
        "raw_olx.Price = pd.to_numeric(raw_olx.Price)"
      ],
      "metadata": {
        "id": "LRLN32KJVGQU"
      },
      "execution_count": 103,
      "outputs": []
    },
    {
      "cell_type": "markdown",
      "source": [
        "###Price/sqr_meter"
      ],
      "metadata": {
        "id": "wD0FvDRDVRCV"
      }
    },
    {
      "cell_type": "markdown",
      "source": [
        "**Delete symbols and spaces**"
      ],
      "metadata": {
        "id": "cUnPxQPFV_6o"
      }
    },
    {
      "cell_type": "code",
      "source": [
        "raw_olx['Price/sqr_meter'] = raw_olx['Price/sqr_meter'].str.replace('Cena za m²: ', '')\n",
        "raw_olx['Price/sqr_meter'] = raw_olx['Price/sqr_meter'].str.replace(' zł/m²', '')\n",
        "raw_olx['Price/sqr_meter'] = raw_olx['Price/sqr_meter'].str.replace(',', '.')\n",
        "\n",
        "raw_olx['Price/sqr_meter']"
      ],
      "metadata": {
        "colab": {
          "base_uri": "https://localhost:8080/"
        },
        "id": "XBS5BbS4VYQu",
        "outputId": "91a4f583-dcb8-4332-9596-7ca96ec167aa"
      },
      "execution_count": 104,
      "outputs": [
        {
          "output_type": "execute_result",
          "data": {
            "text/plain": [
              "0          17000\n",
              "1       15795.45\n",
              "2       11658.65\n",
              "3          13000\n",
              "4        5936.92\n",
              "          ...   \n",
              "3452     8813.95\n",
              "3453        7250\n",
              "3454     8571.43\n",
              "3455     8813.95\n",
              "3456        7250\n",
              "Name: Price/sqr_meter, Length: 3457, dtype: object"
            ]
          },
          "metadata": {},
          "execution_count": 104
        }
      ]
    },
    {
      "cell_type": "markdown",
      "source": [
        "**Convert into numeric type**"
      ],
      "metadata": {
        "id": "L6uSvpbdWCwg"
      }
    },
    {
      "cell_type": "code",
      "source": [
        "raw_olx['Price/sqr_meter'] = pd.to_numeric(raw_olx['Price/sqr_meter'])"
      ],
      "metadata": {
        "id": "WGIm5JgKV_Im"
      },
      "execution_count": 105,
      "outputs": []
    },
    {
      "cell_type": "markdown",
      "source": [
        "###Level column"
      ],
      "metadata": {
        "id": "WXA_W1awWUDs"
      }
    },
    {
      "cell_type": "markdown",
      "source": [
        "**Delete polish words and spaces**"
      ],
      "metadata": {
        "id": "W-c-UddeWctC"
      }
    },
    {
      "cell_type": "code",
      "source": [
        "raw_olx.Level = raw_olx.Level.str.replace('Poziom: ', '')\n",
        "\n",
        "raw_olx.Level.unique()"
      ],
      "metadata": {
        "colab": {
          "base_uri": "https://localhost:8080/"
        },
        "id": "nY4vX1VwWbaF",
        "outputId": "925ccaa4-3936-49db-eb93-1bdd9bf9080b"
      },
      "execution_count": 106,
      "outputs": [
        {
          "output_type": "execute_result",
          "data": {
            "text/plain": [
              "array(['5', '3', '6', '1', 'Umeblowane: Nie', 'Powyżej 10', '10', '8',\n",
              "       '2', '7', 'Parter', 'Umeblowane: Tak', '4', '9', 'Suterena', nan,\n",
              "       'Poddasze'], dtype=object)"
            ]
          },
          "metadata": {},
          "execution_count": 106
        }
      ]
    },
    {
      "cell_type": "code",
      "source": [
        "raw_olx.Level = raw_olx.Level.str.replace('Umeblowane: Nie', 'nan')\n",
        "raw_olx.Level = raw_olx.Level.str.replace('Umeblowane: Tak', 'nan')\n",
        "raw_olx.Level = raw_olx.Level.str.replace('Powyżej 10', '11')\n",
        "raw_olx.Level = raw_olx.Level.str.replace('Poddasze', '0.5')\n",
        "raw_olx.Level = raw_olx.Level.str.replace('Suterena', '-0.5')\n",
        "raw_olx.Level = raw_olx.Level.str.replace('Parter', '0')\n",
        "\n",
        "raw_olx.Level.unique()"
      ],
      "metadata": {
        "colab": {
          "base_uri": "https://localhost:8080/"
        },
        "id": "IG4iUTzZXZrR",
        "outputId": "6a41aa15-bfe7-4dc2-8999-3538176a1a8a"
      },
      "execution_count": 107,
      "outputs": [
        {
          "output_type": "execute_result",
          "data": {
            "text/plain": [
              "array(['5', '3', '6', '1', 'nan', '11', '10', '8', '2', '7', '0', '4',\n",
              "       '9', '-0.5', nan, '0.5'], dtype=object)"
            ]
          },
          "metadata": {},
          "execution_count": 107
        }
      ]
    },
    {
      "cell_type": "markdown",
      "source": [
        "**Drop NaN values**"
      ],
      "metadata": {
        "id": "gIWxw27DYjsN"
      }
    },
    {
      "cell_type": "code",
      "source": [
        "raw_olx.Level.replace('nan', np.nan, inplace=True)\n",
        "raw_olx.dropna(inplace=True)\n",
        "raw_olx.Level.unique()"
      ],
      "metadata": {
        "colab": {
          "base_uri": "https://localhost:8080/"
        },
        "id": "6WokcByaYM2U",
        "outputId": "2aa31bed-6705-48a0-8c58-466e6cba0f81"
      },
      "execution_count": 108,
      "outputs": [
        {
          "output_type": "execute_result",
          "data": {
            "text/plain": [
              "array(['5', '3', '6', '1', '11', '10', '8', '2', '7', '0', '4', '9',\n",
              "       '-0.5', '0.5'], dtype=object)"
            ]
          },
          "metadata": {},
          "execution_count": 108
        }
      ]
    },
    {
      "cell_type": "markdown",
      "source": [
        "**Convert into numeric type**"
      ],
      "metadata": {
        "id": "s9mKEnRVYnFv"
      }
    },
    {
      "cell_type": "code",
      "source": [
        "raw_olx.Level = pd.to_numeric(raw_olx.Level)"
      ],
      "metadata": {
        "id": "9v-0qFSnYsQ4"
      },
      "execution_count": 109,
      "outputs": []
    },
    {
      "cell_type": "markdown",
      "source": [
        "###Area column"
      ],
      "metadata": {
        "id": "ca2HIyDEZEtX"
      }
    },
    {
      "cell_type": "markdown",
      "source": [
        "**Delete polish words and symbols**"
      ],
      "metadata": {
        "id": "9ZH9gXHQZ45j"
      }
    },
    {
      "cell_type": "code",
      "source": [
        "raw_olx.Area = raw_olx.Area.str.replace('Powierzchnia: ', '')\n",
        "raw_olx.Area = raw_olx.Area.str.replace(' m²', '')\n",
        "raw_olx.Area = raw_olx.Area.str.replace(',', '.')\n",
        "raw_olx.Area = raw_olx.Area.str.replace(' ', '')\n",
        "raw_olx.Area.unique()"
      ],
      "metadata": {
        "colab": {
          "base_uri": "https://localhost:8080/"
        },
        "id": "B-ftcJbqZKIl",
        "outputId": "6d5e26b9-6d35-410d-f3b6-3ab1378384ed"
      },
      "execution_count": 110,
      "outputs": [
        {
          "output_type": "execute_result",
          "data": {
            "text/plain": [
              "array(['66', '44', '41.60', '50', '107.80', '60.36', '34.50', '45', '38',\n",
              "       '39', '29', '33', '36.50', '43', '50.40', '54.43', '83.50',\n",
              "       '78.20', '20', '865000', '62.50', '61', '46.60', '27', '42.30',\n",
              "       '77.85', '56.20', '54.30', '41.50', '26', '55.55', '56.40', '63',\n",
              "       '54.18', '38.50', '45.50', '54.11', '47.10', '104.70', '48.03',\n",
              "       '55.90', '31.20', '44.50', '73', '98', '57', '41.80', '49.80',\n",
              "       '86', '26.50', '37.80', '67', '31.14', '67.50', '45.81', '59.50',\n",
              "       '26.40', '50.90', '54', '141', '48.06', '57.50', '65', '83', '40',\n",
              "       '56.47', '59', '36', '87', '31', '75', '110.68', '30.72', '32',\n",
              "       '49', '37', '59.90', '42', '25.10', '48.30', '62.60', '47', '30',\n",
              "       '25', '42.98', '55', '76', '49.10', '48.90', '48', '55.84',\n",
              "       '32.60', '71.20', '58', '52.90', '70', '33.33', '36.60', '77.46',\n",
              "       '44.40', '51.46', '37.50', '52', '68.74', '69.30', '110', '75.75',\n",
              "       '57.90', '41.40', '56', '42.80', '43.50', '68', '62', '71',\n",
              "       '50.50', '36.95', '36.10', '60', '51.49', '74', '35', '58.50',\n",
              "       '61.30', '90', '56.28', '46', '41', '64.80', '64', '79.90', '92',\n",
              "       '49.05', '25.91', '38.20', '66.11', '57.57', '34', '28', '52.10',\n",
              "       '42.62', '49.50', '60.20', '84', '58.10', '56.10', '21', '36.40',\n",
              "       '37.46', '43.80', '53.40', '45.20', '67.10', '43.04', '38.30',\n",
              "       '53', '62.46', '46.80', '53.50', '37.60', '48.95', '66.06',\n",
              "       '19.40', '69.80', '19.30', '96.50', '48.20', '45.06', '80.60',\n",
              "       '52.41', '52.40', '81.40', '40.80', '95', '42.12', '49.70', '22',\n",
              "       '60.50', '32.70', '72', '48.83', '103', '55.40', '49.39', '47.80',\n",
              "       '49.30', '64.30', '45.23', '69', '72.41', '85.60', '35.60',\n",
              "       '71.13', '101', '35.76', '51.60', '56.90', '53.83', '40.14',\n",
              "       '49.82', '63.56', '61.07', '57.70', '63.94', '107', '44.12',\n",
              "       '45.98', '38.74', '38.26', '94.55', '26.36', '42.84', '32.56',\n",
              "       '46.41', '61.80', '51.99', '65.80', '57.98', '52.13', '61.20',\n",
              "       '63.10', '82', '42.76', '54.17', '38.16', '101.40', '51', '47.50',\n",
              "       '30.95', '62.93', '52.36', '161.15', '66.83', '63.04', '55.04',\n",
              "       '39.60', '81', '78', '73.03', '49.14', '78.10', '52.70', '48.10',\n",
              "       '54.73', '93', '26.44', '15', '55.38', '89.90', '79', '73.50',\n",
              "       '88', '44.60', '46.18', '100.60', '52.91', '54.70', '46.15',\n",
              "       '50.70', '70.50', '53.76', '27.97', '33.20', '37.31', '36.80',\n",
              "       '45.60', '53.70', '49.20', '45.58', '51.50', '40.60', '69.40',\n",
              "       '57.69', '46.33', '42.90', '47.15', '46.30', '58.67', '31.90',\n",
              "       '95.51', '36.20', '62.70', '27.80', '28.06', '31.50', '50.18',\n",
              "       '17', '41.90', '94.05', '33.21', '51.37', '52.89', '42.52',\n",
              "       '41.12', '96', '82.20', '46.43', '64.50', '51.40', '66.90',\n",
              "       '73.70', '55.63', '113', '102', '52.25', '73.54', '48.75', '40.23',\n",
              "       '30.32', '69.90', '51.57', '50.30', '34.60', '34.10', '34.15',\n",
              "       '74.60', '71.90', '32.25', '42.60', '53.80', '42.50', '56.30',\n",
              "       '69.34', '68.10', '23.80', '76.38', '28.52', '38.23', '35.13',\n",
              "       '59.97', '44.70', '80', '105.70', '123.50', '39.57', '42.91',\n",
              "       '46.70', '60.10', '38.75', '40.65', '37.55', '57.20', '60.40',\n",
              "       '62.20', '43.20', '29.20', '31.80', '47.70', '54.54', '125',\n",
              "       '59.04', '169', '27.50', '54.40', '65.02', '19.32', '42.70',\n",
              "       '45.62', '36.68', '71.78', '38.19', '55.81', '71.56', '24', '14',\n",
              "       '26.60', '29.50', '32.50', '66.02', '22.81', '82.41', '16.30',\n",
              "       '66.80', '31.98', '36.81', '42.06', '30.60', '54.38', '30.09',\n",
              "       '59.29', '77', '52.80', '100', '19.80', '82.90', '35.10', '59.84',\n",
              "       '109', '20.81', '86.50', '89', '20.10', '47.30', '23.52', '53.20',\n",
              "       '43.60', '54.10', '62.10', '43.31', '55.30', '55.99', '59.20',\n",
              "       '37.63', '51.30', '57.60', '250', '130', '66.61', '70.74', '61.28',\n",
              "       '61.74', '36.72', '40.19', '28.71', '50.10', '81.50', '38.80',\n",
              "       '54.66', '20.30', '61.40', '40.70', '51.71', '28.50', '56.38',\n",
              "       '57.44', '28.84', '21.10', '29.68', '63.18', '120', '64.70', '270',\n",
              "       '43.15', '50.63', '75.30', '54.50', '44.44', '39.50', '205',\n",
              "       '33.09', '20.95', '54.90', '46.01', '73.27', '33.56', '28.36',\n",
              "       '43.77', '58.21', '66.48', '280', '33.50', '46.21', '52.50',\n",
              "       '59.67', '39.40', '87.47', '60.89', '52.20', '43.67', '49.46',\n",
              "       '43.30', '40.40', '27.60', '45.30', '34.42', '86.16', '68.31',\n",
              "       '21.53', '33.87', '30.70', '39.11', '35.50', '36.17', '55.50',\n",
              "       '48.22', '32.31', '48.80', '41.66', '46.95', '70.25', '56.80',\n",
              "       '77.07', '74.69', '36.94', '76.41', '19', '112', '51.63', '89.47',\n",
              "       '36.65', '53.14', '101.71', '32.37', '135', '71.50', '31.45',\n",
              "       '52.46', '38.14', '35.90', '74.20', '65.77', '38.40', '137', '132',\n",
              "       '104', '25.02', '44.14', '38.89', '60.19', '46.90', '114', '29.10',\n",
              "       '55.56', '32.74', '55.47', '86.72', '57.92', '38.87', '57.18',\n",
              "       '52.39', '62.30', '60.01', '33.06', '137.11', '36.12', '38.51',\n",
              "       '40.22', '65.27', '578', '59.70', '82.32', '40.55', '57.74',\n",
              "       '101.52', '60.31', '123', '139', '106', '44.68', '87.60', '40.90',\n",
              "       '76.30', '47.29', '30.56', '65.70', '94.98', '31.89', '49.60',\n",
              "       '63.90', '49.40', '57.36', '55.60', '53.86', '47.63', '68.30',\n",
              "       '47.45', '27.92', '45.40', '42.05', '59.42', '46.69', '44.75',\n",
              "       '49.59', '106.90', '79.42', '49.90', '59.82', '36.43', '33.90',\n",
              "       '116', '40.02', '54.22', '84.31', '77.61', '58.11', '57.10',\n",
              "       '50.01', '54.89', '96.30', '30.15', '46.11', '40.50', '27.32',\n",
              "       '47.77', '29.26', '60.07', '54.60', '62.55', '42.33', '29.04',\n",
              "       '129', '60.09', '42.11', '42.41', '50.98', '76.50', '23', '47.26',\n",
              "       '99', '97', '47.40', '39.91', '73.60', '29.34', '47.20', '49.97',\n",
              "       '27.33', '21.98', '88.20', '62.90', '39.49', '82.70', '64.90',\n",
              "       '32.95', '41.04', '41.20', '25.90', '38.10', '56.67', '51.12',\n",
              "       '46.50', '48.70', '60.08', '29.07', '28.40', '48.87', '229.40',\n",
              "       '40.56', '84.75', '53.21', '227', '49.18', '39.90', '74.27',\n",
              "       '72.90', '72.80', '52.30', '57.83', '28.10', '84.87', '160',\n",
              "       '26.92', '86.60', '43.70', '65.15', '68.91', '59.80', '85',\n",
              "       '33.76', '36.70', '64.29', '71.54', '140', '44.90', '82.10',\n",
              "       '73.84', '97.70', '28.70', '61.90', '16', '71.10', '43.87',\n",
              "       '61.50', '66.60', '35.40', '49.98', '35.68', '109.27', '51.10',\n",
              "       '57.80', '70.40', '43.14', '34.59', '55.32', '61.10', '60.30',\n",
              "       '54.76', '55.80', '45.15', '69.70', '48.69', '74.70', '44.20',\n",
              "       '112.90'], dtype=object)"
            ]
          },
          "metadata": {},
          "execution_count": 110
        }
      ]
    },
    {
      "cell_type": "markdown",
      "source": [
        "**Convert into numeric type**"
      ],
      "metadata": {
        "id": "tgoyZEYXZ-Kl"
      }
    },
    {
      "cell_type": "code",
      "source": [
        "raw_olx.Area = pd.to_numeric(raw_olx.Area)"
      ],
      "metadata": {
        "id": "rkundCJHZ0Bs"
      },
      "execution_count": 111,
      "outputs": []
    },
    {
      "cell_type": "markdown",
      "source": [
        "###Rooms column"
      ],
      "metadata": {
        "id": "GtU9goGEaj3Q"
      }
    },
    {
      "cell_type": "markdown",
      "source": [
        "**Clear polish words and symbols**"
      ],
      "metadata": {
        "id": "rvVUMr47anNM"
      }
    },
    {
      "cell_type": "code",
      "source": [
        "raw_olx.Rooms"
      ],
      "metadata": {
        "colab": {
          "base_uri": "https://localhost:8080/"
        },
        "id": "RWV2uyGRamBG",
        "outputId": "d73b5951-8bf2-45f2-d396-aabfd89aaa2b"
      },
      "execution_count": 112,
      "outputs": [
        {
          "output_type": "execute_result",
          "data": {
            "text/plain": [
              "0         Liczba pokoi: 3 pokoje\n",
              "1         Liczba pokoi: 2 pokoje\n",
              "2         Liczba pokoi: 2 pokoje\n",
              "3         Liczba pokoi: 2 pokoje\n",
              "4       Liczba pokoi: 4 i więcej\n",
              "                  ...           \n",
              "3452      Liczba pokoi: 2 pokoje\n",
              "3453      Liczba pokoi: 3 pokoje\n",
              "3454      Liczba pokoi: 2 pokoje\n",
              "3455      Liczba pokoi: 2 pokoje\n",
              "3456      Liczba pokoi: 3 pokoje\n",
              "Name: Rooms, Length: 3392, dtype: object"
            ]
          },
          "metadata": {},
          "execution_count": 112
        }
      ]
    },
    {
      "cell_type": "code",
      "source": [
        "raw_olx.Rooms = raw_olx.Rooms.str.replace('Liczba pokoi: ', '')\n",
        "raw_olx.Rooms = raw_olx.Rooms.str.replace(' pokoje', '')\n",
        "raw_olx.Rooms.unique()\n"
      ],
      "metadata": {
        "colab": {
          "base_uri": "https://localhost:8080/"
        },
        "id": "M6y-lSGmazCU",
        "outputId": "4de38c0b-4546-4b7f-9efd-5469aa6bffbf"
      },
      "execution_count": 113,
      "outputs": [
        {
          "output_type": "execute_result",
          "data": {
            "text/plain": [
              "array(['3', '2', '4 i więcej', '1 pokój'], dtype=object)"
            ]
          },
          "metadata": {},
          "execution_count": 113
        }
      ]
    },
    {
      "cell_type": "code",
      "source": [
        "raw_olx.Rooms = raw_olx.Rooms.str.replace(' pokój', '')\n",
        "raw_olx.Rooms = raw_olx.Rooms.str.replace(' i więcej', '')\n",
        "raw_olx.Rooms.unique()"
      ],
      "metadata": {
        "colab": {
          "base_uri": "https://localhost:8080/"
        },
        "id": "ro7yDMmLbB7Y",
        "outputId": "e29b6e55-ce21-4a7b-c233-f6bb3181072c"
      },
      "execution_count": 114,
      "outputs": [
        {
          "output_type": "execute_result",
          "data": {
            "text/plain": [
              "array(['3', '2', '4', '1'], dtype=object)"
            ]
          },
          "metadata": {},
          "execution_count": 114
        }
      ]
    },
    {
      "cell_type": "markdown",
      "source": [
        "**Convert into numeric type**"
      ],
      "metadata": {
        "id": "25ioZVOybbJs"
      }
    },
    {
      "cell_type": "code",
      "source": [
        "raw_olx.Rooms = pd.to_numeric(raw_olx.Rooms)"
      ],
      "metadata": {
        "id": "O-B9TyqFbiOS"
      },
      "execution_count": 115,
      "outputs": []
    },
    {
      "cell_type": "markdown",
      "source": [
        "###Reorganization of columns"
      ],
      "metadata": {
        "id": "x8tK5Ocxj6T2"
      }
    },
    {
      "cell_type": "code",
      "source": [
        "raw_olx = raw_olx.reindex(columns=['City', 'Price', 'Price/sqr_meter', 'Area', 'Rooms', 'Level'])"
      ],
      "metadata": {
        "id": "QceqnAE3kVgV"
      },
      "execution_count": 116,
      "outputs": []
    },
    {
      "cell_type": "markdown",
      "source": [
        "###Info about DataFrame"
      ],
      "metadata": {
        "id": "rDZvoNQnbqwA"
      }
    },
    {
      "cell_type": "code",
      "source": [
        "raw_olx.info()"
      ],
      "metadata": {
        "colab": {
          "base_uri": "https://localhost:8080/"
        },
        "id": "RRLUCihNbtXz",
        "outputId": "b849f206-52d6-4a39-d20f-879d839ebab0"
      },
      "execution_count": 117,
      "outputs": [
        {
          "output_type": "stream",
          "name": "stdout",
          "text": [
            "<class 'pandas.core.frame.DataFrame'>\n",
            "Int64Index: 3392 entries, 0 to 3456\n",
            "Data columns (total 6 columns):\n",
            " #   Column           Non-Null Count  Dtype  \n",
            "---  ------           --------------  -----  \n",
            " 0   City             3392 non-null   object \n",
            " 1   Price            3392 non-null   float64\n",
            " 2   Price/sqr_meter  3392 non-null   float64\n",
            " 3   Area             3392 non-null   float64\n",
            " 4   Rooms            3392 non-null   int64  \n",
            " 5   Level            3392 non-null   float64\n",
            "dtypes: float64(4), int64(1), object(1)\n",
            "memory usage: 185.5+ KB\n"
          ]
        }
      ]
    },
    {
      "cell_type": "code",
      "source": [
        "raw_olx.describe()"
      ],
      "metadata": {
        "colab": {
          "base_uri": "https://localhost:8080/",
          "height": 300
        },
        "id": "FcxQiHLDbxI3",
        "outputId": "3ff2240a-6f31-4667-b174-a937322f8000"
      },
      "execution_count": 118,
      "outputs": [
        {
          "output_type": "execute_result",
          "data": {
            "text/plain": [
              "                   Price  Price/sqr_meter             Area          Rooms  \\\n",
              "count     3392.000000000   3392.000000000   3392.000000000 3392.000000000   \n",
              "mean    645607.747346698  10906.441244104    563.155934552    2.472287736   \n",
              "std    2371102.337397386   3365.082343162  20999.681087437    0.864004627   \n",
              "min       7600.000000000      1.000000000     14.000000000    1.000000000   \n",
              "25%     410000.000000000   8856.397500000     40.000000000    2.000000000   \n",
              "50%     515000.000000000  10632.500000000     49.935000000    2.000000000   \n",
              "75%     649000.000000000  12506.582500000     62.000000000    3.000000000   \n",
              "max   69085710.000000000  38536.590000000 865000.000000000    4.000000000   \n",
              "\n",
              "               Level  \n",
              "count 3392.000000000  \n",
              "mean     2.605984670  \n",
              "std      2.458901253  \n",
              "min     -0.500000000  \n",
              "25%      1.000000000  \n",
              "50%      2.000000000  \n",
              "75%      4.000000000  \n",
              "max     11.000000000  "
            ],
            "text/html": [
              "\n",
              "  <div id=\"df-008da34c-a644-4f75-801f-ec1c48b6caa3\">\n",
              "    <div class=\"colab-df-container\">\n",
              "      <div>\n",
              "<style scoped>\n",
              "    .dataframe tbody tr th:only-of-type {\n",
              "        vertical-align: middle;\n",
              "    }\n",
              "\n",
              "    .dataframe tbody tr th {\n",
              "        vertical-align: top;\n",
              "    }\n",
              "\n",
              "    .dataframe thead th {\n",
              "        text-align: right;\n",
              "    }\n",
              "</style>\n",
              "<table border=\"1\" class=\"dataframe\">\n",
              "  <thead>\n",
              "    <tr style=\"text-align: right;\">\n",
              "      <th></th>\n",
              "      <th>Price</th>\n",
              "      <th>Price/sqr_meter</th>\n",
              "      <th>Area</th>\n",
              "      <th>Rooms</th>\n",
              "      <th>Level</th>\n",
              "    </tr>\n",
              "  </thead>\n",
              "  <tbody>\n",
              "    <tr>\n",
              "      <th>count</th>\n",
              "      <td>3392.000000000</td>\n",
              "      <td>3392.000000000</td>\n",
              "      <td>3392.000000000</td>\n",
              "      <td>3392.000000000</td>\n",
              "      <td>3392.000000000</td>\n",
              "    </tr>\n",
              "    <tr>\n",
              "      <th>mean</th>\n",
              "      <td>645607.747346698</td>\n",
              "      <td>10906.441244104</td>\n",
              "      <td>563.155934552</td>\n",
              "      <td>2.472287736</td>\n",
              "      <td>2.605984670</td>\n",
              "    </tr>\n",
              "    <tr>\n",
              "      <th>std</th>\n",
              "      <td>2371102.337397386</td>\n",
              "      <td>3365.082343162</td>\n",
              "      <td>20999.681087437</td>\n",
              "      <td>0.864004627</td>\n",
              "      <td>2.458901253</td>\n",
              "    </tr>\n",
              "    <tr>\n",
              "      <th>min</th>\n",
              "      <td>7600.000000000</td>\n",
              "      <td>1.000000000</td>\n",
              "      <td>14.000000000</td>\n",
              "      <td>1.000000000</td>\n",
              "      <td>-0.500000000</td>\n",
              "    </tr>\n",
              "    <tr>\n",
              "      <th>25%</th>\n",
              "      <td>410000.000000000</td>\n",
              "      <td>8856.397500000</td>\n",
              "      <td>40.000000000</td>\n",
              "      <td>2.000000000</td>\n",
              "      <td>1.000000000</td>\n",
              "    </tr>\n",
              "    <tr>\n",
              "      <th>50%</th>\n",
              "      <td>515000.000000000</td>\n",
              "      <td>10632.500000000</td>\n",
              "      <td>49.935000000</td>\n",
              "      <td>2.000000000</td>\n",
              "      <td>2.000000000</td>\n",
              "    </tr>\n",
              "    <tr>\n",
              "      <th>75%</th>\n",
              "      <td>649000.000000000</td>\n",
              "      <td>12506.582500000</td>\n",
              "      <td>62.000000000</td>\n",
              "      <td>3.000000000</td>\n",
              "      <td>4.000000000</td>\n",
              "    </tr>\n",
              "    <tr>\n",
              "      <th>max</th>\n",
              "      <td>69085710.000000000</td>\n",
              "      <td>38536.590000000</td>\n",
              "      <td>865000.000000000</td>\n",
              "      <td>4.000000000</td>\n",
              "      <td>11.000000000</td>\n",
              "    </tr>\n",
              "  </tbody>\n",
              "</table>\n",
              "</div>\n",
              "      <button class=\"colab-df-convert\" onclick=\"convertToInteractive('df-008da34c-a644-4f75-801f-ec1c48b6caa3')\"\n",
              "              title=\"Convert this dataframe to an interactive table.\"\n",
              "              style=\"display:none;\">\n",
              "        \n",
              "  <svg xmlns=\"http://www.w3.org/2000/svg\" height=\"24px\"viewBox=\"0 0 24 24\"\n",
              "       width=\"24px\">\n",
              "    <path d=\"M0 0h24v24H0V0z\" fill=\"none\"/>\n",
              "    <path d=\"M18.56 5.44l.94 2.06.94-2.06 2.06-.94-2.06-.94-.94-2.06-.94 2.06-2.06.94zm-11 1L8.5 8.5l.94-2.06 2.06-.94-2.06-.94L8.5 2.5l-.94 2.06-2.06.94zm10 10l.94 2.06.94-2.06 2.06-.94-2.06-.94-.94-2.06-.94 2.06-2.06.94z\"/><path d=\"M17.41 7.96l-1.37-1.37c-.4-.4-.92-.59-1.43-.59-.52 0-1.04.2-1.43.59L10.3 9.45l-7.72 7.72c-.78.78-.78 2.05 0 2.83L4 21.41c.39.39.9.59 1.41.59.51 0 1.02-.2 1.41-.59l7.78-7.78 2.81-2.81c.8-.78.8-2.07 0-2.86zM5.41 20L4 18.59l7.72-7.72 1.47 1.35L5.41 20z\"/>\n",
              "  </svg>\n",
              "      </button>\n",
              "      \n",
              "  <style>\n",
              "    .colab-df-container {\n",
              "      display:flex;\n",
              "      flex-wrap:wrap;\n",
              "      gap: 12px;\n",
              "    }\n",
              "\n",
              "    .colab-df-convert {\n",
              "      background-color: #E8F0FE;\n",
              "      border: none;\n",
              "      border-radius: 50%;\n",
              "      cursor: pointer;\n",
              "      display: none;\n",
              "      fill: #1967D2;\n",
              "      height: 32px;\n",
              "      padding: 0 0 0 0;\n",
              "      width: 32px;\n",
              "    }\n",
              "\n",
              "    .colab-df-convert:hover {\n",
              "      background-color: #E2EBFA;\n",
              "      box-shadow: 0px 1px 2px rgba(60, 64, 67, 0.3), 0px 1px 3px 1px rgba(60, 64, 67, 0.15);\n",
              "      fill: #174EA6;\n",
              "    }\n",
              "\n",
              "    [theme=dark] .colab-df-convert {\n",
              "      background-color: #3B4455;\n",
              "      fill: #D2E3FC;\n",
              "    }\n",
              "\n",
              "    [theme=dark] .colab-df-convert:hover {\n",
              "      background-color: #434B5C;\n",
              "      box-shadow: 0px 1px 3px 1px rgba(0, 0, 0, 0.15);\n",
              "      filter: drop-shadow(0px 1px 2px rgba(0, 0, 0, 0.3));\n",
              "      fill: #FFFFFF;\n",
              "    }\n",
              "  </style>\n",
              "\n",
              "      <script>\n",
              "        const buttonEl =\n",
              "          document.querySelector('#df-008da34c-a644-4f75-801f-ec1c48b6caa3 button.colab-df-convert');\n",
              "        buttonEl.style.display =\n",
              "          google.colab.kernel.accessAllowed ? 'block' : 'none';\n",
              "\n",
              "        async function convertToInteractive(key) {\n",
              "          const element = document.querySelector('#df-008da34c-a644-4f75-801f-ec1c48b6caa3');\n",
              "          const dataTable =\n",
              "            await google.colab.kernel.invokeFunction('convertToInteractive',\n",
              "                                                     [key], {});\n",
              "          if (!dataTable) return;\n",
              "\n",
              "          const docLinkHtml = 'Like what you see? Visit the ' +\n",
              "            '<a target=\"_blank\" href=https://colab.research.google.com/notebooks/data_table.ipynb>data table notebook</a>'\n",
              "            + ' to learn more about interactive tables.';\n",
              "          element.innerHTML = '';\n",
              "          dataTable['output_type'] = 'display_data';\n",
              "          await google.colab.output.renderOutput(dataTable, element);\n",
              "          const docLink = document.createElement('div');\n",
              "          docLink.innerHTML = docLinkHtml;\n",
              "          element.appendChild(docLink);\n",
              "        }\n",
              "      </script>\n",
              "    </div>\n",
              "  </div>\n",
              "  "
            ]
          },
          "metadata": {},
          "execution_count": 118
        }
      ]
    },
    {
      "cell_type": "markdown",
      "source": [
        "Too high difference between 75% and max value in Area column!"
      ],
      "metadata": {
        "id": "mNL7FShAb3zt"
      }
    },
    {
      "cell_type": "markdown",
      "source": [
        "**Delete too high values**"
      ],
      "metadata": {
        "id": "UDerqO_qc3aA"
      }
    },
    {
      "cell_type": "code",
      "source": [
        "raw_olx = raw_olx[raw_olx.Area != 865000.00]"
      ],
      "metadata": {
        "id": "wPVw6mzkcD4E"
      },
      "execution_count": 119,
      "outputs": []
    },
    {
      "cell_type": "code",
      "source": [
        "raw_olx.describe()"
      ],
      "metadata": {
        "colab": {
          "base_uri": "https://localhost:8080/",
          "height": 300
        },
        "id": "vI0f3fcuc1ZX",
        "outputId": "f8b4a753-0d33-4bfb-b9a4-a1861a748b3d"
      },
      "execution_count": 120,
      "outputs": [
        {
          "output_type": "execute_result",
          "data": {
            "text/plain": [
              "                   Price  Price/sqr_meter           Area          Rooms  \\\n",
              "count     3390.000000000   3390.000000000 3390.000000000 3390.000000000   \n",
              "mean    645478.312389381  10912.875132743   53.163696165    2.471976401   \n",
              "std    2371795.889118231   3355.627413464   22.745088265    0.864164394   \n",
              "min       7600.000000000     33.130000000   14.000000000    1.000000000   \n",
              "25%     410000.000000000   8857.140000000   40.000000000    2.000000000   \n",
              "50%     515000.000000000  10632.500000000   49.860000000    2.000000000   \n",
              "75%     648750.000000000  12519.747500000   62.000000000    3.000000000   \n",
              "max   69085710.000000000  38536.590000000  578.000000000    4.000000000   \n",
              "\n",
              "               Level  \n",
              "count 3390.000000000  \n",
              "mean     2.607522124  \n",
              "std      2.458811374  \n",
              "min     -0.500000000  \n",
              "25%      1.000000000  \n",
              "50%      2.000000000  \n",
              "75%      4.000000000  \n",
              "max     11.000000000  "
            ],
            "text/html": [
              "\n",
              "  <div id=\"df-59275202-2d78-4f27-aea8-51ca28c641b4\">\n",
              "    <div class=\"colab-df-container\">\n",
              "      <div>\n",
              "<style scoped>\n",
              "    .dataframe tbody tr th:only-of-type {\n",
              "        vertical-align: middle;\n",
              "    }\n",
              "\n",
              "    .dataframe tbody tr th {\n",
              "        vertical-align: top;\n",
              "    }\n",
              "\n",
              "    .dataframe thead th {\n",
              "        text-align: right;\n",
              "    }\n",
              "</style>\n",
              "<table border=\"1\" class=\"dataframe\">\n",
              "  <thead>\n",
              "    <tr style=\"text-align: right;\">\n",
              "      <th></th>\n",
              "      <th>Price</th>\n",
              "      <th>Price/sqr_meter</th>\n",
              "      <th>Area</th>\n",
              "      <th>Rooms</th>\n",
              "      <th>Level</th>\n",
              "    </tr>\n",
              "  </thead>\n",
              "  <tbody>\n",
              "    <tr>\n",
              "      <th>count</th>\n",
              "      <td>3390.000000000</td>\n",
              "      <td>3390.000000000</td>\n",
              "      <td>3390.000000000</td>\n",
              "      <td>3390.000000000</td>\n",
              "      <td>3390.000000000</td>\n",
              "    </tr>\n",
              "    <tr>\n",
              "      <th>mean</th>\n",
              "      <td>645478.312389381</td>\n",
              "      <td>10912.875132743</td>\n",
              "      <td>53.163696165</td>\n",
              "      <td>2.471976401</td>\n",
              "      <td>2.607522124</td>\n",
              "    </tr>\n",
              "    <tr>\n",
              "      <th>std</th>\n",
              "      <td>2371795.889118231</td>\n",
              "      <td>3355.627413464</td>\n",
              "      <td>22.745088265</td>\n",
              "      <td>0.864164394</td>\n",
              "      <td>2.458811374</td>\n",
              "    </tr>\n",
              "    <tr>\n",
              "      <th>min</th>\n",
              "      <td>7600.000000000</td>\n",
              "      <td>33.130000000</td>\n",
              "      <td>14.000000000</td>\n",
              "      <td>1.000000000</td>\n",
              "      <td>-0.500000000</td>\n",
              "    </tr>\n",
              "    <tr>\n",
              "      <th>25%</th>\n",
              "      <td>410000.000000000</td>\n",
              "      <td>8857.140000000</td>\n",
              "      <td>40.000000000</td>\n",
              "      <td>2.000000000</td>\n",
              "      <td>1.000000000</td>\n",
              "    </tr>\n",
              "    <tr>\n",
              "      <th>50%</th>\n",
              "      <td>515000.000000000</td>\n",
              "      <td>10632.500000000</td>\n",
              "      <td>49.860000000</td>\n",
              "      <td>2.000000000</td>\n",
              "      <td>2.000000000</td>\n",
              "    </tr>\n",
              "    <tr>\n",
              "      <th>75%</th>\n",
              "      <td>648750.000000000</td>\n",
              "      <td>12519.747500000</td>\n",
              "      <td>62.000000000</td>\n",
              "      <td>3.000000000</td>\n",
              "      <td>4.000000000</td>\n",
              "    </tr>\n",
              "    <tr>\n",
              "      <th>max</th>\n",
              "      <td>69085710.000000000</td>\n",
              "      <td>38536.590000000</td>\n",
              "      <td>578.000000000</td>\n",
              "      <td>4.000000000</td>\n",
              "      <td>11.000000000</td>\n",
              "    </tr>\n",
              "  </tbody>\n",
              "</table>\n",
              "</div>\n",
              "      <button class=\"colab-df-convert\" onclick=\"convertToInteractive('df-59275202-2d78-4f27-aea8-51ca28c641b4')\"\n",
              "              title=\"Convert this dataframe to an interactive table.\"\n",
              "              style=\"display:none;\">\n",
              "        \n",
              "  <svg xmlns=\"http://www.w3.org/2000/svg\" height=\"24px\"viewBox=\"0 0 24 24\"\n",
              "       width=\"24px\">\n",
              "    <path d=\"M0 0h24v24H0V0z\" fill=\"none\"/>\n",
              "    <path d=\"M18.56 5.44l.94 2.06.94-2.06 2.06-.94-2.06-.94-.94-2.06-.94 2.06-2.06.94zm-11 1L8.5 8.5l.94-2.06 2.06-.94-2.06-.94L8.5 2.5l-.94 2.06-2.06.94zm10 10l.94 2.06.94-2.06 2.06-.94-2.06-.94-.94-2.06-.94 2.06-2.06.94z\"/><path d=\"M17.41 7.96l-1.37-1.37c-.4-.4-.92-.59-1.43-.59-.52 0-1.04.2-1.43.59L10.3 9.45l-7.72 7.72c-.78.78-.78 2.05 0 2.83L4 21.41c.39.39.9.59 1.41.59.51 0 1.02-.2 1.41-.59l7.78-7.78 2.81-2.81c.8-.78.8-2.07 0-2.86zM5.41 20L4 18.59l7.72-7.72 1.47 1.35L5.41 20z\"/>\n",
              "  </svg>\n",
              "      </button>\n",
              "      \n",
              "  <style>\n",
              "    .colab-df-container {\n",
              "      display:flex;\n",
              "      flex-wrap:wrap;\n",
              "      gap: 12px;\n",
              "    }\n",
              "\n",
              "    .colab-df-convert {\n",
              "      background-color: #E8F0FE;\n",
              "      border: none;\n",
              "      border-radius: 50%;\n",
              "      cursor: pointer;\n",
              "      display: none;\n",
              "      fill: #1967D2;\n",
              "      height: 32px;\n",
              "      padding: 0 0 0 0;\n",
              "      width: 32px;\n",
              "    }\n",
              "\n",
              "    .colab-df-convert:hover {\n",
              "      background-color: #E2EBFA;\n",
              "      box-shadow: 0px 1px 2px rgba(60, 64, 67, 0.3), 0px 1px 3px 1px rgba(60, 64, 67, 0.15);\n",
              "      fill: #174EA6;\n",
              "    }\n",
              "\n",
              "    [theme=dark] .colab-df-convert {\n",
              "      background-color: #3B4455;\n",
              "      fill: #D2E3FC;\n",
              "    }\n",
              "\n",
              "    [theme=dark] .colab-df-convert:hover {\n",
              "      background-color: #434B5C;\n",
              "      box-shadow: 0px 1px 3px 1px rgba(0, 0, 0, 0.15);\n",
              "      filter: drop-shadow(0px 1px 2px rgba(0, 0, 0, 0.3));\n",
              "      fill: #FFFFFF;\n",
              "    }\n",
              "  </style>\n",
              "\n",
              "      <script>\n",
              "        const buttonEl =\n",
              "          document.querySelector('#df-59275202-2d78-4f27-aea8-51ca28c641b4 button.colab-df-convert');\n",
              "        buttonEl.style.display =\n",
              "          google.colab.kernel.accessAllowed ? 'block' : 'none';\n",
              "\n",
              "        async function convertToInteractive(key) {\n",
              "          const element = document.querySelector('#df-59275202-2d78-4f27-aea8-51ca28c641b4');\n",
              "          const dataTable =\n",
              "            await google.colab.kernel.invokeFunction('convertToInteractive',\n",
              "                                                     [key], {});\n",
              "          if (!dataTable) return;\n",
              "\n",
              "          const docLinkHtml = 'Like what you see? Visit the ' +\n",
              "            '<a target=\"_blank\" href=https://colab.research.google.com/notebooks/data_table.ipynb>data table notebook</a>'\n",
              "            + ' to learn more about interactive tables.';\n",
              "          element.innerHTML = '';\n",
              "          dataTable['output_type'] = 'display_data';\n",
              "          await google.colab.output.renderOutput(dataTable, element);\n",
              "          const docLink = document.createElement('div');\n",
              "          docLink.innerHTML = docLinkHtml;\n",
              "          element.appendChild(docLink);\n",
              "        }\n",
              "      </script>\n",
              "    </div>\n",
              "  </div>\n",
              "  "
            ]
          },
          "metadata": {},
          "execution_count": 120
        }
      ]
    },
    {
      "cell_type": "markdown",
      "source": [
        "##Merge DataFrames and delete duplicates"
      ],
      "metadata": {
        "id": "A0p7w5N_lSnE"
      }
    },
    {
      "cell_type": "code",
      "source": [
        "data = pd.concat([raw_olx, raw_oto], ignore_index=True)\n",
        "data"
      ],
      "metadata": {
        "colab": {
          "base_uri": "https://localhost:8080/",
          "height": 424
        },
        "id": "e_IGiBVWlaB0",
        "outputId": "fd6daac5-2089-49a4-e5af-6aa33f772a1c"
      },
      "execution_count": 121,
      "outputs": [
        {
          "output_type": "execute_result",
          "data": {
            "text/plain": [
              "              City             Price  Price/sqr_meter          Area  \\\n",
              "0           Warsaw 1122000.000000000  17000.000000000  66.000000000   \n",
              "1           Warsaw  695000.000000000  15795.450000000  44.000000000   \n",
              "2           Warsaw  485000.000000000  11658.650000000  41.600000000   \n",
              "3           Warsaw  650000.000000000  13000.000000000  50.000000000   \n",
              "4           Warsaw  640000.000000000   5936.920000000 107.800000000   \n",
              "...            ...               ...              ...           ...   \n",
              "9197  Zielona Gora  439000.000000000   8856.000000000  49.570000000   \n",
              "9198  Zielona Gora  439000.000000000   8856.000000000  49.570000000   \n",
              "9199  Zielona Gora  439000.000000000   8856.000000000  49.570000000   \n",
              "9200  Zielona Gora  439000.000000000   8856.000000000  49.570000000   \n",
              "9201  Zielona Gora  439000.000000000   8856.000000000  49.570000000   \n",
              "\n",
              "           Rooms       Level  \n",
              "0    3.000000000 5.000000000  \n",
              "1    2.000000000 3.000000000  \n",
              "2    2.000000000 6.000000000  \n",
              "3    2.000000000 1.000000000  \n",
              "4    4.000000000 3.000000000  \n",
              "...          ...         ...  \n",
              "9197 3.000000000 1.000000000  \n",
              "9198 3.000000000 1.000000000  \n",
              "9199 3.000000000 1.000000000  \n",
              "9200 3.000000000 1.000000000  \n",
              "9201 3.000000000 1.000000000  \n",
              "\n",
              "[9202 rows x 6 columns]"
            ],
            "text/html": [
              "\n",
              "  <div id=\"df-e86496aa-5e73-48cb-98d8-b74976923fd7\">\n",
              "    <div class=\"colab-df-container\">\n",
              "      <div>\n",
              "<style scoped>\n",
              "    .dataframe tbody tr th:only-of-type {\n",
              "        vertical-align: middle;\n",
              "    }\n",
              "\n",
              "    .dataframe tbody tr th {\n",
              "        vertical-align: top;\n",
              "    }\n",
              "\n",
              "    .dataframe thead th {\n",
              "        text-align: right;\n",
              "    }\n",
              "</style>\n",
              "<table border=\"1\" class=\"dataframe\">\n",
              "  <thead>\n",
              "    <tr style=\"text-align: right;\">\n",
              "      <th></th>\n",
              "      <th>City</th>\n",
              "      <th>Price</th>\n",
              "      <th>Price/sqr_meter</th>\n",
              "      <th>Area</th>\n",
              "      <th>Rooms</th>\n",
              "      <th>Level</th>\n",
              "    </tr>\n",
              "  </thead>\n",
              "  <tbody>\n",
              "    <tr>\n",
              "      <th>0</th>\n",
              "      <td>Warsaw</td>\n",
              "      <td>1122000.000000000</td>\n",
              "      <td>17000.000000000</td>\n",
              "      <td>66.000000000</td>\n",
              "      <td>3.000000000</td>\n",
              "      <td>5.000000000</td>\n",
              "    </tr>\n",
              "    <tr>\n",
              "      <th>1</th>\n",
              "      <td>Warsaw</td>\n",
              "      <td>695000.000000000</td>\n",
              "      <td>15795.450000000</td>\n",
              "      <td>44.000000000</td>\n",
              "      <td>2.000000000</td>\n",
              "      <td>3.000000000</td>\n",
              "    </tr>\n",
              "    <tr>\n",
              "      <th>2</th>\n",
              "      <td>Warsaw</td>\n",
              "      <td>485000.000000000</td>\n",
              "      <td>11658.650000000</td>\n",
              "      <td>41.600000000</td>\n",
              "      <td>2.000000000</td>\n",
              "      <td>6.000000000</td>\n",
              "    </tr>\n",
              "    <tr>\n",
              "      <th>3</th>\n",
              "      <td>Warsaw</td>\n",
              "      <td>650000.000000000</td>\n",
              "      <td>13000.000000000</td>\n",
              "      <td>50.000000000</td>\n",
              "      <td>2.000000000</td>\n",
              "      <td>1.000000000</td>\n",
              "    </tr>\n",
              "    <tr>\n",
              "      <th>4</th>\n",
              "      <td>Warsaw</td>\n",
              "      <td>640000.000000000</td>\n",
              "      <td>5936.920000000</td>\n",
              "      <td>107.800000000</td>\n",
              "      <td>4.000000000</td>\n",
              "      <td>3.000000000</td>\n",
              "    </tr>\n",
              "    <tr>\n",
              "      <th>...</th>\n",
              "      <td>...</td>\n",
              "      <td>...</td>\n",
              "      <td>...</td>\n",
              "      <td>...</td>\n",
              "      <td>...</td>\n",
              "      <td>...</td>\n",
              "    </tr>\n",
              "    <tr>\n",
              "      <th>9197</th>\n",
              "      <td>Zielona Gora</td>\n",
              "      <td>439000.000000000</td>\n",
              "      <td>8856.000000000</td>\n",
              "      <td>49.570000000</td>\n",
              "      <td>3.000000000</td>\n",
              "      <td>1.000000000</td>\n",
              "    </tr>\n",
              "    <tr>\n",
              "      <th>9198</th>\n",
              "      <td>Zielona Gora</td>\n",
              "      <td>439000.000000000</td>\n",
              "      <td>8856.000000000</td>\n",
              "      <td>49.570000000</td>\n",
              "      <td>3.000000000</td>\n",
              "      <td>1.000000000</td>\n",
              "    </tr>\n",
              "    <tr>\n",
              "      <th>9199</th>\n",
              "      <td>Zielona Gora</td>\n",
              "      <td>439000.000000000</td>\n",
              "      <td>8856.000000000</td>\n",
              "      <td>49.570000000</td>\n",
              "      <td>3.000000000</td>\n",
              "      <td>1.000000000</td>\n",
              "    </tr>\n",
              "    <tr>\n",
              "      <th>9200</th>\n",
              "      <td>Zielona Gora</td>\n",
              "      <td>439000.000000000</td>\n",
              "      <td>8856.000000000</td>\n",
              "      <td>49.570000000</td>\n",
              "      <td>3.000000000</td>\n",
              "      <td>1.000000000</td>\n",
              "    </tr>\n",
              "    <tr>\n",
              "      <th>9201</th>\n",
              "      <td>Zielona Gora</td>\n",
              "      <td>439000.000000000</td>\n",
              "      <td>8856.000000000</td>\n",
              "      <td>49.570000000</td>\n",
              "      <td>3.000000000</td>\n",
              "      <td>1.000000000</td>\n",
              "    </tr>\n",
              "  </tbody>\n",
              "</table>\n",
              "<p>9202 rows × 6 columns</p>\n",
              "</div>\n",
              "      <button class=\"colab-df-convert\" onclick=\"convertToInteractive('df-e86496aa-5e73-48cb-98d8-b74976923fd7')\"\n",
              "              title=\"Convert this dataframe to an interactive table.\"\n",
              "              style=\"display:none;\">\n",
              "        \n",
              "  <svg xmlns=\"http://www.w3.org/2000/svg\" height=\"24px\"viewBox=\"0 0 24 24\"\n",
              "       width=\"24px\">\n",
              "    <path d=\"M0 0h24v24H0V0z\" fill=\"none\"/>\n",
              "    <path d=\"M18.56 5.44l.94 2.06.94-2.06 2.06-.94-2.06-.94-.94-2.06-.94 2.06-2.06.94zm-11 1L8.5 8.5l.94-2.06 2.06-.94-2.06-.94L8.5 2.5l-.94 2.06-2.06.94zm10 10l.94 2.06.94-2.06 2.06-.94-2.06-.94-.94-2.06-.94 2.06-2.06.94z\"/><path d=\"M17.41 7.96l-1.37-1.37c-.4-.4-.92-.59-1.43-.59-.52 0-1.04.2-1.43.59L10.3 9.45l-7.72 7.72c-.78.78-.78 2.05 0 2.83L4 21.41c.39.39.9.59 1.41.59.51 0 1.02-.2 1.41-.59l7.78-7.78 2.81-2.81c.8-.78.8-2.07 0-2.86zM5.41 20L4 18.59l7.72-7.72 1.47 1.35L5.41 20z\"/>\n",
              "  </svg>\n",
              "      </button>\n",
              "      \n",
              "  <style>\n",
              "    .colab-df-container {\n",
              "      display:flex;\n",
              "      flex-wrap:wrap;\n",
              "      gap: 12px;\n",
              "    }\n",
              "\n",
              "    .colab-df-convert {\n",
              "      background-color: #E8F0FE;\n",
              "      border: none;\n",
              "      border-radius: 50%;\n",
              "      cursor: pointer;\n",
              "      display: none;\n",
              "      fill: #1967D2;\n",
              "      height: 32px;\n",
              "      padding: 0 0 0 0;\n",
              "      width: 32px;\n",
              "    }\n",
              "\n",
              "    .colab-df-convert:hover {\n",
              "      background-color: #E2EBFA;\n",
              "      box-shadow: 0px 1px 2px rgba(60, 64, 67, 0.3), 0px 1px 3px 1px rgba(60, 64, 67, 0.15);\n",
              "      fill: #174EA6;\n",
              "    }\n",
              "\n",
              "    [theme=dark] .colab-df-convert {\n",
              "      background-color: #3B4455;\n",
              "      fill: #D2E3FC;\n",
              "    }\n",
              "\n",
              "    [theme=dark] .colab-df-convert:hover {\n",
              "      background-color: #434B5C;\n",
              "      box-shadow: 0px 1px 3px 1px rgba(0, 0, 0, 0.15);\n",
              "      filter: drop-shadow(0px 1px 2px rgba(0, 0, 0, 0.3));\n",
              "      fill: #FFFFFF;\n",
              "    }\n",
              "  </style>\n",
              "\n",
              "      <script>\n",
              "        const buttonEl =\n",
              "          document.querySelector('#df-e86496aa-5e73-48cb-98d8-b74976923fd7 button.colab-df-convert');\n",
              "        buttonEl.style.display =\n",
              "          google.colab.kernel.accessAllowed ? 'block' : 'none';\n",
              "\n",
              "        async function convertToInteractive(key) {\n",
              "          const element = document.querySelector('#df-e86496aa-5e73-48cb-98d8-b74976923fd7');\n",
              "          const dataTable =\n",
              "            await google.colab.kernel.invokeFunction('convertToInteractive',\n",
              "                                                     [key], {});\n",
              "          if (!dataTable) return;\n",
              "\n",
              "          const docLinkHtml = 'Like what you see? Visit the ' +\n",
              "            '<a target=\"_blank\" href=https://colab.research.google.com/notebooks/data_table.ipynb>data table notebook</a>'\n",
              "            + ' to learn more about interactive tables.';\n",
              "          element.innerHTML = '';\n",
              "          dataTable['output_type'] = 'display_data';\n",
              "          await google.colab.output.renderOutput(dataTable, element);\n",
              "          const docLink = document.createElement('div');\n",
              "          docLink.innerHTML = docLinkHtml;\n",
              "          element.appendChild(docLink);\n",
              "        }\n",
              "      </script>\n",
              "    </div>\n",
              "  </div>\n",
              "  "
            ]
          },
          "metadata": {},
          "execution_count": 121
        }
      ]
    },
    {
      "cell_type": "code",
      "source": [
        "data.drop_duplicates(inplace=True)"
      ],
      "metadata": {
        "id": "Nl839qOPnJv_"
      },
      "execution_count": 122,
      "outputs": []
    },
    {
      "cell_type": "code",
      "source": [
        "data.info()"
      ],
      "metadata": {
        "colab": {
          "base_uri": "https://localhost:8080/"
        },
        "id": "MglnHdJanTjP",
        "outputId": "7c31d037-d6e3-43db-daab-154454f872d8"
      },
      "execution_count": 123,
      "outputs": [
        {
          "output_type": "stream",
          "name": "stdout",
          "text": [
            "<class 'pandas.core.frame.DataFrame'>\n",
            "Int64Index: 7046 entries, 0 to 9188\n",
            "Data columns (total 6 columns):\n",
            " #   Column           Non-Null Count  Dtype  \n",
            "---  ------           --------------  -----  \n",
            " 0   City             7046 non-null   object \n",
            " 1   Price            7046 non-null   float64\n",
            " 2   Price/sqr_meter  7046 non-null   float64\n",
            " 3   Area             7046 non-null   float64\n",
            " 4   Rooms            7046 non-null   float64\n",
            " 5   Level            7046 non-null   float64\n",
            "dtypes: float64(5), object(1)\n",
            "memory usage: 385.3+ KB\n"
          ]
        }
      ]
    },
    {
      "cell_type": "code",
      "source": [
        "data.describe()"
      ],
      "metadata": {
        "colab": {
          "base_uri": "https://localhost:8080/",
          "height": 300
        },
        "id": "tY7RMKXcmrA1",
        "outputId": "cc9ba724-5b8f-4233-e283-670d7702314e"
      },
      "execution_count": 124,
      "outputs": [
        {
          "output_type": "execute_result",
          "data": {
            "text/plain": [
              "                   Price  Price/sqr_meter           Area          Rooms  \\\n",
              "count     7046.000000000   7046.000000000 7046.000000000 7046.000000000   \n",
              "mean    629179.783631848  11036.755334942   57.178071246    2.591967074   \n",
              "std     900542.433979910   3825.994410735   24.737771436    0.934619648   \n",
              "min       7600.000000000     33.130000000   12.700000000    1.000000000   \n",
              "25%     429925.000000000   8666.752500000   42.252500000    2.000000000   \n",
              "50%     548714.500000000  10450.000000000   53.000000000    3.000000000   \n",
              "75%     699000.000000000  12640.000000000   66.000000000    3.000000000   \n",
              "max   69085710.000000000  42692.000000000  578.000000000   10.000000000   \n",
              "\n",
              "               Level  \n",
              "count 7046.000000000  \n",
              "mean     2.575503832  \n",
              "std      2.376721503  \n",
              "min     -0.500000000  \n",
              "25%      1.000000000  \n",
              "50%      2.000000000  \n",
              "75%      4.000000000  \n",
              "max     11.000000000  "
            ],
            "text/html": [
              "\n",
              "  <div id=\"df-8c844452-a343-41fe-b570-b134a9651903\">\n",
              "    <div class=\"colab-df-container\">\n",
              "      <div>\n",
              "<style scoped>\n",
              "    .dataframe tbody tr th:only-of-type {\n",
              "        vertical-align: middle;\n",
              "    }\n",
              "\n",
              "    .dataframe tbody tr th {\n",
              "        vertical-align: top;\n",
              "    }\n",
              "\n",
              "    .dataframe thead th {\n",
              "        text-align: right;\n",
              "    }\n",
              "</style>\n",
              "<table border=\"1\" class=\"dataframe\">\n",
              "  <thead>\n",
              "    <tr style=\"text-align: right;\">\n",
              "      <th></th>\n",
              "      <th>Price</th>\n",
              "      <th>Price/sqr_meter</th>\n",
              "      <th>Area</th>\n",
              "      <th>Rooms</th>\n",
              "      <th>Level</th>\n",
              "    </tr>\n",
              "  </thead>\n",
              "  <tbody>\n",
              "    <tr>\n",
              "      <th>count</th>\n",
              "      <td>7046.000000000</td>\n",
              "      <td>7046.000000000</td>\n",
              "      <td>7046.000000000</td>\n",
              "      <td>7046.000000000</td>\n",
              "      <td>7046.000000000</td>\n",
              "    </tr>\n",
              "    <tr>\n",
              "      <th>mean</th>\n",
              "      <td>629179.783631848</td>\n",
              "      <td>11036.755334942</td>\n",
              "      <td>57.178071246</td>\n",
              "      <td>2.591967074</td>\n",
              "      <td>2.575503832</td>\n",
              "    </tr>\n",
              "    <tr>\n",
              "      <th>std</th>\n",
              "      <td>900542.433979910</td>\n",
              "      <td>3825.994410735</td>\n",
              "      <td>24.737771436</td>\n",
              "      <td>0.934619648</td>\n",
              "      <td>2.376721503</td>\n",
              "    </tr>\n",
              "    <tr>\n",
              "      <th>min</th>\n",
              "      <td>7600.000000000</td>\n",
              "      <td>33.130000000</td>\n",
              "      <td>12.700000000</td>\n",
              "      <td>1.000000000</td>\n",
              "      <td>-0.500000000</td>\n",
              "    </tr>\n",
              "    <tr>\n",
              "      <th>25%</th>\n",
              "      <td>429925.000000000</td>\n",
              "      <td>8666.752500000</td>\n",
              "      <td>42.252500000</td>\n",
              "      <td>2.000000000</td>\n",
              "      <td>1.000000000</td>\n",
              "    </tr>\n",
              "    <tr>\n",
              "      <th>50%</th>\n",
              "      <td>548714.500000000</td>\n",
              "      <td>10450.000000000</td>\n",
              "      <td>53.000000000</td>\n",
              "      <td>3.000000000</td>\n",
              "      <td>2.000000000</td>\n",
              "    </tr>\n",
              "    <tr>\n",
              "      <th>75%</th>\n",
              "      <td>699000.000000000</td>\n",
              "      <td>12640.000000000</td>\n",
              "      <td>66.000000000</td>\n",
              "      <td>3.000000000</td>\n",
              "      <td>4.000000000</td>\n",
              "    </tr>\n",
              "    <tr>\n",
              "      <th>max</th>\n",
              "      <td>69085710.000000000</td>\n",
              "      <td>42692.000000000</td>\n",
              "      <td>578.000000000</td>\n",
              "      <td>10.000000000</td>\n",
              "      <td>11.000000000</td>\n",
              "    </tr>\n",
              "  </tbody>\n",
              "</table>\n",
              "</div>\n",
              "      <button class=\"colab-df-convert\" onclick=\"convertToInteractive('df-8c844452-a343-41fe-b570-b134a9651903')\"\n",
              "              title=\"Convert this dataframe to an interactive table.\"\n",
              "              style=\"display:none;\">\n",
              "        \n",
              "  <svg xmlns=\"http://www.w3.org/2000/svg\" height=\"24px\"viewBox=\"0 0 24 24\"\n",
              "       width=\"24px\">\n",
              "    <path d=\"M0 0h24v24H0V0z\" fill=\"none\"/>\n",
              "    <path d=\"M18.56 5.44l.94 2.06.94-2.06 2.06-.94-2.06-.94-.94-2.06-.94 2.06-2.06.94zm-11 1L8.5 8.5l.94-2.06 2.06-.94-2.06-.94L8.5 2.5l-.94 2.06-2.06.94zm10 10l.94 2.06.94-2.06 2.06-.94-2.06-.94-.94-2.06-.94 2.06-2.06.94z\"/><path d=\"M17.41 7.96l-1.37-1.37c-.4-.4-.92-.59-1.43-.59-.52 0-1.04.2-1.43.59L10.3 9.45l-7.72 7.72c-.78.78-.78 2.05 0 2.83L4 21.41c.39.39.9.59 1.41.59.51 0 1.02-.2 1.41-.59l7.78-7.78 2.81-2.81c.8-.78.8-2.07 0-2.86zM5.41 20L4 18.59l7.72-7.72 1.47 1.35L5.41 20z\"/>\n",
              "  </svg>\n",
              "      </button>\n",
              "      \n",
              "  <style>\n",
              "    .colab-df-container {\n",
              "      display:flex;\n",
              "      flex-wrap:wrap;\n",
              "      gap: 12px;\n",
              "    }\n",
              "\n",
              "    .colab-df-convert {\n",
              "      background-color: #E8F0FE;\n",
              "      border: none;\n",
              "      border-radius: 50%;\n",
              "      cursor: pointer;\n",
              "      display: none;\n",
              "      fill: #1967D2;\n",
              "      height: 32px;\n",
              "      padding: 0 0 0 0;\n",
              "      width: 32px;\n",
              "    }\n",
              "\n",
              "    .colab-df-convert:hover {\n",
              "      background-color: #E2EBFA;\n",
              "      box-shadow: 0px 1px 2px rgba(60, 64, 67, 0.3), 0px 1px 3px 1px rgba(60, 64, 67, 0.15);\n",
              "      fill: #174EA6;\n",
              "    }\n",
              "\n",
              "    [theme=dark] .colab-df-convert {\n",
              "      background-color: #3B4455;\n",
              "      fill: #D2E3FC;\n",
              "    }\n",
              "\n",
              "    [theme=dark] .colab-df-convert:hover {\n",
              "      background-color: #434B5C;\n",
              "      box-shadow: 0px 1px 3px 1px rgba(0, 0, 0, 0.15);\n",
              "      filter: drop-shadow(0px 1px 2px rgba(0, 0, 0, 0.3));\n",
              "      fill: #FFFFFF;\n",
              "    }\n",
              "  </style>\n",
              "\n",
              "      <script>\n",
              "        const buttonEl =\n",
              "          document.querySelector('#df-8c844452-a343-41fe-b570-b134a9651903 button.colab-df-convert');\n",
              "        buttonEl.style.display =\n",
              "          google.colab.kernel.accessAllowed ? 'block' : 'none';\n",
              "\n",
              "        async function convertToInteractive(key) {\n",
              "          const element = document.querySelector('#df-8c844452-a343-41fe-b570-b134a9651903');\n",
              "          const dataTable =\n",
              "            await google.colab.kernel.invokeFunction('convertToInteractive',\n",
              "                                                     [key], {});\n",
              "          if (!dataTable) return;\n",
              "\n",
              "          const docLinkHtml = 'Like what you see? Visit the ' +\n",
              "            '<a target=\"_blank\" href=https://colab.research.google.com/notebooks/data_table.ipynb>data table notebook</a>'\n",
              "            + ' to learn more about interactive tables.';\n",
              "          element.innerHTML = '';\n",
              "          dataTable['output_type'] = 'display_data';\n",
              "          await google.colab.output.renderOutput(dataTable, element);\n",
              "          const docLink = document.createElement('div');\n",
              "          docLink.innerHTML = docLinkHtml;\n",
              "          element.appendChild(docLink);\n",
              "        }\n",
              "      </script>\n",
              "    </div>\n",
              "  </div>\n",
              "  "
            ]
          },
          "metadata": {},
          "execution_count": 124
        }
      ]
    },
    {
      "cell_type": "markdown",
      "source": [
        "**Sort DataFrame by City column**"
      ],
      "metadata": {
        "id": "o3e-e3oBsRDZ"
      }
    },
    {
      "cell_type": "code",
      "source": [
        "data.sort_values(by=['City'], inplace=True)"
      ],
      "metadata": {
        "id": "e9CD849zsG5f"
      },
      "execution_count": 125,
      "outputs": []
    },
    {
      "cell_type": "markdown",
      "source": [
        "**Rename columns**"
      ],
      "metadata": {
        "id": "DxeBpla9sMci"
      }
    },
    {
      "cell_type": "code",
      "source": [
        "data.columns = ['City', 'Price [PLN]', 'Price/sqr_meter [m^2]', 'Area [m^2]', 'Rooms', 'Level']"
      ],
      "metadata": {
        "id": "ZyBoDBUErj8F"
      },
      "execution_count": 126,
      "outputs": []
    },
    {
      "cell_type": "markdown",
      "source": [
        "##Save Data Frame into Google Drive"
      ],
      "metadata": {
        "id": "aT8Fp5Ovm_Jc"
      }
    },
    {
      "cell_type": "code",
      "source": [
        "today = date.today()\n",
        "d = today.strftime(\"%m%d%y\")"
      ],
      "metadata": {
        "id": "EU0yld-SoiAZ"
      },
      "execution_count": 127,
      "outputs": []
    },
    {
      "cell_type": "code",
      "source": [
        "xlsx = data.to_excel(f'/content/gdrive/My Drive/apartments_prices_in_poland_{d}.xlsx')\n",
        "csv = data.to_csv(f'/content/gdrive/My Drive/apartments_prices_in_poland_{d}.csv', sep=';')"
      ],
      "metadata": {
        "id": "aaOO_R58m9wY"
      },
      "execution_count": 128,
      "outputs": []
    }
  ]
}